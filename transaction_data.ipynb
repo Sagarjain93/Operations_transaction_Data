{
  "nbformat": 4,
  "nbformat_minor": 0,
  "metadata": {
    "colab": {
      "provenance": [],
      "authorship_tag": "ABX9TyPnEX+cjOnkjkCR3YsFG4Sn",
      "include_colab_link": true
    },
    "kernelspec": {
      "name": "python3",
      "display_name": "Python 3"
    },
    "language_info": {
      "name": "python"
    }
  },
  "cells": [
    {
      "cell_type": "markdown",
      "metadata": {
        "id": "view-in-github",
        "colab_type": "text"
      },
      "source": [
        "<a href=\"https://colab.research.google.com/github/Sagarjain93/Operations_transaction_Data/blob/main/transaction_data.ipynb\" target=\"_parent\"><img src=\"https://colab.research.google.com/assets/colab-badge.svg\" alt=\"Open In Colab\"/></a>"
      ]
    },
    {
      "cell_type": "markdown",
      "source": [
        "#**Project Title - Operational Transaction Data Analysis**"
      ],
      "metadata": {
        "id": "EujgOwqXeAGM"
      }
    },
    {
      "cell_type": "markdown",
      "source": [
        "#**1. Introduction**"
      ],
      "metadata": {
        "id": "Ww_y-76hd-VE"
      }
    },
    {
      "cell_type": "markdown",
      "source": [
        "This project focuses on the exploratory analysis of operational transaction data to uncover behavioral patterns, potential fraud indicators, and performance bottlenecks. The dataset comprises detailed records of digital transactions including user identifiers, transaction metadata, network characteristics (like latency and bandwidth), device information, and fraud labels. Given the integration of both financial and network-level parameters, this dataset offers a unique opportunity to analyze how operational conditions impact financial transactions, and whether they correlate with suspicious or failed activities. The aim is to derive actionable insights that can support anomaly detection, fraud prevention, and system optimization."
      ],
      "metadata": {
        "id": "oGlK6DsGhpSt"
      }
    },
    {
      "cell_type": "markdown",
      "source": [
        "*Potential Hypotheses to Explore*\n",
        "\n",
        "**Fraud Detection Hypotheses**\n",
        "\n",
        "1.Transactions with unusually high amounts have a higher chance of being fraudulent.\n",
        "\n",
        "2.Fraudulent transactions are more likely to be initiated from mobile or unknown devices.\n",
        "\n",
        "3.Transactions with higher latency or low bandwidth are more prone to fraud.\n",
        "\n",
        "**Behavioral/Usage Patterns**\n",
        "\n",
        "1.Users typically interact with a fixed set of counterparties (receiver accounts).\n",
        "\n",
        "2.Certain PIN codes (locations) show higher transaction volumes or fraud rates.\n",
        "\n",
        "**Network Impact Hypotheses**\n",
        "\n",
        "1.Higher network latency is associated with increased transaction failures.\n",
        "\n",
        "2.Specific Network Slice IDs are more commonly associated with failed or delayed transactions.\n",
        "\n",
        "**Temporal Trends**\n",
        "\n",
        "1.Fraudulent activity peaks during specific hours of the day or days of the week.\n",
        "\n",
        "2.Transaction volume is higher during business hours and lower on weekends.\n",
        "\n",
        "**Geolocation Hypotheses**\n",
        "\n",
        "1.Certain geolocations (based on latitude/longitude or PIN code) are hotspots for fraud.\n",
        "\n",
        "2.Distance between sender and receiver accounts correlates with fraud probability."
      ],
      "metadata": {
        "id": "EFws34cShp78"
      }
    },
    {
      "cell_type": "markdown",
      "source": [
        "#**2. Data Description**"
      ],
      "metadata": {
        "id": "HA3dzrrPeKjH"
      }
    },
    {
      "cell_type": "markdown",
      "source": [
        "This dataset contains transactional records from an operational system, capturing various attributes related to digital money transfers.\n",
        "\n",
        "**Transaction ID:** Unique identifier for each transaction.\n",
        "\n",
        "**Sender Account ID:** ID of the account initiating the transaction.\n",
        "\n",
        "**Receiver Account ID:** ID of the account receiving the funds.\n",
        "\n",
        "**Transaction Amount:** Monetary value involved in the transaction.\n",
        "\n",
        "**Transaction Type:** Type/category of the transaction (e.g., transfer, withdrawal, deposit).\n",
        "\n",
        "**Timestamp:** Date and time when the transaction occurred.\n",
        "\n",
        "**Transaction Status:** Status of the transaction (e.g., success, failed, pending).\n",
        "\n",
        "**Fraud Flag:** Binary indicator (1 = fraudulent, 0 = genuine).\n",
        "\n",
        "**Geolocation (Latitude/Longitude):** Coordinates of the transaction origin.\n",
        "\n",
        "**Device Used:** Device type used to perform the transaction (e.g., mobile, desktop).\n",
        "\n",
        "**Network Slice ID:** ID of the network slice allocated during the transaction (5G context).\n",
        "\n",
        "**Latency (ms):** Network latency experienced during the transaction.\n",
        "\n",
        "**Slice Bandwidth (Mbps):** Bandwidth available via the assigned network slice.\n",
        "\n",
        "**PIN Code:** Postal code of the user’s location during the transaction."
      ],
      "metadata": {
        "id": "UyXOnoLVgBHi"
      }
    },
    {
      "cell_type": "markdown",
      "source": [
        "#**3. Import Libraries**"
      ],
      "metadata": {
        "id": "qN6OV6BweSZ9"
      }
    },
    {
      "cell_type": "code",
      "source": [
        "#Data Manipulation Libraries\n",
        "import pandas as pd\n",
        "import numpy as np\n",
        "\n",
        "#Data Visualization Libraries\n",
        "import matplotlib.pyplot as plt\n",
        "import seaborn as sns\n",
        "\n",
        "#Set Consistent theme for all plots\n",
        "sns.set_theme(style=\"whitegrid\")"
      ],
      "metadata": {
        "id": "5Q5Ts9KyeZFM"
      },
      "execution_count": 30,
      "outputs": []
    },
    {
      "cell_type": "code",
      "source": [
        "from google.colab import drive\n",
        "drive.mount('/content/drive')"
      ],
      "metadata": {
        "colab": {
          "base_uri": "https://localhost:8080/"
        },
        "id": "zxDk4iHfexln",
        "outputId": "50007885-328b-45e9-b7d0-7f63cc09b737"
      },
      "execution_count": 31,
      "outputs": [
        {
          "output_type": "stream",
          "name": "stdout",
          "text": [
            "Drive already mounted at /content/drive; to attempt to forcibly remount, call drive.mount(\"/content/drive\", force_remount=True).\n"
          ]
        }
      ]
    },
    {
      "cell_type": "markdown",
      "source": [
        "#**4. Load Dataset**"
      ],
      "metadata": {
        "id": "ifAGPegwfQCi"
      }
    },
    {
      "cell_type": "markdown",
      "source": [
        "\n",
        "To begin the analysis, the marketing dataset is loaded directly from Google Drive. This approach ensures convenient access to the data stored in the cloud, especially when working in collaborative or cloud-based environments like Google Colab. By mounting Google Drive or using a shareable link, we can seamlessly import the dataset into our workspace for further processing and analysis."
      ],
      "metadata": {
        "id": "8KooexkdfZJg"
      }
    },
    {
      "cell_type": "code",
      "source": [
        "df = pd.read_csv('/content/drive/MyDrive/colab/eda/8. Operations/transaction_data.csv')"
      ],
      "metadata": {
        "id": "zygbAccYfZxr"
      },
      "execution_count": 32,
      "outputs": []
    },
    {
      "cell_type": "code",
      "source": [
        "df.columns\n"
      ],
      "metadata": {
        "colab": {
          "base_uri": "https://localhost:8080/"
        },
        "id": "DfYK7j6kf0Oo",
        "outputId": "b67deed2-ad19-49d6-dd0b-baedf27f25e2"
      },
      "execution_count": 33,
      "outputs": [
        {
          "output_type": "execute_result",
          "data": {
            "text/plain": [
              "Index(['Transaction ID', 'Sender Account ID', 'Receiver Account ID',\n",
              "       'Transaction Amount', 'Transaction Type', 'Timestamp',\n",
              "       'Transaction Status', 'Fraud Flag', 'Geolocation (Latitude/Longitude)',\n",
              "       'Device Used', 'Network Slice ID', 'Latency (ms)',\n",
              "       'Slice Bandwidth (Mbps)', 'PIN Code'],\n",
              "      dtype='object')"
            ]
          },
          "metadata": {},
          "execution_count": 33
        }
      ]
    },
    {
      "cell_type": "markdown",
      "source": [
        "#**5. Inital Data Inspection**"
      ],
      "metadata": {
        "id": "lzANGB4HieHT"
      }
    },
    {
      "cell_type": "markdown",
      "source": [
        "To gain a foundational understanding of the dataset, we begin with an initial inspection that covers several essential aspects. This includes previewing the first few records to get a sense of the structure and values, examining the data types of each feature to ensure they align with expectations, and reviewing the overall shape and completeness of the dataset. We also generate statistical summaries for both numerical and categorical features to identify distributions, detect potential anomalies, and guide further steps in the analysis pipeline."
      ],
      "metadata": {
        "id": "cxTJ99e9ip5Q"
      }
    },
    {
      "cell_type": "markdown",
      "source": [
        "###**5.1 Preview 1st Few Records**"
      ],
      "metadata": {
        "id": "9gG3Q6bEjXab"
      }
    },
    {
      "cell_type": "code",
      "source": [
        "# Show First 5 rows of the data set\n",
        "df.head()"
      ],
      "metadata": {
        "colab": {
          "base_uri": "https://localhost:8080/",
          "height": 327
        },
        "collapsed": true,
        "id": "QrLeMgvXjSo3",
        "outputId": "cffe00a1-81a5-4825-e96c-d37cb2364c97"
      },
      "execution_count": 34,
      "outputs": [
        {
          "output_type": "execute_result",
          "data": {
            "text/plain": [
              "  Transaction ID Sender Account ID Receiver Account ID  Transaction Amount  \\\n",
              "0  TXN9520068950          ACC14994            ACC16656              495.90   \n",
              "1  TXN9412011085          ACC58958            ACC32826              529.62   \n",
              "2  TXN4407425052          ACC56321            ACC92481              862.47   \n",
              "3  TXN2214150284          ACC48650            ACC76457             1129.88   \n",
              "4  TXN4247571145          ACC60921            ACC11419              933.24   \n",
              "\n",
              "  Transaction Type            Timestamp Transaction Status  Fraud Flag  \\\n",
              "0          Deposit  2025-01-17 10:14:00             Failed        True   \n",
              "1       Withdrawal  2025-01-17 10:51:00            Success       False   \n",
              "2       Withdrawal  2025-01-17 10:50:00             Failed       False   \n",
              "3         Transfer  2025-01-17 10:56:00            Success        True   \n",
              "4          Deposit  2025-01-17 10:25:00            Success        True   \n",
              "\n",
              "  Geolocation (Latitude/Longitude) Device Used Network Slice ID  Latency (ms)  \\\n",
              "0             34.0522 N, -74.006 W     Desktop           Slice3            10   \n",
              "1           35.6895 N, -118.2437 W      Mobile           Slice2            11   \n",
              "2              48.8566 N, 2.3522 W      Mobile           Slice1             4   \n",
              "3             34.0522 N, -74.006 W      Mobile           Slice3            10   \n",
              "4             55.7558 N, 37.6173 W      Mobile           Slice3            20   \n",
              "\n",
              "   Slice Bandwidth (Mbps)  PIN Code  \n",
              "0                     179      3075  \n",
              "1                      89      2369  \n",
              "2                      53      8039  \n",
              "3                     127      6374  \n",
              "4                     191      8375  "
            ],
            "text/html": [
              "\n",
              "  <div id=\"df-e463d2b3-09a0-49eb-848c-bd8e8102cc55\" class=\"colab-df-container\">\n",
              "    <div>\n",
              "<style scoped>\n",
              "    .dataframe tbody tr th:only-of-type {\n",
              "        vertical-align: middle;\n",
              "    }\n",
              "\n",
              "    .dataframe tbody tr th {\n",
              "        vertical-align: top;\n",
              "    }\n",
              "\n",
              "    .dataframe thead th {\n",
              "        text-align: right;\n",
              "    }\n",
              "</style>\n",
              "<table border=\"1\" class=\"dataframe\">\n",
              "  <thead>\n",
              "    <tr style=\"text-align: right;\">\n",
              "      <th></th>\n",
              "      <th>Transaction ID</th>\n",
              "      <th>Sender Account ID</th>\n",
              "      <th>Receiver Account ID</th>\n",
              "      <th>Transaction Amount</th>\n",
              "      <th>Transaction Type</th>\n",
              "      <th>Timestamp</th>\n",
              "      <th>Transaction Status</th>\n",
              "      <th>Fraud Flag</th>\n",
              "      <th>Geolocation (Latitude/Longitude)</th>\n",
              "      <th>Device Used</th>\n",
              "      <th>Network Slice ID</th>\n",
              "      <th>Latency (ms)</th>\n",
              "      <th>Slice Bandwidth (Mbps)</th>\n",
              "      <th>PIN Code</th>\n",
              "    </tr>\n",
              "  </thead>\n",
              "  <tbody>\n",
              "    <tr>\n",
              "      <th>0</th>\n",
              "      <td>TXN9520068950</td>\n",
              "      <td>ACC14994</td>\n",
              "      <td>ACC16656</td>\n",
              "      <td>495.90</td>\n",
              "      <td>Deposit</td>\n",
              "      <td>2025-01-17 10:14:00</td>\n",
              "      <td>Failed</td>\n",
              "      <td>True</td>\n",
              "      <td>34.0522 N, -74.006 W</td>\n",
              "      <td>Desktop</td>\n",
              "      <td>Slice3</td>\n",
              "      <td>10</td>\n",
              "      <td>179</td>\n",
              "      <td>3075</td>\n",
              "    </tr>\n",
              "    <tr>\n",
              "      <th>1</th>\n",
              "      <td>TXN9412011085</td>\n",
              "      <td>ACC58958</td>\n",
              "      <td>ACC32826</td>\n",
              "      <td>529.62</td>\n",
              "      <td>Withdrawal</td>\n",
              "      <td>2025-01-17 10:51:00</td>\n",
              "      <td>Success</td>\n",
              "      <td>False</td>\n",
              "      <td>35.6895 N, -118.2437 W</td>\n",
              "      <td>Mobile</td>\n",
              "      <td>Slice2</td>\n",
              "      <td>11</td>\n",
              "      <td>89</td>\n",
              "      <td>2369</td>\n",
              "    </tr>\n",
              "    <tr>\n",
              "      <th>2</th>\n",
              "      <td>TXN4407425052</td>\n",
              "      <td>ACC56321</td>\n",
              "      <td>ACC92481</td>\n",
              "      <td>862.47</td>\n",
              "      <td>Withdrawal</td>\n",
              "      <td>2025-01-17 10:50:00</td>\n",
              "      <td>Failed</td>\n",
              "      <td>False</td>\n",
              "      <td>48.8566 N, 2.3522 W</td>\n",
              "      <td>Mobile</td>\n",
              "      <td>Slice1</td>\n",
              "      <td>4</td>\n",
              "      <td>53</td>\n",
              "      <td>8039</td>\n",
              "    </tr>\n",
              "    <tr>\n",
              "      <th>3</th>\n",
              "      <td>TXN2214150284</td>\n",
              "      <td>ACC48650</td>\n",
              "      <td>ACC76457</td>\n",
              "      <td>1129.88</td>\n",
              "      <td>Transfer</td>\n",
              "      <td>2025-01-17 10:56:00</td>\n",
              "      <td>Success</td>\n",
              "      <td>True</td>\n",
              "      <td>34.0522 N, -74.006 W</td>\n",
              "      <td>Mobile</td>\n",
              "      <td>Slice3</td>\n",
              "      <td>10</td>\n",
              "      <td>127</td>\n",
              "      <td>6374</td>\n",
              "    </tr>\n",
              "    <tr>\n",
              "      <th>4</th>\n",
              "      <td>TXN4247571145</td>\n",
              "      <td>ACC60921</td>\n",
              "      <td>ACC11419</td>\n",
              "      <td>933.24</td>\n",
              "      <td>Deposit</td>\n",
              "      <td>2025-01-17 10:25:00</td>\n",
              "      <td>Success</td>\n",
              "      <td>True</td>\n",
              "      <td>55.7558 N, 37.6173 W</td>\n",
              "      <td>Mobile</td>\n",
              "      <td>Slice3</td>\n",
              "      <td>20</td>\n",
              "      <td>191</td>\n",
              "      <td>8375</td>\n",
              "    </tr>\n",
              "  </tbody>\n",
              "</table>\n",
              "</div>\n",
              "    <div class=\"colab-df-buttons\">\n",
              "\n",
              "  <div class=\"colab-df-container\">\n",
              "    <button class=\"colab-df-convert\" onclick=\"convertToInteractive('df-e463d2b3-09a0-49eb-848c-bd8e8102cc55')\"\n",
              "            title=\"Convert this dataframe to an interactive table.\"\n",
              "            style=\"display:none;\">\n",
              "\n",
              "  <svg xmlns=\"http://www.w3.org/2000/svg\" height=\"24px\" viewBox=\"0 -960 960 960\">\n",
              "    <path d=\"M120-120v-720h720v720H120Zm60-500h600v-160H180v160Zm220 220h160v-160H400v160Zm0 220h160v-160H400v160ZM180-400h160v-160H180v160Zm440 0h160v-160H620v160ZM180-180h160v-160H180v160Zm440 0h160v-160H620v160Z\"/>\n",
              "  </svg>\n",
              "    </button>\n",
              "\n",
              "  <style>\n",
              "    .colab-df-container {\n",
              "      display:flex;\n",
              "      gap: 12px;\n",
              "    }\n",
              "\n",
              "    .colab-df-convert {\n",
              "      background-color: #E8F0FE;\n",
              "      border: none;\n",
              "      border-radius: 50%;\n",
              "      cursor: pointer;\n",
              "      display: none;\n",
              "      fill: #1967D2;\n",
              "      height: 32px;\n",
              "      padding: 0 0 0 0;\n",
              "      width: 32px;\n",
              "    }\n",
              "\n",
              "    .colab-df-convert:hover {\n",
              "      background-color: #E2EBFA;\n",
              "      box-shadow: 0px 1px 2px rgba(60, 64, 67, 0.3), 0px 1px 3px 1px rgba(60, 64, 67, 0.15);\n",
              "      fill: #174EA6;\n",
              "    }\n",
              "\n",
              "    .colab-df-buttons div {\n",
              "      margin-bottom: 4px;\n",
              "    }\n",
              "\n",
              "    [theme=dark] .colab-df-convert {\n",
              "      background-color: #3B4455;\n",
              "      fill: #D2E3FC;\n",
              "    }\n",
              "\n",
              "    [theme=dark] .colab-df-convert:hover {\n",
              "      background-color: #434B5C;\n",
              "      box-shadow: 0px 1px 3px 1px rgba(0, 0, 0, 0.15);\n",
              "      filter: drop-shadow(0px 1px 2px rgba(0, 0, 0, 0.3));\n",
              "      fill: #FFFFFF;\n",
              "    }\n",
              "  </style>\n",
              "\n",
              "    <script>\n",
              "      const buttonEl =\n",
              "        document.querySelector('#df-e463d2b3-09a0-49eb-848c-bd8e8102cc55 button.colab-df-convert');\n",
              "      buttonEl.style.display =\n",
              "        google.colab.kernel.accessAllowed ? 'block' : 'none';\n",
              "\n",
              "      async function convertToInteractive(key) {\n",
              "        const element = document.querySelector('#df-e463d2b3-09a0-49eb-848c-bd8e8102cc55');\n",
              "        const dataTable =\n",
              "          await google.colab.kernel.invokeFunction('convertToInteractive',\n",
              "                                                    [key], {});\n",
              "        if (!dataTable) return;\n",
              "\n",
              "        const docLinkHtml = 'Like what you see? Visit the ' +\n",
              "          '<a target=\"_blank\" href=https://colab.research.google.com/notebooks/data_table.ipynb>data table notebook</a>'\n",
              "          + ' to learn more about interactive tables.';\n",
              "        element.innerHTML = '';\n",
              "        dataTable['output_type'] = 'display_data';\n",
              "        await google.colab.output.renderOutput(dataTable, element);\n",
              "        const docLink = document.createElement('div');\n",
              "        docLink.innerHTML = docLinkHtml;\n",
              "        element.appendChild(docLink);\n",
              "      }\n",
              "    </script>\n",
              "  </div>\n",
              "\n",
              "\n",
              "    <div id=\"df-c09c047f-c029-4217-9abd-5eda81c9bfc4\">\n",
              "      <button class=\"colab-df-quickchart\" onclick=\"quickchart('df-c09c047f-c029-4217-9abd-5eda81c9bfc4')\"\n",
              "                title=\"Suggest charts\"\n",
              "                style=\"display:none;\">\n",
              "\n",
              "<svg xmlns=\"http://www.w3.org/2000/svg\" height=\"24px\"viewBox=\"0 0 24 24\"\n",
              "     width=\"24px\">\n",
              "    <g>\n",
              "        <path d=\"M19 3H5c-1.1 0-2 .9-2 2v14c0 1.1.9 2 2 2h14c1.1 0 2-.9 2-2V5c0-1.1-.9-2-2-2zM9 17H7v-7h2v7zm4 0h-2V7h2v10zm4 0h-2v-4h2v4z\"/>\n",
              "    </g>\n",
              "</svg>\n",
              "      </button>\n",
              "\n",
              "<style>\n",
              "  .colab-df-quickchart {\n",
              "      --bg-color: #E8F0FE;\n",
              "      --fill-color: #1967D2;\n",
              "      --hover-bg-color: #E2EBFA;\n",
              "      --hover-fill-color: #174EA6;\n",
              "      --disabled-fill-color: #AAA;\n",
              "      --disabled-bg-color: #DDD;\n",
              "  }\n",
              "\n",
              "  [theme=dark] .colab-df-quickchart {\n",
              "      --bg-color: #3B4455;\n",
              "      --fill-color: #D2E3FC;\n",
              "      --hover-bg-color: #434B5C;\n",
              "      --hover-fill-color: #FFFFFF;\n",
              "      --disabled-bg-color: #3B4455;\n",
              "      --disabled-fill-color: #666;\n",
              "  }\n",
              "\n",
              "  .colab-df-quickchart {\n",
              "    background-color: var(--bg-color);\n",
              "    border: none;\n",
              "    border-radius: 50%;\n",
              "    cursor: pointer;\n",
              "    display: none;\n",
              "    fill: var(--fill-color);\n",
              "    height: 32px;\n",
              "    padding: 0;\n",
              "    width: 32px;\n",
              "  }\n",
              "\n",
              "  .colab-df-quickchart:hover {\n",
              "    background-color: var(--hover-bg-color);\n",
              "    box-shadow: 0 1px 2px rgba(60, 64, 67, 0.3), 0 1px 3px 1px rgba(60, 64, 67, 0.15);\n",
              "    fill: var(--button-hover-fill-color);\n",
              "  }\n",
              "\n",
              "  .colab-df-quickchart-complete:disabled,\n",
              "  .colab-df-quickchart-complete:disabled:hover {\n",
              "    background-color: var(--disabled-bg-color);\n",
              "    fill: var(--disabled-fill-color);\n",
              "    box-shadow: none;\n",
              "  }\n",
              "\n",
              "  .colab-df-spinner {\n",
              "    border: 2px solid var(--fill-color);\n",
              "    border-color: transparent;\n",
              "    border-bottom-color: var(--fill-color);\n",
              "    animation:\n",
              "      spin 1s steps(1) infinite;\n",
              "  }\n",
              "\n",
              "  @keyframes spin {\n",
              "    0% {\n",
              "      border-color: transparent;\n",
              "      border-bottom-color: var(--fill-color);\n",
              "      border-left-color: var(--fill-color);\n",
              "    }\n",
              "    20% {\n",
              "      border-color: transparent;\n",
              "      border-left-color: var(--fill-color);\n",
              "      border-top-color: var(--fill-color);\n",
              "    }\n",
              "    30% {\n",
              "      border-color: transparent;\n",
              "      border-left-color: var(--fill-color);\n",
              "      border-top-color: var(--fill-color);\n",
              "      border-right-color: var(--fill-color);\n",
              "    }\n",
              "    40% {\n",
              "      border-color: transparent;\n",
              "      border-right-color: var(--fill-color);\n",
              "      border-top-color: var(--fill-color);\n",
              "    }\n",
              "    60% {\n",
              "      border-color: transparent;\n",
              "      border-right-color: var(--fill-color);\n",
              "    }\n",
              "    80% {\n",
              "      border-color: transparent;\n",
              "      border-right-color: var(--fill-color);\n",
              "      border-bottom-color: var(--fill-color);\n",
              "    }\n",
              "    90% {\n",
              "      border-color: transparent;\n",
              "      border-bottom-color: var(--fill-color);\n",
              "    }\n",
              "  }\n",
              "</style>\n",
              "\n",
              "      <script>\n",
              "        async function quickchart(key) {\n",
              "          const quickchartButtonEl =\n",
              "            document.querySelector('#' + key + ' button');\n",
              "          quickchartButtonEl.disabled = true;  // To prevent multiple clicks.\n",
              "          quickchartButtonEl.classList.add('colab-df-spinner');\n",
              "          try {\n",
              "            const charts = await google.colab.kernel.invokeFunction(\n",
              "                'suggestCharts', [key], {});\n",
              "          } catch (error) {\n",
              "            console.error('Error during call to suggestCharts:', error);\n",
              "          }\n",
              "          quickchartButtonEl.classList.remove('colab-df-spinner');\n",
              "          quickchartButtonEl.classList.add('colab-df-quickchart-complete');\n",
              "        }\n",
              "        (() => {\n",
              "          let quickchartButtonEl =\n",
              "            document.querySelector('#df-c09c047f-c029-4217-9abd-5eda81c9bfc4 button');\n",
              "          quickchartButtonEl.style.display =\n",
              "            google.colab.kernel.accessAllowed ? 'block' : 'none';\n",
              "        })();\n",
              "      </script>\n",
              "    </div>\n",
              "\n",
              "    </div>\n",
              "  </div>\n"
            ],
            "application/vnd.google.colaboratory.intrinsic+json": {
              "type": "dataframe",
              "variable_name": "df",
              "summary": "{\n  \"name\": \"df\",\n  \"rows\": 1000,\n  \"fields\": [\n    {\n      \"column\": \"Transaction ID\",\n      \"properties\": {\n        \"dtype\": \"string\",\n        \"num_unique_values\": 1000,\n        \"samples\": [\n          \"TXN1724458969\",\n          \"TXN1328647070\",\n          \"TXN3895765690\"\n        ],\n        \"semantic_type\": \"\",\n        \"description\": \"\"\n      }\n    },\n    {\n      \"column\": \"Sender Account ID\",\n      \"properties\": {\n        \"dtype\": \"string\",\n        \"num_unique_values\": 994,\n        \"samples\": [\n          \"ACC31607\",\n          \"ACC37253\",\n          \"ACC51110\"\n        ],\n        \"semantic_type\": \"\",\n        \"description\": \"\"\n      }\n    },\n    {\n      \"column\": \"Receiver Account ID\",\n      \"properties\": {\n        \"dtype\": \"string\",\n        \"num_unique_values\": 994,\n        \"samples\": [\n          \"ACC40732\",\n          \"ACC11656\",\n          \"ACC90800\"\n        ],\n        \"semantic_type\": \"\",\n        \"description\": \"\"\n      }\n    },\n    {\n      \"column\": \"Transaction Amount\",\n      \"properties\": {\n        \"dtype\": \"number\",\n        \"std\": 411.019249802274,\n        \"min\": 51.89,\n        \"max\": 1497.76,\n        \"num_unique_values\": 998,\n        \"samples\": [\n          131.53,\n          974.06,\n          1365.35\n        ],\n        \"semantic_type\": \"\",\n        \"description\": \"\"\n      }\n    },\n    {\n      \"column\": \"Transaction Type\",\n      \"properties\": {\n        \"dtype\": \"category\",\n        \"num_unique_values\": 3,\n        \"samples\": [\n          \"Deposit\",\n          \"Withdrawal\",\n          \"Transfer\"\n        ],\n        \"semantic_type\": \"\",\n        \"description\": \"\"\n      }\n    },\n    {\n      \"column\": \"Timestamp\",\n      \"properties\": {\n        \"dtype\": \"object\",\n        \"num_unique_values\": 60,\n        \"samples\": [\n          \"2025-01-17 10:14:00\",\n          \"2025-01-17 10:01:00\",\n          \"2025-01-17 10:44:00\"\n        ],\n        \"semantic_type\": \"\",\n        \"description\": \"\"\n      }\n    },\n    {\n      \"column\": \"Transaction Status\",\n      \"properties\": {\n        \"dtype\": \"category\",\n        \"num_unique_values\": 2,\n        \"samples\": [\n          \"Success\",\n          \"Failed\"\n        ],\n        \"semantic_type\": \"\",\n        \"description\": \"\"\n      }\n    },\n    {\n      \"column\": \"Fraud Flag\",\n      \"properties\": {\n        \"dtype\": \"boolean\",\n        \"num_unique_values\": 2,\n        \"samples\": [\n          false,\n          true\n        ],\n        \"semantic_type\": \"\",\n        \"description\": \"\"\n      }\n    },\n    {\n      \"column\": \"Geolocation (Latitude/Longitude)\",\n      \"properties\": {\n        \"dtype\": \"category\",\n        \"num_unique_values\": 36,\n        \"samples\": [\n          \"51.5074 N, 2.3522 W\",\n          \"51.5074 N, 0.1278 W\"\n        ],\n        \"semantic_type\": \"\",\n        \"description\": \"\"\n      }\n    },\n    {\n      \"column\": \"Device Used\",\n      \"properties\": {\n        \"dtype\": \"category\",\n        \"num_unique_values\": 2,\n        \"samples\": [\n          \"Mobile\",\n          \"Desktop\"\n        ],\n        \"semantic_type\": \"\",\n        \"description\": \"\"\n      }\n    },\n    {\n      \"column\": \"Network Slice ID\",\n      \"properties\": {\n        \"dtype\": \"category\",\n        \"num_unique_values\": 3,\n        \"samples\": [\n          \"Slice3\",\n          \"Slice2\"\n        ],\n        \"semantic_type\": \"\",\n        \"description\": \"\"\n      }\n    },\n    {\n      \"column\": \"Latency (ms)\",\n      \"properties\": {\n        \"dtype\": \"number\",\n        \"std\": 5,\n        \"min\": 3,\n        \"max\": 20,\n        \"num_unique_values\": 18,\n        \"samples\": [\n          10,\n          11\n        ],\n        \"semantic_type\": \"\",\n        \"description\": \"\"\n      }\n    },\n    {\n      \"column\": \"Slice Bandwidth (Mbps)\",\n      \"properties\": {\n        \"dtype\": \"number\",\n        \"std\": 57,\n        \"min\": 50,\n        \"max\": 250,\n        \"num_unique_values\": 199,\n        \"samples\": [\n          59,\n          82\n        ],\n        \"semantic_type\": \"\",\n        \"description\": \"\"\n      }\n    },\n    {\n      \"column\": \"PIN Code\",\n      \"properties\": {\n        \"dtype\": \"number\",\n        \"std\": 2603,\n        \"min\": 1000,\n        \"max\": 9999,\n        \"num_unique_values\": 948,\n        \"samples\": [\n          5751,\n          5983\n        ],\n        \"semantic_type\": \"\",\n        \"description\": \"\"\n      }\n    }\n  ]\n}"
            }
          },
          "metadata": {},
          "execution_count": 34
        }
      ]
    },
    {
      "cell_type": "markdown",
      "source": [
        "###**5.2 Check the Dataset Shape**"
      ],
      "metadata": {
        "id": "QoTGg0LLmdmW"
      }
    },
    {
      "cell_type": "code",
      "source": [
        "df.shape"
      ],
      "metadata": {
        "colab": {
          "base_uri": "https://localhost:8080/"
        },
        "id": "dS-9oWoRmmkW",
        "outputId": "a56402d5-0f63-4756-e1d1-815d4779d0f8"
      },
      "execution_count": 35,
      "outputs": [
        {
          "output_type": "execute_result",
          "data": {
            "text/plain": [
              "(1000, 14)"
            ]
          },
          "metadata": {},
          "execution_count": 35
        }
      ]
    },
    {
      "cell_type": "markdown",
      "source": [
        "**Interpretation** - *The Dataset has 1000 rows and 14 columns*"
      ],
      "metadata": {
        "id": "a_iU1pEWmpyn"
      }
    },
    {
      "cell_type": "markdown",
      "source": [
        "### **5.3 Dataset Summary Overview**\n",
        "\n",
        "Check for missing values and data types of each column."
      ],
      "metadata": {
        "id": "rwoRg20u5otx"
      }
    },
    {
      "cell_type": "code",
      "source": [
        "df.info()"
      ],
      "metadata": {
        "colab": {
          "base_uri": "https://localhost:8080/"
        },
        "id": "2EDExFJn51o5",
        "outputId": "62dfe835-10ea-4be3-c7ca-9ad9b617e2f2"
      },
      "execution_count": 36,
      "outputs": [
        {
          "output_type": "stream",
          "name": "stdout",
          "text": [
            "<class 'pandas.core.frame.DataFrame'>\n",
            "RangeIndex: 1000 entries, 0 to 999\n",
            "Data columns (total 14 columns):\n",
            " #   Column                            Non-Null Count  Dtype  \n",
            "---  ------                            --------------  -----  \n",
            " 0   Transaction ID                    1000 non-null   object \n",
            " 1   Sender Account ID                 1000 non-null   object \n",
            " 2   Receiver Account ID               1000 non-null   object \n",
            " 3   Transaction Amount                1000 non-null   float64\n",
            " 4   Transaction Type                  1000 non-null   object \n",
            " 5   Timestamp                         1000 non-null   object \n",
            " 6   Transaction Status                1000 non-null   object \n",
            " 7   Fraud Flag                        1000 non-null   bool   \n",
            " 8   Geolocation (Latitude/Longitude)  1000 non-null   object \n",
            " 9   Device Used                       1000 non-null   object \n",
            " 10  Network Slice ID                  1000 non-null   object \n",
            " 11  Latency (ms)                      1000 non-null   int64  \n",
            " 12  Slice Bandwidth (Mbps)            1000 non-null   int64  \n",
            " 13  PIN Code                          1000 non-null   int64  \n",
            "dtypes: bool(1), float64(1), int64(3), object(9)\n",
            "memory usage: 102.7+ KB\n"
          ]
        }
      ]
    },
    {
      "cell_type": "markdown",
      "source": [
        "**Interpretation:** From the output, we see all columns have 1000 non-null values. The data types look correct, with latency,slice bandwidth,pincode as integers and categorical columns as objects. This suggests minimal to no missing data that we may need to handle before analysis."
      ],
      "metadata": {
        "id": "k_ft4lmQ54Sn"
      }
    },
    {
      "cell_type": "markdown",
      "source": [
        "###**5.4. Statistical Summary of Numeric Columns**\n",
        "\n",
        "Generating statistical summary of numerical columns to understand their distribution, central tendency, and spread across the dataset."
      ],
      "metadata": {
        "id": "n5AUc6DfoKNs"
      }
    },
    {
      "cell_type": "code",
      "source": [
        "df.select_dtypes(include='number').describe()"
      ],
      "metadata": {
        "colab": {
          "base_uri": "https://localhost:8080/",
          "height": 300
        },
        "collapsed": true,
        "id": "LHCcfMtFoUyL",
        "outputId": "da30715d-4f4b-401e-ca99-2d5408d201b0"
      },
      "execution_count": 37,
      "outputs": [
        {
          "output_type": "execute_result",
          "data": {
            "text/plain": [
              "       Transaction Amount  Latency (ms)  Slice Bandwidth (Mbps)    PIN Code\n",
              "count          1000.00000   1000.000000              1000.00000  1000.00000\n",
              "mean            771.16529     11.688000               148.51100  5458.66600\n",
              "std             411.01925      5.131958                57.78634  2603.03646\n",
              "min              51.89000      3.000000                50.00000  1000.00000\n",
              "25%             423.34750      7.000000                98.00000  3281.75000\n",
              "50%             761.65500     12.000000               148.00000  5385.50000\n",
              "75%            1122.67250     16.000000               198.25000  7535.00000\n",
              "max            1497.76000     20.000000               250.00000  9999.00000"
            ],
            "text/html": [
              "\n",
              "  <div id=\"df-67c1161e-3578-4df6-9bb1-e83ead9fd687\" class=\"colab-df-container\">\n",
              "    <div>\n",
              "<style scoped>\n",
              "    .dataframe tbody tr th:only-of-type {\n",
              "        vertical-align: middle;\n",
              "    }\n",
              "\n",
              "    .dataframe tbody tr th {\n",
              "        vertical-align: top;\n",
              "    }\n",
              "\n",
              "    .dataframe thead th {\n",
              "        text-align: right;\n",
              "    }\n",
              "</style>\n",
              "<table border=\"1\" class=\"dataframe\">\n",
              "  <thead>\n",
              "    <tr style=\"text-align: right;\">\n",
              "      <th></th>\n",
              "      <th>Transaction Amount</th>\n",
              "      <th>Latency (ms)</th>\n",
              "      <th>Slice Bandwidth (Mbps)</th>\n",
              "      <th>PIN Code</th>\n",
              "    </tr>\n",
              "  </thead>\n",
              "  <tbody>\n",
              "    <tr>\n",
              "      <th>count</th>\n",
              "      <td>1000.00000</td>\n",
              "      <td>1000.000000</td>\n",
              "      <td>1000.00000</td>\n",
              "      <td>1000.00000</td>\n",
              "    </tr>\n",
              "    <tr>\n",
              "      <th>mean</th>\n",
              "      <td>771.16529</td>\n",
              "      <td>11.688000</td>\n",
              "      <td>148.51100</td>\n",
              "      <td>5458.66600</td>\n",
              "    </tr>\n",
              "    <tr>\n",
              "      <th>std</th>\n",
              "      <td>411.01925</td>\n",
              "      <td>5.131958</td>\n",
              "      <td>57.78634</td>\n",
              "      <td>2603.03646</td>\n",
              "    </tr>\n",
              "    <tr>\n",
              "      <th>min</th>\n",
              "      <td>51.89000</td>\n",
              "      <td>3.000000</td>\n",
              "      <td>50.00000</td>\n",
              "      <td>1000.00000</td>\n",
              "    </tr>\n",
              "    <tr>\n",
              "      <th>25%</th>\n",
              "      <td>423.34750</td>\n",
              "      <td>7.000000</td>\n",
              "      <td>98.00000</td>\n",
              "      <td>3281.75000</td>\n",
              "    </tr>\n",
              "    <tr>\n",
              "      <th>50%</th>\n",
              "      <td>761.65500</td>\n",
              "      <td>12.000000</td>\n",
              "      <td>148.00000</td>\n",
              "      <td>5385.50000</td>\n",
              "    </tr>\n",
              "    <tr>\n",
              "      <th>75%</th>\n",
              "      <td>1122.67250</td>\n",
              "      <td>16.000000</td>\n",
              "      <td>198.25000</td>\n",
              "      <td>7535.00000</td>\n",
              "    </tr>\n",
              "    <tr>\n",
              "      <th>max</th>\n",
              "      <td>1497.76000</td>\n",
              "      <td>20.000000</td>\n",
              "      <td>250.00000</td>\n",
              "      <td>9999.00000</td>\n",
              "    </tr>\n",
              "  </tbody>\n",
              "</table>\n",
              "</div>\n",
              "    <div class=\"colab-df-buttons\">\n",
              "\n",
              "  <div class=\"colab-df-container\">\n",
              "    <button class=\"colab-df-convert\" onclick=\"convertToInteractive('df-67c1161e-3578-4df6-9bb1-e83ead9fd687')\"\n",
              "            title=\"Convert this dataframe to an interactive table.\"\n",
              "            style=\"display:none;\">\n",
              "\n",
              "  <svg xmlns=\"http://www.w3.org/2000/svg\" height=\"24px\" viewBox=\"0 -960 960 960\">\n",
              "    <path d=\"M120-120v-720h720v720H120Zm60-500h600v-160H180v160Zm220 220h160v-160H400v160Zm0 220h160v-160H400v160ZM180-400h160v-160H180v160Zm440 0h160v-160H620v160ZM180-180h160v-160H180v160Zm440 0h160v-160H620v160Z\"/>\n",
              "  </svg>\n",
              "    </button>\n",
              "\n",
              "  <style>\n",
              "    .colab-df-container {\n",
              "      display:flex;\n",
              "      gap: 12px;\n",
              "    }\n",
              "\n",
              "    .colab-df-convert {\n",
              "      background-color: #E8F0FE;\n",
              "      border: none;\n",
              "      border-radius: 50%;\n",
              "      cursor: pointer;\n",
              "      display: none;\n",
              "      fill: #1967D2;\n",
              "      height: 32px;\n",
              "      padding: 0 0 0 0;\n",
              "      width: 32px;\n",
              "    }\n",
              "\n",
              "    .colab-df-convert:hover {\n",
              "      background-color: #E2EBFA;\n",
              "      box-shadow: 0px 1px 2px rgba(60, 64, 67, 0.3), 0px 1px 3px 1px rgba(60, 64, 67, 0.15);\n",
              "      fill: #174EA6;\n",
              "    }\n",
              "\n",
              "    .colab-df-buttons div {\n",
              "      margin-bottom: 4px;\n",
              "    }\n",
              "\n",
              "    [theme=dark] .colab-df-convert {\n",
              "      background-color: #3B4455;\n",
              "      fill: #D2E3FC;\n",
              "    }\n",
              "\n",
              "    [theme=dark] .colab-df-convert:hover {\n",
              "      background-color: #434B5C;\n",
              "      box-shadow: 0px 1px 3px 1px rgba(0, 0, 0, 0.15);\n",
              "      filter: drop-shadow(0px 1px 2px rgba(0, 0, 0, 0.3));\n",
              "      fill: #FFFFFF;\n",
              "    }\n",
              "  </style>\n",
              "\n",
              "    <script>\n",
              "      const buttonEl =\n",
              "        document.querySelector('#df-67c1161e-3578-4df6-9bb1-e83ead9fd687 button.colab-df-convert');\n",
              "      buttonEl.style.display =\n",
              "        google.colab.kernel.accessAllowed ? 'block' : 'none';\n",
              "\n",
              "      async function convertToInteractive(key) {\n",
              "        const element = document.querySelector('#df-67c1161e-3578-4df6-9bb1-e83ead9fd687');\n",
              "        const dataTable =\n",
              "          await google.colab.kernel.invokeFunction('convertToInteractive',\n",
              "                                                    [key], {});\n",
              "        if (!dataTable) return;\n",
              "\n",
              "        const docLinkHtml = 'Like what you see? Visit the ' +\n",
              "          '<a target=\"_blank\" href=https://colab.research.google.com/notebooks/data_table.ipynb>data table notebook</a>'\n",
              "          + ' to learn more about interactive tables.';\n",
              "        element.innerHTML = '';\n",
              "        dataTable['output_type'] = 'display_data';\n",
              "        await google.colab.output.renderOutput(dataTable, element);\n",
              "        const docLink = document.createElement('div');\n",
              "        docLink.innerHTML = docLinkHtml;\n",
              "        element.appendChild(docLink);\n",
              "      }\n",
              "    </script>\n",
              "  </div>\n",
              "\n",
              "\n",
              "    <div id=\"df-affbfb50-6ee0-41d5-8e58-087e44fc4ed9\">\n",
              "      <button class=\"colab-df-quickchart\" onclick=\"quickchart('df-affbfb50-6ee0-41d5-8e58-087e44fc4ed9')\"\n",
              "                title=\"Suggest charts\"\n",
              "                style=\"display:none;\">\n",
              "\n",
              "<svg xmlns=\"http://www.w3.org/2000/svg\" height=\"24px\"viewBox=\"0 0 24 24\"\n",
              "     width=\"24px\">\n",
              "    <g>\n",
              "        <path d=\"M19 3H5c-1.1 0-2 .9-2 2v14c0 1.1.9 2 2 2h14c1.1 0 2-.9 2-2V5c0-1.1-.9-2-2-2zM9 17H7v-7h2v7zm4 0h-2V7h2v10zm4 0h-2v-4h2v4z\"/>\n",
              "    </g>\n",
              "</svg>\n",
              "      </button>\n",
              "\n",
              "<style>\n",
              "  .colab-df-quickchart {\n",
              "      --bg-color: #E8F0FE;\n",
              "      --fill-color: #1967D2;\n",
              "      --hover-bg-color: #E2EBFA;\n",
              "      --hover-fill-color: #174EA6;\n",
              "      --disabled-fill-color: #AAA;\n",
              "      --disabled-bg-color: #DDD;\n",
              "  }\n",
              "\n",
              "  [theme=dark] .colab-df-quickchart {\n",
              "      --bg-color: #3B4455;\n",
              "      --fill-color: #D2E3FC;\n",
              "      --hover-bg-color: #434B5C;\n",
              "      --hover-fill-color: #FFFFFF;\n",
              "      --disabled-bg-color: #3B4455;\n",
              "      --disabled-fill-color: #666;\n",
              "  }\n",
              "\n",
              "  .colab-df-quickchart {\n",
              "    background-color: var(--bg-color);\n",
              "    border: none;\n",
              "    border-radius: 50%;\n",
              "    cursor: pointer;\n",
              "    display: none;\n",
              "    fill: var(--fill-color);\n",
              "    height: 32px;\n",
              "    padding: 0;\n",
              "    width: 32px;\n",
              "  }\n",
              "\n",
              "  .colab-df-quickchart:hover {\n",
              "    background-color: var(--hover-bg-color);\n",
              "    box-shadow: 0 1px 2px rgba(60, 64, 67, 0.3), 0 1px 3px 1px rgba(60, 64, 67, 0.15);\n",
              "    fill: var(--button-hover-fill-color);\n",
              "  }\n",
              "\n",
              "  .colab-df-quickchart-complete:disabled,\n",
              "  .colab-df-quickchart-complete:disabled:hover {\n",
              "    background-color: var(--disabled-bg-color);\n",
              "    fill: var(--disabled-fill-color);\n",
              "    box-shadow: none;\n",
              "  }\n",
              "\n",
              "  .colab-df-spinner {\n",
              "    border: 2px solid var(--fill-color);\n",
              "    border-color: transparent;\n",
              "    border-bottom-color: var(--fill-color);\n",
              "    animation:\n",
              "      spin 1s steps(1) infinite;\n",
              "  }\n",
              "\n",
              "  @keyframes spin {\n",
              "    0% {\n",
              "      border-color: transparent;\n",
              "      border-bottom-color: var(--fill-color);\n",
              "      border-left-color: var(--fill-color);\n",
              "    }\n",
              "    20% {\n",
              "      border-color: transparent;\n",
              "      border-left-color: var(--fill-color);\n",
              "      border-top-color: var(--fill-color);\n",
              "    }\n",
              "    30% {\n",
              "      border-color: transparent;\n",
              "      border-left-color: var(--fill-color);\n",
              "      border-top-color: var(--fill-color);\n",
              "      border-right-color: var(--fill-color);\n",
              "    }\n",
              "    40% {\n",
              "      border-color: transparent;\n",
              "      border-right-color: var(--fill-color);\n",
              "      border-top-color: var(--fill-color);\n",
              "    }\n",
              "    60% {\n",
              "      border-color: transparent;\n",
              "      border-right-color: var(--fill-color);\n",
              "    }\n",
              "    80% {\n",
              "      border-color: transparent;\n",
              "      border-right-color: var(--fill-color);\n",
              "      border-bottom-color: var(--fill-color);\n",
              "    }\n",
              "    90% {\n",
              "      border-color: transparent;\n",
              "      border-bottom-color: var(--fill-color);\n",
              "    }\n",
              "  }\n",
              "</style>\n",
              "\n",
              "      <script>\n",
              "        async function quickchart(key) {\n",
              "          const quickchartButtonEl =\n",
              "            document.querySelector('#' + key + ' button');\n",
              "          quickchartButtonEl.disabled = true;  // To prevent multiple clicks.\n",
              "          quickchartButtonEl.classList.add('colab-df-spinner');\n",
              "          try {\n",
              "            const charts = await google.colab.kernel.invokeFunction(\n",
              "                'suggestCharts', [key], {});\n",
              "          } catch (error) {\n",
              "            console.error('Error during call to suggestCharts:', error);\n",
              "          }\n",
              "          quickchartButtonEl.classList.remove('colab-df-spinner');\n",
              "          quickchartButtonEl.classList.add('colab-df-quickchart-complete');\n",
              "        }\n",
              "        (() => {\n",
              "          let quickchartButtonEl =\n",
              "            document.querySelector('#df-affbfb50-6ee0-41d5-8e58-087e44fc4ed9 button');\n",
              "          quickchartButtonEl.style.display =\n",
              "            google.colab.kernel.accessAllowed ? 'block' : 'none';\n",
              "        })();\n",
              "      </script>\n",
              "    </div>\n",
              "\n",
              "    </div>\n",
              "  </div>\n"
            ],
            "application/vnd.google.colaboratory.intrinsic+json": {
              "type": "dataframe",
              "summary": "{\n  \"name\": \"df\",\n  \"rows\": 8,\n  \"fields\": [\n    {\n      \"column\": \"Transaction Amount\",\n      \"properties\": {\n        \"dtype\": \"number\",\n        \"std\": 458.2397796812079,\n        \"min\": 51.89,\n        \"max\": 1497.76,\n        \"num_unique_values\": 8,\n        \"samples\": [\n          771.16529,\n          761.655,\n          1000.0\n        ],\n        \"semantic_type\": \"\",\n        \"description\": \"\"\n      }\n    },\n    {\n      \"column\": \"Latency (ms)\",\n      \"properties\": {\n        \"dtype\": \"number\",\n        \"std\": 349.8195868833224,\n        \"min\": 3.0,\n        \"max\": 1000.0,\n        \"num_unique_values\": 8,\n        \"samples\": [\n          11.688,\n          12.0,\n          1000.0\n        ],\n        \"semantic_type\": \"\",\n        \"description\": \"\"\n      }\n    },\n    {\n      \"column\": \"Slice Bandwidth (Mbps)\",\n      \"properties\": {\n        \"dtype\": \"number\",\n        \"std\": 312.9642779374718,\n        \"min\": 50.0,\n        \"max\": 1000.0,\n        \"num_unique_values\": 8,\n        \"samples\": [\n          148.511,\n          148.0,\n          1000.0\n        ],\n        \"semantic_type\": \"\",\n        \"description\": \"\"\n      }\n    },\n    {\n      \"column\": \"PIN Code\",\n      \"properties\": {\n        \"dtype\": \"number\",\n        \"std\": 3178.664083390024,\n        \"min\": 1000.0,\n        \"max\": 9999.0,\n        \"num_unique_values\": 7,\n        \"samples\": [\n          1000.0,\n          5458.666,\n          7535.0\n        ],\n        \"semantic_type\": \"\",\n        \"description\": \"\"\n      }\n    }\n  ]\n}"
            }
          },
          "metadata": {},
          "execution_count": 37
        }
      ]
    },
    {
      "cell_type": "markdown",
      "source": [
        "###**5.5. Statistical Summary of Category Columns**\n",
        "\n",
        "Generating summary of categorical features to understand unique values, frequency distribution, and potential data quality issues."
      ],
      "metadata": {
        "id": "Tbw70MHXpCkQ"
      }
    },
    {
      "cell_type": "code",
      "source": [
        "df.select_dtypes(include='object').describe()"
      ],
      "metadata": {
        "collapsed": true,
        "colab": {
          "base_uri": "https://localhost:8080/",
          "height": 209
        },
        "id": "StlJkXqDpIt1",
        "outputId": "915bb827-7810-4ca5-d3e4-0c58a8cd7c0e"
      },
      "execution_count": 38,
      "outputs": [
        {
          "output_type": "execute_result",
          "data": {
            "text/plain": [
              "       Transaction ID Sender Account ID Receiver Account ID Transaction Type  \\\n",
              "count            1000              1000                1000             1000   \n",
              "unique           1000               994                 994                3   \n",
              "top     TXN3992032184          ACC71245            ACC36934         Transfer   \n",
              "freq                1                 2                   2              374   \n",
              "\n",
              "                  Timestamp Transaction Status  \\\n",
              "count                  1000               1000   \n",
              "unique                   60                  2   \n",
              "top     2025-01-17 10:55:00             Failed   \n",
              "freq                     28                513   \n",
              "\n",
              "       Geolocation (Latitude/Longitude) Device Used Network Slice ID  \n",
              "count                              1000        1000             1000  \n",
              "unique                               36           2                3  \n",
              "top               48.8566 N, 139.6917 W      Mobile           Slice2  \n",
              "freq                                 42         521              340  "
            ],
            "text/html": [
              "\n",
              "  <div id=\"df-9947566d-e52e-4eed-b0f1-667e9bb60a67\" class=\"colab-df-container\">\n",
              "    <div>\n",
              "<style scoped>\n",
              "    .dataframe tbody tr th:only-of-type {\n",
              "        vertical-align: middle;\n",
              "    }\n",
              "\n",
              "    .dataframe tbody tr th {\n",
              "        vertical-align: top;\n",
              "    }\n",
              "\n",
              "    .dataframe thead th {\n",
              "        text-align: right;\n",
              "    }\n",
              "</style>\n",
              "<table border=\"1\" class=\"dataframe\">\n",
              "  <thead>\n",
              "    <tr style=\"text-align: right;\">\n",
              "      <th></th>\n",
              "      <th>Transaction ID</th>\n",
              "      <th>Sender Account ID</th>\n",
              "      <th>Receiver Account ID</th>\n",
              "      <th>Transaction Type</th>\n",
              "      <th>Timestamp</th>\n",
              "      <th>Transaction Status</th>\n",
              "      <th>Geolocation (Latitude/Longitude)</th>\n",
              "      <th>Device Used</th>\n",
              "      <th>Network Slice ID</th>\n",
              "    </tr>\n",
              "  </thead>\n",
              "  <tbody>\n",
              "    <tr>\n",
              "      <th>count</th>\n",
              "      <td>1000</td>\n",
              "      <td>1000</td>\n",
              "      <td>1000</td>\n",
              "      <td>1000</td>\n",
              "      <td>1000</td>\n",
              "      <td>1000</td>\n",
              "      <td>1000</td>\n",
              "      <td>1000</td>\n",
              "      <td>1000</td>\n",
              "    </tr>\n",
              "    <tr>\n",
              "      <th>unique</th>\n",
              "      <td>1000</td>\n",
              "      <td>994</td>\n",
              "      <td>994</td>\n",
              "      <td>3</td>\n",
              "      <td>60</td>\n",
              "      <td>2</td>\n",
              "      <td>36</td>\n",
              "      <td>2</td>\n",
              "      <td>3</td>\n",
              "    </tr>\n",
              "    <tr>\n",
              "      <th>top</th>\n",
              "      <td>TXN3992032184</td>\n",
              "      <td>ACC71245</td>\n",
              "      <td>ACC36934</td>\n",
              "      <td>Transfer</td>\n",
              "      <td>2025-01-17 10:55:00</td>\n",
              "      <td>Failed</td>\n",
              "      <td>48.8566 N, 139.6917 W</td>\n",
              "      <td>Mobile</td>\n",
              "      <td>Slice2</td>\n",
              "    </tr>\n",
              "    <tr>\n",
              "      <th>freq</th>\n",
              "      <td>1</td>\n",
              "      <td>2</td>\n",
              "      <td>2</td>\n",
              "      <td>374</td>\n",
              "      <td>28</td>\n",
              "      <td>513</td>\n",
              "      <td>42</td>\n",
              "      <td>521</td>\n",
              "      <td>340</td>\n",
              "    </tr>\n",
              "  </tbody>\n",
              "</table>\n",
              "</div>\n",
              "    <div class=\"colab-df-buttons\">\n",
              "\n",
              "  <div class=\"colab-df-container\">\n",
              "    <button class=\"colab-df-convert\" onclick=\"convertToInteractive('df-9947566d-e52e-4eed-b0f1-667e9bb60a67')\"\n",
              "            title=\"Convert this dataframe to an interactive table.\"\n",
              "            style=\"display:none;\">\n",
              "\n",
              "  <svg xmlns=\"http://www.w3.org/2000/svg\" height=\"24px\" viewBox=\"0 -960 960 960\">\n",
              "    <path d=\"M120-120v-720h720v720H120Zm60-500h600v-160H180v160Zm220 220h160v-160H400v160Zm0 220h160v-160H400v160ZM180-400h160v-160H180v160Zm440 0h160v-160H620v160ZM180-180h160v-160H180v160Zm440 0h160v-160H620v160Z\"/>\n",
              "  </svg>\n",
              "    </button>\n",
              "\n",
              "  <style>\n",
              "    .colab-df-container {\n",
              "      display:flex;\n",
              "      gap: 12px;\n",
              "    }\n",
              "\n",
              "    .colab-df-convert {\n",
              "      background-color: #E8F0FE;\n",
              "      border: none;\n",
              "      border-radius: 50%;\n",
              "      cursor: pointer;\n",
              "      display: none;\n",
              "      fill: #1967D2;\n",
              "      height: 32px;\n",
              "      padding: 0 0 0 0;\n",
              "      width: 32px;\n",
              "    }\n",
              "\n",
              "    .colab-df-convert:hover {\n",
              "      background-color: #E2EBFA;\n",
              "      box-shadow: 0px 1px 2px rgba(60, 64, 67, 0.3), 0px 1px 3px 1px rgba(60, 64, 67, 0.15);\n",
              "      fill: #174EA6;\n",
              "    }\n",
              "\n",
              "    .colab-df-buttons div {\n",
              "      margin-bottom: 4px;\n",
              "    }\n",
              "\n",
              "    [theme=dark] .colab-df-convert {\n",
              "      background-color: #3B4455;\n",
              "      fill: #D2E3FC;\n",
              "    }\n",
              "\n",
              "    [theme=dark] .colab-df-convert:hover {\n",
              "      background-color: #434B5C;\n",
              "      box-shadow: 0px 1px 3px 1px rgba(0, 0, 0, 0.15);\n",
              "      filter: drop-shadow(0px 1px 2px rgba(0, 0, 0, 0.3));\n",
              "      fill: #FFFFFF;\n",
              "    }\n",
              "  </style>\n",
              "\n",
              "    <script>\n",
              "      const buttonEl =\n",
              "        document.querySelector('#df-9947566d-e52e-4eed-b0f1-667e9bb60a67 button.colab-df-convert');\n",
              "      buttonEl.style.display =\n",
              "        google.colab.kernel.accessAllowed ? 'block' : 'none';\n",
              "\n",
              "      async function convertToInteractive(key) {\n",
              "        const element = document.querySelector('#df-9947566d-e52e-4eed-b0f1-667e9bb60a67');\n",
              "        const dataTable =\n",
              "          await google.colab.kernel.invokeFunction('convertToInteractive',\n",
              "                                                    [key], {});\n",
              "        if (!dataTable) return;\n",
              "\n",
              "        const docLinkHtml = 'Like what you see? Visit the ' +\n",
              "          '<a target=\"_blank\" href=https://colab.research.google.com/notebooks/data_table.ipynb>data table notebook</a>'\n",
              "          + ' to learn more about interactive tables.';\n",
              "        element.innerHTML = '';\n",
              "        dataTable['output_type'] = 'display_data';\n",
              "        await google.colab.output.renderOutput(dataTable, element);\n",
              "        const docLink = document.createElement('div');\n",
              "        docLink.innerHTML = docLinkHtml;\n",
              "        element.appendChild(docLink);\n",
              "      }\n",
              "    </script>\n",
              "  </div>\n",
              "\n",
              "\n",
              "    <div id=\"df-e08e1859-40b7-43b1-a908-512cca269cec\">\n",
              "      <button class=\"colab-df-quickchart\" onclick=\"quickchart('df-e08e1859-40b7-43b1-a908-512cca269cec')\"\n",
              "                title=\"Suggest charts\"\n",
              "                style=\"display:none;\">\n",
              "\n",
              "<svg xmlns=\"http://www.w3.org/2000/svg\" height=\"24px\"viewBox=\"0 0 24 24\"\n",
              "     width=\"24px\">\n",
              "    <g>\n",
              "        <path d=\"M19 3H5c-1.1 0-2 .9-2 2v14c0 1.1.9 2 2 2h14c1.1 0 2-.9 2-2V5c0-1.1-.9-2-2-2zM9 17H7v-7h2v7zm4 0h-2V7h2v10zm4 0h-2v-4h2v4z\"/>\n",
              "    </g>\n",
              "</svg>\n",
              "      </button>\n",
              "\n",
              "<style>\n",
              "  .colab-df-quickchart {\n",
              "      --bg-color: #E8F0FE;\n",
              "      --fill-color: #1967D2;\n",
              "      --hover-bg-color: #E2EBFA;\n",
              "      --hover-fill-color: #174EA6;\n",
              "      --disabled-fill-color: #AAA;\n",
              "      --disabled-bg-color: #DDD;\n",
              "  }\n",
              "\n",
              "  [theme=dark] .colab-df-quickchart {\n",
              "      --bg-color: #3B4455;\n",
              "      --fill-color: #D2E3FC;\n",
              "      --hover-bg-color: #434B5C;\n",
              "      --hover-fill-color: #FFFFFF;\n",
              "      --disabled-bg-color: #3B4455;\n",
              "      --disabled-fill-color: #666;\n",
              "  }\n",
              "\n",
              "  .colab-df-quickchart {\n",
              "    background-color: var(--bg-color);\n",
              "    border: none;\n",
              "    border-radius: 50%;\n",
              "    cursor: pointer;\n",
              "    display: none;\n",
              "    fill: var(--fill-color);\n",
              "    height: 32px;\n",
              "    padding: 0;\n",
              "    width: 32px;\n",
              "  }\n",
              "\n",
              "  .colab-df-quickchart:hover {\n",
              "    background-color: var(--hover-bg-color);\n",
              "    box-shadow: 0 1px 2px rgba(60, 64, 67, 0.3), 0 1px 3px 1px rgba(60, 64, 67, 0.15);\n",
              "    fill: var(--button-hover-fill-color);\n",
              "  }\n",
              "\n",
              "  .colab-df-quickchart-complete:disabled,\n",
              "  .colab-df-quickchart-complete:disabled:hover {\n",
              "    background-color: var(--disabled-bg-color);\n",
              "    fill: var(--disabled-fill-color);\n",
              "    box-shadow: none;\n",
              "  }\n",
              "\n",
              "  .colab-df-spinner {\n",
              "    border: 2px solid var(--fill-color);\n",
              "    border-color: transparent;\n",
              "    border-bottom-color: var(--fill-color);\n",
              "    animation:\n",
              "      spin 1s steps(1) infinite;\n",
              "  }\n",
              "\n",
              "  @keyframes spin {\n",
              "    0% {\n",
              "      border-color: transparent;\n",
              "      border-bottom-color: var(--fill-color);\n",
              "      border-left-color: var(--fill-color);\n",
              "    }\n",
              "    20% {\n",
              "      border-color: transparent;\n",
              "      border-left-color: var(--fill-color);\n",
              "      border-top-color: var(--fill-color);\n",
              "    }\n",
              "    30% {\n",
              "      border-color: transparent;\n",
              "      border-left-color: var(--fill-color);\n",
              "      border-top-color: var(--fill-color);\n",
              "      border-right-color: var(--fill-color);\n",
              "    }\n",
              "    40% {\n",
              "      border-color: transparent;\n",
              "      border-right-color: var(--fill-color);\n",
              "      border-top-color: var(--fill-color);\n",
              "    }\n",
              "    60% {\n",
              "      border-color: transparent;\n",
              "      border-right-color: var(--fill-color);\n",
              "    }\n",
              "    80% {\n",
              "      border-color: transparent;\n",
              "      border-right-color: var(--fill-color);\n",
              "      border-bottom-color: var(--fill-color);\n",
              "    }\n",
              "    90% {\n",
              "      border-color: transparent;\n",
              "      border-bottom-color: var(--fill-color);\n",
              "    }\n",
              "  }\n",
              "</style>\n",
              "\n",
              "      <script>\n",
              "        async function quickchart(key) {\n",
              "          const quickchartButtonEl =\n",
              "            document.querySelector('#' + key + ' button');\n",
              "          quickchartButtonEl.disabled = true;  // To prevent multiple clicks.\n",
              "          quickchartButtonEl.classList.add('colab-df-spinner');\n",
              "          try {\n",
              "            const charts = await google.colab.kernel.invokeFunction(\n",
              "                'suggestCharts', [key], {});\n",
              "          } catch (error) {\n",
              "            console.error('Error during call to suggestCharts:', error);\n",
              "          }\n",
              "          quickchartButtonEl.classList.remove('colab-df-spinner');\n",
              "          quickchartButtonEl.classList.add('colab-df-quickchart-complete');\n",
              "        }\n",
              "        (() => {\n",
              "          let quickchartButtonEl =\n",
              "            document.querySelector('#df-e08e1859-40b7-43b1-a908-512cca269cec button');\n",
              "          quickchartButtonEl.style.display =\n",
              "            google.colab.kernel.accessAllowed ? 'block' : 'none';\n",
              "        })();\n",
              "      </script>\n",
              "    </div>\n",
              "\n",
              "    </div>\n",
              "  </div>\n"
            ],
            "application/vnd.google.colaboratory.intrinsic+json": {
              "type": "dataframe",
              "summary": "{\n  \"name\": \"df\",\n  \"rows\": 4,\n  \"fields\": [\n    {\n      \"column\": \"Transaction ID\",\n      \"properties\": {\n        \"dtype\": \"string\",\n        \"num_unique_values\": 3,\n        \"samples\": [\n          \"1000\",\n          \"TXN3992032184\",\n          \"1\"\n        ],\n        \"semantic_type\": \"\",\n        \"description\": \"\"\n      }\n    },\n    {\n      \"column\": \"Sender Account ID\",\n      \"properties\": {\n        \"dtype\": \"string\",\n        \"num_unique_values\": 4,\n        \"samples\": [\n          994,\n          \"2\",\n          \"1000\"\n        ],\n        \"semantic_type\": \"\",\n        \"description\": \"\"\n      }\n    },\n    {\n      \"column\": \"Receiver Account ID\",\n      \"properties\": {\n        \"dtype\": \"string\",\n        \"num_unique_values\": 4,\n        \"samples\": [\n          994,\n          \"2\",\n          \"1000\"\n        ],\n        \"semantic_type\": \"\",\n        \"description\": \"\"\n      }\n    },\n    {\n      \"column\": \"Transaction Type\",\n      \"properties\": {\n        \"dtype\": \"string\",\n        \"num_unique_values\": 4,\n        \"samples\": [\n          3,\n          \"374\",\n          \"1000\"\n        ],\n        \"semantic_type\": \"\",\n        \"description\": \"\"\n      }\n    },\n    {\n      \"column\": \"Timestamp\",\n      \"properties\": {\n        \"dtype\": \"date\",\n        \"min\": \"1970-01-01 00:00:00.000000028\",\n        \"max\": \"2025-01-17 10:55:00\",\n        \"num_unique_values\": 4,\n        \"samples\": [\n          60,\n          \"28\",\n          \"1000\"\n        ],\n        \"semantic_type\": \"\",\n        \"description\": \"\"\n      }\n    },\n    {\n      \"column\": \"Transaction Status\",\n      \"properties\": {\n        \"dtype\": \"string\",\n        \"num_unique_values\": 4,\n        \"samples\": [\n          2,\n          \"513\",\n          \"1000\"\n        ],\n        \"semantic_type\": \"\",\n        \"description\": \"\"\n      }\n    },\n    {\n      \"column\": \"Geolocation (Latitude/Longitude)\",\n      \"properties\": {\n        \"dtype\": \"string\",\n        \"num_unique_values\": 4,\n        \"samples\": [\n          36,\n          \"42\",\n          \"1000\"\n        ],\n        \"semantic_type\": \"\",\n        \"description\": \"\"\n      }\n    },\n    {\n      \"column\": \"Device Used\",\n      \"properties\": {\n        \"dtype\": \"string\",\n        \"num_unique_values\": 4,\n        \"samples\": [\n          2,\n          \"521\",\n          \"1000\"\n        ],\n        \"semantic_type\": \"\",\n        \"description\": \"\"\n      }\n    },\n    {\n      \"column\": \"Network Slice ID\",\n      \"properties\": {\n        \"dtype\": \"string\",\n        \"num_unique_values\": 4,\n        \"samples\": [\n          3,\n          \"340\",\n          \"1000\"\n        ],\n        \"semantic_type\": \"\",\n        \"description\": \"\"\n      }\n    }\n  ]\n}"
            }
          },
          "metadata": {},
          "execution_count": 38
        }
      ]
    },
    {
      "cell_type": "markdown",
      "source": [
        "#**6. Data Cleaning And Preprocessing**"
      ],
      "metadata": {
        "id": "sarzDvP_sRtO"
      }
    },
    {
      "cell_type": "markdown",
      "source": [
        "In this section, we focus on identifying and handling issues such as missing values, incorrect data types, duplicates, and inconsistent entries. Effective data cleaning ensures the dataset is accurate, complete, and ready for reliable analysis.\n",
        "\n"
      ],
      "metadata": {
        "id": "WhoHpjKGsWhs"
      }
    },
    {
      "cell_type": "markdown",
      "source": [
        "##**6.1 Fix Data Types**"
      ],
      "metadata": {
        "id": "L7t5YvnQsinJ"
      }
    },
    {
      "cell_type": "code",
      "source": [
        "df.dtypes"
      ],
      "metadata": {
        "colab": {
          "base_uri": "https://localhost:8080/",
          "height": 523
        },
        "collapsed": true,
        "id": "3aX-YfMCsn3n",
        "outputId": "d4f5fb49-6016-4c75-8074-ea2decc91bf0"
      },
      "execution_count": 39,
      "outputs": [
        {
          "output_type": "execute_result",
          "data": {
            "text/plain": [
              "Transaction ID                       object\n",
              "Sender Account ID                    object\n",
              "Receiver Account ID                  object\n",
              "Transaction Amount                  float64\n",
              "Transaction Type                     object\n",
              "Timestamp                            object\n",
              "Transaction Status                   object\n",
              "Fraud Flag                             bool\n",
              "Geolocation (Latitude/Longitude)     object\n",
              "Device Used                          object\n",
              "Network Slice ID                     object\n",
              "Latency (ms)                          int64\n",
              "Slice Bandwidth (Mbps)                int64\n",
              "PIN Code                              int64\n",
              "dtype: object"
            ],
            "text/html": [
              "<div>\n",
              "<style scoped>\n",
              "    .dataframe tbody tr th:only-of-type {\n",
              "        vertical-align: middle;\n",
              "    }\n",
              "\n",
              "    .dataframe tbody tr th {\n",
              "        vertical-align: top;\n",
              "    }\n",
              "\n",
              "    .dataframe thead th {\n",
              "        text-align: right;\n",
              "    }\n",
              "</style>\n",
              "<table border=\"1\" class=\"dataframe\">\n",
              "  <thead>\n",
              "    <tr style=\"text-align: right;\">\n",
              "      <th></th>\n",
              "      <th>0</th>\n",
              "    </tr>\n",
              "  </thead>\n",
              "  <tbody>\n",
              "    <tr>\n",
              "      <th>Transaction ID</th>\n",
              "      <td>object</td>\n",
              "    </tr>\n",
              "    <tr>\n",
              "      <th>Sender Account ID</th>\n",
              "      <td>object</td>\n",
              "    </tr>\n",
              "    <tr>\n",
              "      <th>Receiver Account ID</th>\n",
              "      <td>object</td>\n",
              "    </tr>\n",
              "    <tr>\n",
              "      <th>Transaction Amount</th>\n",
              "      <td>float64</td>\n",
              "    </tr>\n",
              "    <tr>\n",
              "      <th>Transaction Type</th>\n",
              "      <td>object</td>\n",
              "    </tr>\n",
              "    <tr>\n",
              "      <th>Timestamp</th>\n",
              "      <td>object</td>\n",
              "    </tr>\n",
              "    <tr>\n",
              "      <th>Transaction Status</th>\n",
              "      <td>object</td>\n",
              "    </tr>\n",
              "    <tr>\n",
              "      <th>Fraud Flag</th>\n",
              "      <td>bool</td>\n",
              "    </tr>\n",
              "    <tr>\n",
              "      <th>Geolocation (Latitude/Longitude)</th>\n",
              "      <td>object</td>\n",
              "    </tr>\n",
              "    <tr>\n",
              "      <th>Device Used</th>\n",
              "      <td>object</td>\n",
              "    </tr>\n",
              "    <tr>\n",
              "      <th>Network Slice ID</th>\n",
              "      <td>object</td>\n",
              "    </tr>\n",
              "    <tr>\n",
              "      <th>Latency (ms)</th>\n",
              "      <td>int64</td>\n",
              "    </tr>\n",
              "    <tr>\n",
              "      <th>Slice Bandwidth (Mbps)</th>\n",
              "      <td>int64</td>\n",
              "    </tr>\n",
              "    <tr>\n",
              "      <th>PIN Code</th>\n",
              "      <td>int64</td>\n",
              "    </tr>\n",
              "  </tbody>\n",
              "</table>\n",
              "</div><br><label><b>dtype:</b> object</label>"
            ]
          },
          "metadata": {},
          "execution_count": 39
        }
      ]
    },
    {
      "cell_type": "markdown",
      "source": [
        "**Interpretation** - *The datatype of timestamp column needs to be converted to datetime datatype*"
      ],
      "metadata": {
        "id": "bXmtQgJ2tImc"
      }
    },
    {
      "cell_type": "code",
      "source": [
        "# Convert 'Timestamp' to datetime\n",
        "df['Timestamp'] = pd.to_datetime(df['Timestamp'], errors='coerce')\n"
      ],
      "metadata": {
        "id": "-XbnD9jUtHFC"
      },
      "execution_count": 40,
      "outputs": []
    },
    {
      "cell_type": "markdown",
      "source": [
        "##**6.2 Handling Missing Values**"
      ],
      "metadata": {
        "id": "f5ozcam_tegY"
      }
    },
    {
      "cell_type": "markdown",
      "source": [
        "Identifying and addressing missing values to ensure data completeness and reliability for accurate analysis."
      ],
      "metadata": {
        "id": "F8M9DoqstkmV"
      }
    },
    {
      "cell_type": "code",
      "source": [
        "df.isnull().sum()"
      ],
      "metadata": {
        "colab": {
          "base_uri": "https://localhost:8080/",
          "height": 523
        },
        "collapsed": true,
        "id": "d5U4q4hrtr3i",
        "outputId": "2f5c774c-a6f7-49ba-af61-de7325651dc2"
      },
      "execution_count": 41,
      "outputs": [
        {
          "output_type": "execute_result",
          "data": {
            "text/plain": [
              "Transaction ID                      0\n",
              "Sender Account ID                   0\n",
              "Receiver Account ID                 0\n",
              "Transaction Amount                  0\n",
              "Transaction Type                    0\n",
              "Timestamp                           0\n",
              "Transaction Status                  0\n",
              "Fraud Flag                          0\n",
              "Geolocation (Latitude/Longitude)    0\n",
              "Device Used                         0\n",
              "Network Slice ID                    0\n",
              "Latency (ms)                        0\n",
              "Slice Bandwidth (Mbps)              0\n",
              "PIN Code                            0\n",
              "dtype: int64"
            ],
            "text/html": [
              "<div>\n",
              "<style scoped>\n",
              "    .dataframe tbody tr th:only-of-type {\n",
              "        vertical-align: middle;\n",
              "    }\n",
              "\n",
              "    .dataframe tbody tr th {\n",
              "        vertical-align: top;\n",
              "    }\n",
              "\n",
              "    .dataframe thead th {\n",
              "        text-align: right;\n",
              "    }\n",
              "</style>\n",
              "<table border=\"1\" class=\"dataframe\">\n",
              "  <thead>\n",
              "    <tr style=\"text-align: right;\">\n",
              "      <th></th>\n",
              "      <th>0</th>\n",
              "    </tr>\n",
              "  </thead>\n",
              "  <tbody>\n",
              "    <tr>\n",
              "      <th>Transaction ID</th>\n",
              "      <td>0</td>\n",
              "    </tr>\n",
              "    <tr>\n",
              "      <th>Sender Account ID</th>\n",
              "      <td>0</td>\n",
              "    </tr>\n",
              "    <tr>\n",
              "      <th>Receiver Account ID</th>\n",
              "      <td>0</td>\n",
              "    </tr>\n",
              "    <tr>\n",
              "      <th>Transaction Amount</th>\n",
              "      <td>0</td>\n",
              "    </tr>\n",
              "    <tr>\n",
              "      <th>Transaction Type</th>\n",
              "      <td>0</td>\n",
              "    </tr>\n",
              "    <tr>\n",
              "      <th>Timestamp</th>\n",
              "      <td>0</td>\n",
              "    </tr>\n",
              "    <tr>\n",
              "      <th>Transaction Status</th>\n",
              "      <td>0</td>\n",
              "    </tr>\n",
              "    <tr>\n",
              "      <th>Fraud Flag</th>\n",
              "      <td>0</td>\n",
              "    </tr>\n",
              "    <tr>\n",
              "      <th>Geolocation (Latitude/Longitude)</th>\n",
              "      <td>0</td>\n",
              "    </tr>\n",
              "    <tr>\n",
              "      <th>Device Used</th>\n",
              "      <td>0</td>\n",
              "    </tr>\n",
              "    <tr>\n",
              "      <th>Network Slice ID</th>\n",
              "      <td>0</td>\n",
              "    </tr>\n",
              "    <tr>\n",
              "      <th>Latency (ms)</th>\n",
              "      <td>0</td>\n",
              "    </tr>\n",
              "    <tr>\n",
              "      <th>Slice Bandwidth (Mbps)</th>\n",
              "      <td>0</td>\n",
              "    </tr>\n",
              "    <tr>\n",
              "      <th>PIN Code</th>\n",
              "      <td>0</td>\n",
              "    </tr>\n",
              "  </tbody>\n",
              "</table>\n",
              "</div><br><label><b>dtype:</b> int64</label>"
            ]
          },
          "metadata": {},
          "execution_count": 41
        }
      ]
    },
    {
      "cell_type": "markdown",
      "source": [
        "**Interpretation** - *There are no null values in the dataset*"
      ],
      "metadata": {
        "id": "0pD2-gQOtxme"
      }
    },
    {
      "cell_type": "markdown",
      "source": [
        "##**6.3 Handling Duplicate Records**"
      ],
      "metadata": {
        "id": "dvB_ZU0Kt7Pj"
      }
    },
    {
      "cell_type": "code",
      "source": [
        "df.duplicated().sum()"
      ],
      "metadata": {
        "colab": {
          "base_uri": "https://localhost:8080/"
        },
        "id": "q3i4yRxPubKV",
        "outputId": "e39714dc-7388-49a9-e8bc-bafc5895cb2c"
      },
      "execution_count": 42,
      "outputs": [
        {
          "output_type": "execute_result",
          "data": {
            "text/plain": [
              "np.int64(0)"
            ]
          },
          "metadata": {},
          "execution_count": 42
        }
      ]
    },
    {
      "cell_type": "markdown",
      "source": [
        "**Interpretation** - * There are no duplicate values in the datasset*"
      ],
      "metadata": {
        "id": "xy1bo2c3uf8z"
      }
    },
    {
      "cell_type": "markdown",
      "source": [
        "##**6.4 Standardize Column Name**"
      ],
      "metadata": {
        "id": "L-AWt57quqDO"
      }
    },
    {
      "cell_type": "markdown",
      "source": [
        "Standardizing column names to ensure consistency, readability, and ease of use throughout the analysis."
      ],
      "metadata": {
        "id": "HGyfx9qHuwcH"
      }
    },
    {
      "cell_type": "code",
      "source": [
        "df.columns = df.columns.str.lower().str.replace(' ','_')"
      ],
      "metadata": {
        "id": "_YM7HaXmu2hx"
      },
      "execution_count": 43,
      "outputs": []
    },
    {
      "cell_type": "code",
      "source": [
        "df.columns"
      ],
      "metadata": {
        "colab": {
          "base_uri": "https://localhost:8080/"
        },
        "id": "D94lqIxKvOH9",
        "outputId": "6f4d7488-3ad5-497a-9b4a-456d5390323c"
      },
      "execution_count": 44,
      "outputs": [
        {
          "output_type": "execute_result",
          "data": {
            "text/plain": [
              "Index(['transaction_id', 'sender_account_id', 'receiver_account_id',\n",
              "       'transaction_amount', 'transaction_type', 'timestamp',\n",
              "       'transaction_status', 'fraud_flag', 'geolocation_(latitude/longitude)',\n",
              "       'device_used', 'network_slice_id', 'latency_(ms)',\n",
              "       'slice_bandwidth_(mbps)', 'pin_code'],\n",
              "      dtype='object')"
            ]
          },
          "metadata": {},
          "execution_count": 44
        }
      ]
    },
    {
      "cell_type": "markdown",
      "source": [
        "##**6.5 Identify Numerical And Categorical Columns**"
      ],
      "metadata": {
        "id": "BGXUJ58XvTc4"
      }
    },
    {
      "cell_type": "markdown",
      "source": [
        "Identifying numerical and categorical columns to guide appropriate analysis, visualization, and preprocessing techniques."
      ],
      "metadata": {
        "id": "Iz9wm4IoveS2"
      }
    },
    {
      "cell_type": "code",
      "source": [
        "categorical_columns = df.select_dtypes(include='object').columns\n",
        "numerical_columns = df.select_dtypes(include='number').columns"
      ],
      "metadata": {
        "id": "Ou8Jl--Wvjd2"
      },
      "execution_count": 45,
      "outputs": []
    },
    {
      "cell_type": "code",
      "source": [
        "# Display categorical columns\n",
        "categorical_columns"
      ],
      "metadata": {
        "colab": {
          "base_uri": "https://localhost:8080/"
        },
        "id": "zgFi09qWv6s5",
        "outputId": "928d5ff3-ea73-44d9-e137-696d1f338e0f"
      },
      "execution_count": 46,
      "outputs": [
        {
          "output_type": "execute_result",
          "data": {
            "text/plain": [
              "Index(['transaction_id', 'sender_account_id', 'receiver_account_id',\n",
              "       'transaction_type', 'transaction_status',\n",
              "       'geolocation_(latitude/longitude)', 'device_used', 'network_slice_id'],\n",
              "      dtype='object')"
            ]
          },
          "metadata": {},
          "execution_count": 46
        }
      ]
    },
    {
      "cell_type": "code",
      "source": [
        "# Display numerical columns\n",
        "numerical_columns"
      ],
      "metadata": {
        "colab": {
          "base_uri": "https://localhost:8080/"
        },
        "id": "DZNiDfExv78v",
        "outputId": "2b606c39-c20e-4b63-ac29-30a0b7cf221f"
      },
      "execution_count": 47,
      "outputs": [
        {
          "output_type": "execute_result",
          "data": {
            "text/plain": [
              "Index(['transaction_amount', 'latency_(ms)', 'slice_bandwidth_(mbps)',\n",
              "       'pin_code'],\n",
              "      dtype='object')"
            ]
          },
          "metadata": {},
          "execution_count": 47
        }
      ]
    },
    {
      "cell_type": "markdown",
      "source": [
        "##**6.6 Standardize Categorical Features And Explore Unique Values**"
      ],
      "metadata": {
        "id": "NdokKw8wvvxF"
      }
    },
    {
      "cell_type": "markdown",
      "source": [
        "In this section, we clean the categorical columns by standardizing text formats—removing extra spaces and ensuring consistent casing. This step is essential to avoid misleading results when analyzing unique categories. After cleaning, we explore the unique values in each categorical column to understand the feature space and identify any anomalies or inconsistencies."
      ],
      "metadata": {
        "id": "oXQHHspjwl7Q"
      }
    },
    {
      "cell_type": "markdown",
      "source": [
        "### **6.6. A. Standardizing Categorical Features**"
      ],
      "metadata": {
        "id": "QlC_kewQwqPK"
      }
    },
    {
      "cell_type": "code",
      "source": [
        "# Clean categorical columns: strip whitespaces and lowercase all strings\n",
        "for cols in categorical_columns:\n",
        "  df[cols] = df[cols].str.strip().str.lower()"
      ],
      "metadata": {
        "id": "OhSnqzLswdSR"
      },
      "execution_count": 48,
      "outputs": []
    },
    {
      "cell_type": "markdown",
      "source": [
        "### **6.6. B. Explore Unique Values in Categorical Features**"
      ],
      "metadata": {
        "id": "6eIDyNjuwzcq"
      }
    },
    {
      "cell_type": "code",
      "source": [
        "for col in categorical_columns:\n",
        "  print(f\"Unique Values in {col}:\")\n",
        "  print(df[col].unique())\n",
        "  print(\"\\n\")"
      ],
      "metadata": {
        "colab": {
          "base_uri": "https://localhost:8080/"
        },
        "collapsed": true,
        "id": "lIYoyUx9wScO",
        "outputId": "c0142559-9b6d-43f4-e257-d18dafc03ae3"
      },
      "execution_count": 49,
      "outputs": [
        {
          "output_type": "stream",
          "name": "stdout",
          "text": [
            "Unique Values in transaction_id:\n",
            "['txn9520068950' 'txn9412011085' 'txn4407425052' 'txn2214150284'\n",
            " 'txn4247571145' 'txn2515439857' 'txn2169752734' 'txn3109277527'\n",
            " 'txn4541918858' 'txn4229370499' 'txn6355066290' 'txn2166128709'\n",
            " 'txn8655304785' 'txn5194651812' 'txn9153984217' 'txn9743166792'\n",
            " 'txn6682052855' 'txn4351744832' 'txn5897093700' 'txn5863399870'\n",
            " 'txn3008400720' 'txn8954205071' 'txn8076969401' 'txn5541586171'\n",
            " 'txn2415439100' 'txn4822238918' 'txn3884612815' 'txn5126223597'\n",
            " 'txn7417651729' 'txn7538176865' 'txn3914566506' 'txn6302601632'\n",
            " 'txn2088036535' 'txn1675844695' 'txn6661143500' 'txn3325189406'\n",
            " 'txn6805586313' 'txn2113838138' 'txn2956253396' 'txn9549826715'\n",
            " 'txn7131992962' 'txn2209185137' 'txn2465139688' 'txn4231576514'\n",
            " 'txn6050985831' 'txn6614511449' 'txn1408798870' 'txn2483635578'\n",
            " 'txn4437479248' 'txn1414294833' 'txn3244921303' 'txn4585920895'\n",
            " 'txn3085164852' 'txn4215761542' 'txn2921000330' 'txn1245169622'\n",
            " 'txn3864456208' 'txn2157994961' 'txn3293165874' 'txn2467998038'\n",
            " 'txn4014434434' 'txn5548725719' 'txn8905996384' 'txn6478721697'\n",
            " 'txn4336351484' 'txn5262577229' 'txn9214993999' 'txn6819290771'\n",
            " 'txn6762754838' 'txn6621010350' 'txn2716831379' 'txn4412754237'\n",
            " 'txn9958195472' 'txn6513452870' 'txn9430193570' 'txn6154853073'\n",
            " 'txn8166922226' 'txn1289142632' 'txn8741905833' 'txn4267987212'\n",
            " 'txn2821070438' 'txn1672215014' 'txn8113502181' 'txn9237255174'\n",
            " 'txn3528546769' 'txn5396087707' 'txn7046403704' 'txn6246207885'\n",
            " 'txn3337399700' 'txn5508021804' 'txn5377295849' 'txn5873377008'\n",
            " 'txn6379637727' 'txn6032073253' 'txn4435141979' 'txn2596037056'\n",
            " 'txn2003291230' 'txn3688688205' 'txn2239357669' 'txn5485668345'\n",
            " 'txn1251635719' 'txn6762132763' 'txn8623160750' 'txn5936318239'\n",
            " 'txn9200557220' 'txn6966473752' 'txn7094903743' 'txn8282202403'\n",
            " 'txn2346550714' 'txn3001048865' 'txn3954388296' 'txn4350246343'\n",
            " 'txn3226960880' 'txn7891760943' 'txn1937189886' 'txn4264661286'\n",
            " 'txn3465692464' 'txn5769283480' 'txn8525219190' 'txn9707155018'\n",
            " 'txn1600361546' 'txn5364984512' 'txn9190915445' 'txn9993789277'\n",
            " 'txn4326221784' 'txn3052947958' 'txn1092084478' 'txn9572905121'\n",
            " 'txn5843964744' 'txn7450665604' 'txn8164649264' 'txn5795848137'\n",
            " 'txn8343278895' 'txn6206308673' 'txn5071554698' 'txn6341592948'\n",
            " 'txn6010804010' 'txn6766899632' 'txn3026357479' 'txn9295124367'\n",
            " 'txn1661230242' 'txn1971749955' 'txn7902609594' 'txn7992166468'\n",
            " 'txn4342664555' 'txn8112417243' 'txn1337209397' 'txn3239483041'\n",
            " 'txn8594411611' 'txn6822123619' 'txn6454901818' 'txn3094737504'\n",
            " 'txn1325800005' 'txn3721860915' 'txn8960596167' 'txn8567860618'\n",
            " 'txn2567753845' 'txn1783258965' 'txn6569078109' 'txn2359071560'\n",
            " 'txn8283960952' 'txn4210826474' 'txn6009434046' 'txn1719512608'\n",
            " 'txn6960545700' 'txn4205537111' 'txn4387242707' 'txn1231957148'\n",
            " 'txn5388880723' 'txn2331276401' 'txn2332983910' 'txn9541784204'\n",
            " 'txn9572855642' 'txn1422419582' 'txn5779708393' 'txn4181704626'\n",
            " 'txn8861420026' 'txn3799698655' 'txn7810281706' 'txn9850226469'\n",
            " 'txn3750511080' 'txn1548767950' 'txn6414718450' 'txn5456147067'\n",
            " 'txn7966767439' 'txn2768153137' 'txn5246873289' 'txn8359126525'\n",
            " 'txn4034217983' 'txn2357448364' 'txn3342617288' 'txn7830195715'\n",
            " 'txn8864740605' 'txn8449877320' 'txn1640299129' 'txn9838700245'\n",
            " 'txn5922675949' 'txn3099410634' 'txn3775779664' 'txn7459821975'\n",
            " 'txn8075491777' 'txn1288003827' 'txn4769969230' 'txn9703349688'\n",
            " 'txn1191908152' 'txn8215188209' 'txn2591216678' 'txn1657854140'\n",
            " 'txn6423807883' 'txn2911402677' 'txn3004498462' 'txn8761342560'\n",
            " 'txn9179726148' 'txn2407769213' 'txn8132394228' 'txn7938524187'\n",
            " 'txn6872957419' 'txn8900635637' 'txn3907059390' 'txn8299674970'\n",
            " 'txn7343962419' 'txn5245549593' 'txn4345176866' 'txn1560479237'\n",
            " 'txn5092379896' 'txn6843260624' 'txn8489127084' 'txn7338773006'\n",
            " 'txn5880566258' 'txn2413731893' 'txn4537775371' 'txn9281433787'\n",
            " 'txn5874991898' 'txn3291589485' 'txn1349130936' 'txn8148340158'\n",
            " 'txn9928470605' 'txn2200351148' 'txn4624273975' 'txn9937533232'\n",
            " 'txn1696527060' 'txn7597097822' 'txn2915893387' 'txn4827977949'\n",
            " 'txn6617448958' 'txn6280767843' 'txn5271444103' 'txn1536273608'\n",
            " 'txn3937314067' 'txn2720807903' 'txn7452848702' 'txn4755755598'\n",
            " 'txn1760011640' 'txn6811608436' 'txn8157291340' 'txn6948194620'\n",
            " 'txn3765488448' 'txn5349103389' 'txn3634235632' 'txn3987830639'\n",
            " 'txn6827741081' 'txn7760115770' 'txn2349552755' 'txn2205129655'\n",
            " 'txn5544938025' 'txn8520574795' 'txn1987186978' 'txn6111915454'\n",
            " 'txn5332044415' 'txn7915670502' 'txn2643911906' 'txn8620085823'\n",
            " 'txn4548697356' 'txn1435383761' 'txn3005575371' 'txn4457314718'\n",
            " 'txn2695316508' 'txn2013712439' 'txn1586213339' 'txn4702742989'\n",
            " 'txn7957686611' 'txn2478085562' 'txn3007228135' 'txn9326625381'\n",
            " 'txn3238274353' 'txn1978796225' 'txn3309554973' 'txn7460255392'\n",
            " 'txn4683838708' 'txn8503880040' 'txn8622771982' 'txn9831119424'\n",
            " 'txn8058810575' 'txn7995329384' 'txn5244246982' 'txn1214214618'\n",
            " 'txn9329992317' 'txn3559474519' 'txn4192170575' 'txn9205676914'\n",
            " 'txn9089466769' 'txn1525947631' 'txn2967565010' 'txn3831013249'\n",
            " 'txn8479002355' 'txn8781462679' 'txn3797326632' 'txn1777850076'\n",
            " 'txn2044765741' 'txn9943868344' 'txn8262818336' 'txn2373253528'\n",
            " 'txn9296634856' 'txn4416733764' 'txn4715125973' 'txn1293504093'\n",
            " 'txn5402872631' 'txn8058414110' 'txn1804188246' 'txn6256269209'\n",
            " 'txn4719214031' 'txn9644247673' 'txn4038631801' 'txn3710024296'\n",
            " 'txn6322314609' 'txn2046870073' 'txn5078779271' 'txn8272540722'\n",
            " 'txn8956956973' 'txn1183529701' 'txn3581606217' 'txn8836932523'\n",
            " 'txn6844399702' 'txn9753006039' 'txn9155119110' 'txn4482249133'\n",
            " 'txn4817008281' 'txn3215135557' 'txn2294957204' 'txn5515093118'\n",
            " 'txn5955230998' 'txn7683609463' 'txn9272395195' 'txn3523224916'\n",
            " 'txn1093768801' 'txn5422336942' 'txn5693088212' 'txn1895509653'\n",
            " 'txn4864313140' 'txn3921821159' 'txn3473885435' 'txn8723172315'\n",
            " 'txn4717279150' 'txn2144060017' 'txn3506993682' 'txn3465112627'\n",
            " 'txn2795257887' 'txn4445805450' 'txn6234566048' 'txn7967055596'\n",
            " 'txn1754402542' 'txn8149798658' 'txn3866221574' 'txn7074825756'\n",
            " 'txn1264483408' 'txn2630973907' 'txn6559269684' 'txn5264915932'\n",
            " 'txn2571649134' 'txn7009664995' 'txn1865615153' 'txn4168078707'\n",
            " 'txn8990079335' 'txn4521283693' 'txn1398097487' 'txn8373322501'\n",
            " 'txn4905953142' 'txn5052028045' 'txn4933949135' 'txn1428054922'\n",
            " 'txn3264969836' 'txn8730102843' 'txn2498617562' 'txn8239315689'\n",
            " 'txn6622880955' 'txn1889402287' 'txn4190406320' 'txn2969596138'\n",
            " 'txn3316454211' 'txn7693168196' 'txn5423422909' 'txn8130580934'\n",
            " 'txn4627141841' 'txn7937750067' 'txn8577286135' 'txn1219225315'\n",
            " 'txn2545526306' 'txn1685334204' 'txn2285178903' 'txn7466999126'\n",
            " 'txn5090978131' 'txn1473484512' 'txn4075718503' 'txn3768567525'\n",
            " 'txn9598663738' 'txn1875086020' 'txn6457249658' 'txn1042740208'\n",
            " 'txn9407033145' 'txn1739236868' 'txn2373830710' 'txn9758276810'\n",
            " 'txn5388688267' 'txn3992981513' 'txn5725214404' 'txn4449093390'\n",
            " 'txn1051341758' 'txn2584988889' 'txn1136280450' 'txn8145013884'\n",
            " 'txn3213179630' 'txn8773533808' 'txn3517372456' 'txn9255711120'\n",
            " 'txn1026668467' 'txn8823192902' 'txn1506358242' 'txn2056037159'\n",
            " 'txn7318070182' 'txn8235711783' 'txn1261240074' 'txn1879342618'\n",
            " 'txn5592835255' 'txn9862425974' 'txn2477062271' 'txn6593949300'\n",
            " 'txn1710747845' 'txn5258198773' 'txn1578471232' 'txn1976924179'\n",
            " 'txn1514038740' 'txn5340375676' 'txn2600080898' 'txn8863707194'\n",
            " 'txn2152224485' 'txn1560794795' 'txn7811489633' 'txn8065405961'\n",
            " 'txn5349278466' 'txn4508861333' 'txn9591402229' 'txn6010561557'\n",
            " 'txn4592850855' 'txn8022246760' 'txn9490755951' 'txn5703695908'\n",
            " 'txn4175568505' 'txn1292145399' 'txn8482029253' 'txn3745560897'\n",
            " 'txn6850517635' 'txn9048178318' 'txn7081421607' 'txn3229991141'\n",
            " 'txn2567312830' 'txn9451536828' 'txn6438578473' 'txn7347670619'\n",
            " 'txn1804071554' 'txn6314106772' 'txn5952543306' 'txn3960056916'\n",
            " 'txn2738370974' 'txn7765840896' 'txn3732099369' 'txn5811407789'\n",
            " 'txn3572064871' 'txn5530860650' 'txn8297322746' 'txn4789765472'\n",
            " 'txn4983297393' 'txn9765597378' 'txn4214354284' 'txn8722779257'\n",
            " 'txn9270204123' 'txn3424483698' 'txn9917648306' 'txn6541081268'\n",
            " 'txn6196239147' 'txn9746917222' 'txn2320178526' 'txn2194042729'\n",
            " 'txn1463585343' 'txn1968611398' 'txn6502377673' 'txn9235977703'\n",
            " 'txn8812176395' 'txn4083792867' 'txn9697363753' 'txn9829142303'\n",
            " 'txn8920436907' 'txn2662283774' 'txn7267935231' 'txn6779980830'\n",
            " 'txn4785520039' 'txn5691250882' 'txn6392999780' 'txn2889971008'\n",
            " 'txn7454573377' 'txn7851379191' 'txn7690248564' 'txn2962109726'\n",
            " 'txn8188062560' 'txn1459386338' 'txn7486103501' 'txn7747723984'\n",
            " 'txn9172243892' 'txn7174684558' 'txn4063058932' 'txn4288928616'\n",
            " 'txn6796410495' 'txn1724458969' 'txn9420697084' 'txn3409498103'\n",
            " 'txn4884922166' 'txn9924409937' 'txn1537373231' 'txn9418716802'\n",
            " 'txn9464334434' 'txn3062186394' 'txn5277052822' 'txn1056906180'\n",
            " 'txn6101337345' 'txn3962466221' 'txn9915802724' 'txn1367503203'\n",
            " 'txn7284540949' 'txn3756567942' 'txn1794005869' 'txn6024425301'\n",
            " 'txn2303112978' 'txn2158684825' 'txn2180308712' 'txn4282498636'\n",
            " 'txn5583019441' 'txn7960889764' 'txn8704693172' 'txn6551584962'\n",
            " 'txn7496746303' 'txn4048657684' 'txn8589870338' 'txn6806243378'\n",
            " 'txn5766314722' 'txn9956101373' 'txn1534479790' 'txn4030945603'\n",
            " 'txn6493873826' 'txn8506838667' 'txn9960780796' 'txn7571871959'\n",
            " 'txn3155052574' 'txn2224269988' 'txn1285498928' 'txn2274786678'\n",
            " 'txn8890390631' 'txn3188124963' 'txn7297484921' 'txn6713156564'\n",
            " 'txn5872634105' 'txn1496379688' 'txn7140240715' 'txn3914244875'\n",
            " 'txn2403674237' 'txn1327248350' 'txn5469662722' 'txn4099617388'\n",
            " 'txn5516499698' 'txn3346151776' 'txn4485189988' 'txn8745969736'\n",
            " 'txn9905734561' 'txn3081071442' 'txn3597355096' 'txn8486454934'\n",
            " 'txn8646637708' 'txn1140740719' 'txn5250955971' 'txn2732144556'\n",
            " 'txn7695035207' 'txn7939723282' 'txn7630113676' 'txn8552007460'\n",
            " 'txn4304334477' 'txn1346181292' 'txn1839190280' 'txn8725793891'\n",
            " 'txn9328528150' 'txn1027199935' 'txn1519832715' 'txn4654450936'\n",
            " 'txn7190517370' 'txn2013672155' 'txn1009840095' 'txn7999376225'\n",
            " 'txn8160409252' 'txn9716899160' 'txn7021871590' 'txn5890230581'\n",
            " 'txn5259427532' 'txn6434340123' 'txn5512698980' 'txn1865967097'\n",
            " 'txn5642409479' 'txn6826834748' 'txn4863583366' 'txn2807500909'\n",
            " 'txn6891762184' 'txn5876009850' 'txn9108039354' 'txn6549632788'\n",
            " 'txn8061097504' 'txn4865155116' 'txn9282319379' 'txn6280489068'\n",
            " 'txn6147229485' 'txn7444932806' 'txn1518602016' 'txn4227753155'\n",
            " 'txn8860546537' 'txn6187390659' 'txn1806416150' 'txn4093369509'\n",
            " 'txn1834879380' 'txn4241858851' 'txn6135136280' 'txn2164420656'\n",
            " 'txn3164901783' 'txn6033289469' 'txn9352406685' 'txn4177656671'\n",
            " 'txn8112885483' 'txn4973333734' 'txn2670016539' 'txn7103211368'\n",
            " 'txn6774647261' 'txn8172262194' 'txn7356320584' 'txn7408966343'\n",
            " 'txn1684589936' 'txn7142871079' 'txn7255939236' 'txn7803677110'\n",
            " 'txn9388955721' 'txn6956710652' 'txn7734984066' 'txn4979176158'\n",
            " 'txn5412325506' 'txn9953448509' 'txn4170698928' 'txn6482881540'\n",
            " 'txn9984520277' 'txn9077266257' 'txn3679557633' 'txn5689924166'\n",
            " 'txn7257989930' 'txn8636686575' 'txn1057529976' 'txn2617645101'\n",
            " 'txn5884141090' 'txn1475843170' 'txn4155626151' 'txn4227899265'\n",
            " 'txn6378209363' 'txn7679630871' 'txn1299028569' 'txn1427023114'\n",
            " 'txn6137594808' 'txn4524298301' 'txn8607691435' 'txn7681972361'\n",
            " 'txn6226593450' 'txn3832468814' 'txn7410811456' 'txn7238168935'\n",
            " 'txn5691669939' 'txn8092227965' 'txn3908230781' 'txn9364574524'\n",
            " 'txn9041339676' 'txn4465020791' 'txn4660989719' 'txn1879549930'\n",
            " 'txn4097123150' 'txn7739005738' 'txn2216713090' 'txn4299026679'\n",
            " 'txn7596303179' 'txn5910132280' 'txn7406270861' 'txn2404826022'\n",
            " 'txn8124689743' 'txn9437963697' 'txn6019019626' 'txn4675367499'\n",
            " 'txn2012949729' 'txn1888197550' 'txn6250036065' 'txn5412906599'\n",
            " 'txn9673532239' 'txn1652892325' 'txn1715221868' 'txn6007193928'\n",
            " 'txn1696074130' 'txn3114507871' 'txn4902897998' 'txn7464084511'\n",
            " 'txn4817965241' 'txn6686731977' 'txn4258341246' 'txn2146674972'\n",
            " 'txn3688144089' 'txn7768798227' 'txn7372888615' 'txn6496802872'\n",
            " 'txn2190673228' 'txn3188343113' 'txn5206029882' 'txn9984583310'\n",
            " 'txn7291688324' 'txn4703316874' 'txn3578739019' 'txn2195520317'\n",
            " 'txn1041461220' 'txn3051028291' 'txn1372797888' 'txn2981368392'\n",
            " 'txn1135873779' 'txn1328647070' 'txn4691809504' 'txn4179721497'\n",
            " 'txn3895765690' 'txn8789730264' 'txn2070571988' 'txn1116395817'\n",
            " 'txn9239256714' 'txn4561707407' 'txn3174104806' 'txn8523915846'\n",
            " 'txn5102155525' 'txn5060420362' 'txn9297678665' 'txn5954761833'\n",
            " 'txn7416859349' 'txn4692899483' 'txn1031246972' 'txn6201618839'\n",
            " 'txn1256384918' 'txn4963534137' 'txn5646588232' 'txn9377571688'\n",
            " 'txn5715931192' 'txn8939934889' 'txn9707081841' 'txn8294020649'\n",
            " 'txn7764143012' 'txn8533263880' 'txn2809461644' 'txn4687071393'\n",
            " 'txn5673009522' 'txn8792646343' 'txn8464942775' 'txn8285055381'\n",
            " 'txn2364240559' 'txn4629063974' 'txn8231379842' 'txn2575946300'\n",
            " 'txn2630496789' 'txn3447478998' 'txn7744872067' 'txn8572380298'\n",
            " 'txn1944161554' 'txn3706837999' 'txn6552482713' 'txn8092655434'\n",
            " 'txn5708760402' 'txn7183478404' 'txn6418299376' 'txn1726351367'\n",
            " 'txn4389081475' 'txn2968614458' 'txn9369323463' 'txn4884680145'\n",
            " 'txn3689859259' 'txn7627699972' 'txn5303967789' 'txn2488355680'\n",
            " 'txn8465634743' 'txn2189034163' 'txn1179409810' 'txn1744197967'\n",
            " 'txn7033130898' 'txn1050678444' 'txn9135908826' 'txn7850039563'\n",
            " 'txn6243731428' 'txn8524130563' 'txn1970224238' 'txn3080727808'\n",
            " 'txn6602724599' 'txn6278346936' 'txn1820448910' 'txn7206567493'\n",
            " 'txn4101163005' 'txn4407148066' 'txn9306661034' 'txn5851162281'\n",
            " 'txn8908021818' 'txn3216142297' 'txn9584950467' 'txn9583070448'\n",
            " 'txn9207597207' 'txn5767453846' 'txn3949060475' 'txn8995038033'\n",
            " 'txn8924266239' 'txn8231371570' 'txn5435924496' 'txn6129053886'\n",
            " 'txn3216538238' 'txn5540950494' 'txn5334962263' 'txn4686574441'\n",
            " 'txn9047821038' 'txn7141693754' 'txn8986153861' 'txn9531075832'\n",
            " 'txn2554762755' 'txn5816994707' 'txn9073006177' 'txn4681351299'\n",
            " 'txn1989617760' 'txn5170975065' 'txn1324014316' 'txn7211607925'\n",
            " 'txn3171845502' 'txn2661971569' 'txn1038301181' 'txn4271800273'\n",
            " 'txn3155729746' 'txn1781232565' 'txn2708041658' 'txn3066202732'\n",
            " 'txn8389614998' 'txn4838560510' 'txn9604966110' 'txn6124814564'\n",
            " 'txn3265508267' 'txn1222897131' 'txn4606302686' 'txn4305780474'\n",
            " 'txn9422487543' 'txn6641751619' 'txn7160668900' 'txn8922195045'\n",
            " 'txn6186045168' 'txn1160189664' 'txn2964791595' 'txn9293390364'\n",
            " 'txn3450594493' 'txn6524975064' 'txn2587701980' 'txn4140419451'\n",
            " 'txn7891984901' 'txn2506568464' 'txn4172585703' 'txn6562159635'\n",
            " 'txn4511284469' 'txn2161023423' 'txn1094353264' 'txn6222233434'\n",
            " 'txn4367678924' 'txn6384601784' 'txn1968083968' 'txn4593628723'\n",
            " 'txn7501274627' 'txn9569616698' 'txn5912948830' 'txn1986531839'\n",
            " 'txn8356708473' 'txn4290063257' 'txn2945074212' 'txn4507550717'\n",
            " 'txn4822042533' 'txn5282408511' 'txn5882730267' 'txn8236853729'\n",
            " 'txn4598936094' 'txn9009962207' 'txn2671509786' 'txn6546831402'\n",
            " 'txn7311146432' 'txn4433757533' 'txn1041633816' 'txn4417009985'\n",
            " 'txn7456715309' 'txn1864085218' 'txn5872179478' 'txn6270102821'\n",
            " 'txn9176993298' 'txn1290161980' 'txn6320952191' 'txn9135751221'\n",
            " 'txn8310897263' 'txn9898212544' 'txn6455739728' 'txn5589441104'\n",
            " 'txn3988853414' 'txn5398070716' 'txn4966699908' 'txn1194686799'\n",
            " 'txn9725089598' 'txn8460678344' 'txn4656100555' 'txn5456829217'\n",
            " 'txn6023233537' 'txn6980683657' 'txn6721573629' 'txn7266570556'\n",
            " 'txn2877832200' 'txn6689630393' 'txn6736220776' 'txn8299962548'\n",
            " 'txn6815949443' 'txn8694667992' 'txn9262315756' 'txn4821129470'\n",
            " 'txn9706461583' 'txn5819697000' 'txn2677873639' 'txn7999541068'\n",
            " 'txn8857190097' 'txn8419273555' 'txn8127650690' 'txn6489321656'\n",
            " 'txn3562708287' 'txn3580164111' 'txn9375157430' 'txn8635520804'\n",
            " 'txn3642265035' 'txn4373536434' 'txn5519692100' 'txn9725121816'\n",
            " 'txn9841219846' 'txn3964673333' 'txn1724194072' 'txn1371725692'\n",
            " 'txn7073945412' 'txn4751067640' 'txn8555110303' 'txn8858848074'\n",
            " 'txn7511269601' 'txn4828808629' 'txn8847738852' 'txn8902547494'\n",
            " 'txn5149461862' 'txn5792754437' 'txn4939876794' 'txn5124329693'\n",
            " 'txn7729611030' 'txn3969911632' 'txn6822416237' 'txn8918643323'\n",
            " 'txn2644019441' 'txn7066384355' 'txn3386767631' 'txn5268233590'\n",
            " 'txn9728180847' 'txn3181213064' 'txn1983335898' 'txn3785811199'\n",
            " 'txn2136436539' 'txn3610926310' 'txn2064272646' 'txn9293693445'\n",
            " 'txn2348724644' 'txn7250272568' 'txn7758936451' 'txn4930471112'\n",
            " 'txn6661892244' 'txn9210129507' 'txn2679491739' 'txn6073923771'\n",
            " 'txn9550044170' 'txn2106828046' 'txn9649254386' 'txn7395336359'\n",
            " 'txn2215717837' 'txn1676848215' 'txn2479413280' 'txn3992032184']\n",
            "\n",
            "\n",
            "Unique Values in sender_account_id:\n",
            "['acc14994' 'acc58958' 'acc56321' 'acc48650' 'acc60921' 'acc18381'\n",
            " 'acc43792' 'acc48227' 'acc10284' 'acc11531' 'acc14006' 'acc11156'\n",
            " 'acc62917' 'acc39081' 'acc34065' 'acc82066' 'acc68764' 'acc55704'\n",
            " 'acc70859' 'acc73740' 'acc96801' 'acc49428' 'acc81687' 'acc72546'\n",
            " 'acc92329' 'acc27604' 'acc79800' 'acc49116' 'acc26106' 'acc40510'\n",
            " 'acc45926' 'acc91042' 'acc66635' 'acc32328' 'acc94124' 'acc51150'\n",
            " 'acc13179' 'acc59845' 'acc98407' 'acc39544' 'acc25089' 'acc97614'\n",
            " 'acc21498' 'acc33069' 'acc90300' 'acc14564' 'acc88133' 'acc33701'\n",
            " 'acc45830' 'acc24121' 'acc69633' 'acc47679' 'acc74608' 'acc49303'\n",
            " 'acc74920' 'acc91787' 'acc52721' 'acc60872' 'acc43244' 'acc92520'\n",
            " 'acc50922' 'acc49858' 'acc15856' 'acc74483' 'acc80523' 'acc23680'\n",
            " 'acc59081' 'acc89817' 'acc88574' 'acc62557' 'acc36992' 'acc52000'\n",
            " 'acc73496' 'acc66844' 'acc18315' 'acc37651' 'acc26967' 'acc66840'\n",
            " 'acc67128' 'acc31799' 'acc57649' 'acc57995' 'acc67528' 'acc54120'\n",
            " 'acc13553' 'acc18004' 'acc90900' 'acc34364' 'acc13343' 'acc93597'\n",
            " 'acc94970' 'acc25767' 'acc88149' 'acc29569' 'acc29421' 'acc51541'\n",
            " 'acc54543' 'acc66486' 'acc97992' 'acc46185' 'acc66754' 'acc88711'\n",
            " 'acc77809' 'acc34015' 'acc11202' 'acc90065' 'acc67955' 'acc89596'\n",
            " 'acc59386' 'acc64461' 'acc33685' 'acc81201' 'acc83398' 'acc69922'\n",
            " 'acc43888' 'acc52163' 'acc53784' 'acc14634' 'acc54648' 'acc68228'\n",
            " 'acc83231' 'acc68793' 'acc22862' 'acc93052' 'acc81249' 'acc14822'\n",
            " 'acc81497' 'acc17884' 'acc50985' 'acc66864' 'acc91303' 'acc91551'\n",
            " 'acc34139' 'acc50016' 'acc30548' 'acc32012' 'acc59380' 'acc22489'\n",
            " 'acc96637' 'acc79913' 'acc56152' 'acc51032' 'acc80258' 'acc58190'\n",
            " 'acc90317' 'acc77643' 'acc47312' 'acc69369' 'acc61170' 'acc71070'\n",
            " 'acc18477' 'acc55747' 'acc53355' 'acc35584' 'acc77337' 'acc30119'\n",
            " 'acc79919' 'acc79528' 'acc59886' 'acc14335' 'acc82403' 'acc11545'\n",
            " 'acc39012' 'acc73354' 'acc94010' 'acc84409' 'acc62867' 'acc22767'\n",
            " 'acc99165' 'acc97833' 'acc19647' 'acc84924' 'acc79077' 'acc99315'\n",
            " 'acc50669' 'acc95406' 'acc49511' 'acc24754' 'acc22851' 'acc37786'\n",
            " 'acc88972' 'acc11070' 'acc40091' 'acc30350' 'acc88548' 'acc45808'\n",
            " 'acc42742' 'acc48193' 'acc88799' 'acc53364' 'acc99232' 'acc24247'\n",
            " 'acc16485' 'acc33934' 'acc32963' 'acc99387' 'acc24773' 'acc45867'\n",
            " 'acc31302' 'acc85542' 'acc22964' 'acc90218' 'acc62274' 'acc12686'\n",
            " 'acc68233' 'acc74353' 'acc16273' 'acc80448' 'acc57145' 'acc68322'\n",
            " 'acc41245' 'acc33864' 'acc70138' 'acc35352' 'acc16963' 'acc54368'\n",
            " 'acc90513' 'acc94120' 'acc92957' 'acc68128' 'acc85096' 'acc18763'\n",
            " 'acc70246' 'acc90210' 'acc51099' 'acc51051' 'acc68214' 'acc37632'\n",
            " 'acc66001' 'acc49033' 'acc23590' 'acc89865' 'acc67656' 'acc85126'\n",
            " 'acc61457' 'acc21753' 'acc51910' 'acc22516' 'acc24347' 'acc37249'\n",
            " 'acc44804' 'acc86387' 'acc49543' 'acc60988' 'acc14377' 'acc90421'\n",
            " 'acc37740' 'acc96845' 'acc92362' 'acc93407' 'acc88337' 'acc65228'\n",
            " 'acc94252' 'acc60684' 'acc85639' 'acc36199' 'acc74791' 'acc84937'\n",
            " 'acc70124' 'acc47706' 'acc40276' 'acc82828' 'acc20603' 'acc32633'\n",
            " 'acc60930' 'acc48834' 'acc11072' 'acc46679' 'acc76092' 'acc23770'\n",
            " 'acc42513' 'acc39090' 'acc77920' 'acc43553' 'acc41096' 'acc84357'\n",
            " 'acc59341' 'acc70445' 'acc93764' 'acc60516' 'acc38995' 'acc50602'\n",
            " 'acc84076' 'acc28204' 'acc78774' 'acc75912' 'acc31641' 'acc30395'\n",
            " 'acc97548' 'acc25310' 'acc82285' 'acc72956' 'acc72602' 'acc22887'\n",
            " 'acc96030' 'acc73255' 'acc32059' 'acc95922' 'acc38323' 'acc99891'\n",
            " 'acc67630' 'acc88611' 'acc52765' 'acc74018' 'acc34645' 'acc32307'\n",
            " 'acc17079' 'acc32679' 'acc78879' 'acc47893' 'acc52547' 'acc97327'\n",
            " 'acc63853' 'acc25311' 'acc26336' 'acc52960' 'acc10398' 'acc96309'\n",
            " 'acc70325' 'acc19011' 'acc90519' 'acc94820' 'acc97742' 'acc13717'\n",
            " 'acc20729' 'acc52631' 'acc40213' 'acc54935' 'acc37317' 'acc88880'\n",
            " 'acc78890' 'acc27506' 'acc80355' 'acc68822' 'acc50413' 'acc17762'\n",
            " 'acc83523' 'acc52777' 'acc73260' 'acc90096' 'acc41859' 'acc34002'\n",
            " 'acc32275' 'acc48463' 'acc80825' 'acc28851' 'acc42629' 'acc26148'\n",
            " 'acc92864' 'acc26387' 'acc61843' 'acc60861' 'acc26092' 'acc67900'\n",
            " 'acc78750' 'acc66845' 'acc47080' 'acc71350' 'acc69741' 'acc75603'\n",
            " 'acc85076' 'acc51762' 'acc24246' 'acc80128' 'acc92615' 'acc76870'\n",
            " 'acc19685' 'acc94323' 'acc30528' 'acc12808' 'acc97862' 'acc66726'\n",
            " 'acc97560' 'acc91378' 'acc99684' 'acc83947' 'acc86519' 'acc19518'\n",
            " 'acc43784' 'acc85810' 'acc80637' 'acc70544' 'acc26031' 'acc73505'\n",
            " 'acc97828' 'acc19348' 'acc45896' 'acc10811' 'acc15750' 'acc96725'\n",
            " 'acc29795' 'acc87313' 'acc26501' 'acc46443' 'acc54593' 'acc47841'\n",
            " 'acc78888' 'acc42281' 'acc25572' 'acc10108' 'acc79935' 'acc78766'\n",
            " 'acc81464' 'acc23360' 'acc99006' 'acc13820' 'acc44135' 'acc54419'\n",
            " 'acc39496' 'acc59448' 'acc42292' 'acc17167' 'acc61600' 'acc30050'\n",
            " 'acc82733' 'acc82436' 'acc60207' 'acc58515' 'acc16684' 'acc63547'\n",
            " 'acc44819' 'acc70412' 'acc52161' 'acc36112' 'acc83967' 'acc82897'\n",
            " 'acc50236' 'acc33979' 'acc54288' 'acc90621' 'acc77551' 'acc83222'\n",
            " 'acc40717' 'acc80611' 'acc94052' 'acc54508' 'acc89017' 'acc15227'\n",
            " 'acc83776' 'acc25986' 'acc14278' 'acc24168' 'acc16862' 'acc81776'\n",
            " 'acc61408' 'acc82132' 'acc88942' 'acc17037' 'acc70626' 'acc66411'\n",
            " 'acc95145' 'acc54180' 'acc33515' 'acc46586' 'acc71632' 'acc29057'\n",
            " 'acc71625' 'acc98343' 'acc34706' 'acc14761' 'acc98875' 'acc88081'\n",
            " 'acc60117' 'acc95501' 'acc62122' 'acc29178' 'acc75685' 'acc73139'\n",
            " 'acc18533' 'acc35980' 'acc57367' 'acc83707' 'acc58221' 'acc25052'\n",
            " 'acc87258' 'acc66129' 'acc41494' 'acc95784' 'acc76577' 'acc24008'\n",
            " 'acc22952' 'acc59051' 'acc22975' 'acc96790' 'acc27892' 'acc88990'\n",
            " 'acc38200' 'acc17474' 'acc65526' 'acc86771' 'acc77671' 'acc52594'\n",
            " 'acc86893' 'acc69604' 'acc93288' 'acc57534' 'acc31169' 'acc23612'\n",
            " 'acc91562' 'acc11957' 'acc43896' 'acc10570' 'acc16677' 'acc13307'\n",
            " 'acc49257' 'acc61134' 'acc79989' 'acc69625' 'acc25858' 'acc51379'\n",
            " 'acc37800' 'acc46197' 'acc84903' 'acc14340' 'acc75741' 'acc51717'\n",
            " 'acc25889' 'acc31580' 'acc23024' 'acc48112' 'acc14381' 'acc22693'\n",
            " 'acc62000' 'acc62562' 'acc14164' 'acc37253' 'acc43474' 'acc68021'\n",
            " 'acc15981' 'acc22823' 'acc62489' 'acc66261' 'acc37482' 'acc18274'\n",
            " 'acc94359' 'acc46333' 'acc53354' 'acc86399' 'acc51829' 'acc52463'\n",
            " 'acc44641' 'acc54594' 'acc79850' 'acc65895' 'acc72775' 'acc12639'\n",
            " 'acc31420' 'acc86537' 'acc53944' 'acc62754' 'acc47965' 'acc66287'\n",
            " 'acc78722' 'acc77950' 'acc72184' 'acc19368' 'acc27786' 'acc16531'\n",
            " 'acc76210' 'acc68069' 'acc77747' 'acc57627' 'acc67196' 'acc99054'\n",
            " 'acc17123' 'acc69738' 'acc43417' 'acc51110' 'acc34029' 'acc57840'\n",
            " 'acc88176' 'acc92170' 'acc56564' 'acc97389' 'acc64984' 'acc54756'\n",
            " 'acc67499' 'acc30798' 'acc34512' 'acc14432' 'acc31534' 'acc32347'\n",
            " 'acc39701' 'acc26086' 'acc10603' 'acc90854' 'acc35662' 'acc78538'\n",
            " 'acc80544' 'acc54962' 'acc76710' 'acc14700' 'acc56361' 'acc48627'\n",
            " 'acc35927' 'acc15595' 'acc37487' 'acc65856' 'acc40448' 'acc38736'\n",
            " 'acc12216' 'acc54943' 'acc62620' 'acc19769' 'acc20942' 'acc96779'\n",
            " 'acc25122' 'acc19742' 'acc18670' 'acc28763' 'acc45358' 'acc64953'\n",
            " 'acc67234' 'acc96531' 'acc42613' 'acc63967' 'acc51158' 'acc81579'\n",
            " 'acc10043' 'acc74642' 'acc92160' 'acc32540' 'acc63567' 'acc29295'\n",
            " 'acc63082' 'acc18963' 'acc33497' 'acc51556' 'acc36830' 'acc93504'\n",
            " 'acc47989' 'acc59721' 'acc32144' 'acc80202' 'acc46536' 'acc86774'\n",
            " 'acc21381' 'acc29889' 'acc17862' 'acc88171' 'acc71245' 'acc32541'\n",
            " 'acc87678' 'acc83881' 'acc43635' 'acc54720' 'acc39498' 'acc64300'\n",
            " 'acc28994' 'acc14492' 'acc45542' 'acc53507' 'acc59937' 'acc54067'\n",
            " 'acc76875' 'acc49283' 'acc22466' 'acc51174' 'acc68203' 'acc36712'\n",
            " 'acc92050' 'acc63042' 'acc70707' 'acc95768' 'acc93548' 'acc64402'\n",
            " 'acc64441' 'acc87519' 'acc41101' 'acc59531' 'acc65747' 'acc33501'\n",
            " 'acc25570' 'acc69666' 'acc78839' 'acc97313' 'acc72164' 'acc13367'\n",
            " 'acc98822' 'acc75732' 'acc30411' 'acc53228' 'acc93016' 'acc53374'\n",
            " 'acc12241' 'acc15821' 'acc52775' 'acc50375' 'acc43060' 'acc79822'\n",
            " 'acc36805' 'acc42183' 'acc19437' 'acc81116' 'acc62925' 'acc85661'\n",
            " 'acc11813' 'acc81145' 'acc89997' 'acc85972' 'acc29423' 'acc49487'\n",
            " 'acc82186' 'acc33260' 'acc44381' 'acc31830' 'acc93380' 'acc92545'\n",
            " 'acc86428' 'acc80030' 'acc79263' 'acc81093' 'acc77412' 'acc59486'\n",
            " 'acc95824' 'acc71715' 'acc64877' 'acc37810' 'acc86726' 'acc29509'\n",
            " 'acc79388' 'acc58666' 'acc47900' 'acc17010' 'acc82235' 'acc51850'\n",
            " 'acc11504' 'acc11332' 'acc30731' 'acc13852' 'acc57933' 'acc57771'\n",
            " 'acc59255' 'acc24360' 'acc89958' 'acc92647' 'acc93575' 'acc67439'\n",
            " 'acc91269' 'acc94322' 'acc49997' 'acc79905' 'acc89895' 'acc35025'\n",
            " 'acc99416' 'acc34184' 'acc52545' 'acc25920' 'acc11424' 'acc36029'\n",
            " 'acc79416' 'acc45883' 'acc15918' 'acc44416' 'acc45182' 'acc44598'\n",
            " 'acc40248' 'acc94948' 'acc92208' 'acc80174' 'acc17126' 'acc13209'\n",
            " 'acc57300' 'acc19946' 'acc53033' 'acc67448' 'acc38343' 'acc54102'\n",
            " 'acc12207' 'acc58064' 'acc73573' 'acc72707' 'acc94127' 'acc11158'\n",
            " 'acc30234' 'acc90264' 'acc70377' 'acc52350' 'acc48258' 'acc17345'\n",
            " 'acc92997' 'acc87072' 'acc54274' 'acc39373' 'acc88350' 'acc22912'\n",
            " 'acc84446' 'acc21138' 'acc47209' 'acc26383' 'acc53418' 'acc16801'\n",
            " 'acc21784' 'acc86251' 'acc24939' 'acc58088' 'acc80321' 'acc91152'\n",
            " 'acc90361' 'acc17264' 'acc93166' 'acc29789' 'acc90929' 'acc67387'\n",
            " 'acc80662' 'acc83705' 'acc53270' 'acc48398' 'acc30969' 'acc74504'\n",
            " 'acc16774' 'acc48659' 'acc82654' 'acc63242' 'acc31311' 'acc38378'\n",
            " 'acc99685' 'acc86589' 'acc83546' 'acc30530' 'acc68077' 'acc98677'\n",
            " 'acc59991' 'acc23369' 'acc18443' 'acc32554' 'acc93583' 'acc69257'\n",
            " 'acc56048' 'acc33191' 'acc17147' 'acc43485' 'acc26439' 'acc15906'\n",
            " 'acc11488' 'acc65344' 'acc74938' 'acc55255' 'acc54347' 'acc89533'\n",
            " 'acc66816' 'acc82213' 'acc40581' 'acc85559' 'acc58690' 'acc57197'\n",
            " 'acc24633' 'acc69694' 'acc31529' 'acc33822' 'acc51023' 'acc20600'\n",
            " 'acc88851' 'acc24137' 'acc86374' 'acc56362' 'acc69599' 'acc37684'\n",
            " 'acc88153' 'acc23178' 'acc56851' 'acc78719' 'acc36472' 'acc29164'\n",
            " 'acc60718' 'acc23026' 'acc51112' 'acc75427' 'acc51575' 'acc20907'\n",
            " 'acc72542' 'acc45743' 'acc38144' 'acc83854' 'acc80118' 'acc56050'\n",
            " 'acc83760' 'acc39856' 'acc54077' 'acc84611' 'acc52895' 'acc72948'\n",
            " 'acc23367' 'acc86247' 'acc41289' 'acc30916' 'acc61414' 'acc26647'\n",
            " 'acc27800' 'acc63134' 'acc69574' 'acc34544' 'acc54388' 'acc50244'\n",
            " 'acc47642' 'acc95052' 'acc64767' 'acc47545' 'acc60899' 'acc38285'\n",
            " 'acc33315' 'acc45373' 'acc91943' 'acc54899' 'acc25507' 'acc94090'\n",
            " 'acc70107' 'acc32083' 'acc25289' 'acc33817' 'acc49865' 'acc11540'\n",
            " 'acc25990' 'acc63657' 'acc17441' 'acc20418' 'acc40938' 'acc65243'\n",
            " 'acc47279' 'acc31607' 'acc49408' 'acc79097' 'acc38775' 'acc48963'\n",
            " 'acc54726' 'acc24619' 'acc73211' 'acc13689' 'acc55725' 'acc50252'\n",
            " 'acc77377' 'acc23210' 'acc91947' 'acc12696' 'acc23220' 'acc63630'\n",
            " 'acc76684' 'acc67469' 'acc55326' 'acc29500' 'acc68685' 'acc38711'\n",
            " 'acc17584' 'acc58817' 'acc58423' 'acc29209' 'acc56902' 'acc24856'\n",
            " 'acc55016' 'acc93381' 'acc89343' 'acc57443' 'acc12431' 'acc24867'\n",
            " 'acc14110' 'acc98880' 'acc84364' 'acc14105' 'acc10098' 'acc50000'\n",
            " 'acc40458' 'acc49933' 'acc48564' 'acc67884' 'acc98500' 'acc22774'\n",
            " 'acc69928' 'acc45635' 'acc59588' 'acc76335' 'acc83660' 'acc79424'\n",
            " 'acc41052' 'acc45754' 'acc85339' 'acc64812' 'acc44202' 'acc60880'\n",
            " 'acc97883' 'acc49715' 'acc39682' 'acc28678' 'acc43334' 'acc98981'\n",
            " 'acc69673' 'acc31273' 'acc45335' 'acc68992' 'acc13948' 'acc79886'\n",
            " 'acc95972' 'acc95938' 'acc76523' 'acc16789']\n",
            "\n",
            "\n",
            "Unique Values in receiver_account_id:\n",
            "['acc16656' 'acc32826' 'acc92481' 'acc76457' 'acc11419' 'acc76710'\n",
            " 'acc51105' 'acc93536' 'acc24018' 'acc53580' 'acc27800' 'acc57086'\n",
            " 'acc77317' 'acc11992' 'acc67993' 'acc33985' 'acc53807' 'acc24911'\n",
            " 'acc83767' 'acc39244' 'acc67913' 'acc33014' 'acc75202' 'acc73085'\n",
            " 'acc71125' 'acc93416' 'acc11375' 'acc36754' 'acc21043' 'acc11454'\n",
            " 'acc76590' 'acc98945' 'acc27770' 'acc14535' 'acc34396' 'acc42784'\n",
            " 'acc18973' 'acc47976' 'acc76557' 'acc52922' 'acc78786' 'acc48951'\n",
            " 'acc64106' 'acc45185' 'acc78072' 'acc10609' 'acc15217' 'acc13238'\n",
            " 'acc66726' 'acc36934' 'acc88988' 'acc51725' 'acc33619' 'acc99378'\n",
            " 'acc58633' 'acc54608' 'acc22595' 'acc56165' 'acc67743' 'acc54323'\n",
            " 'acc98669' 'acc26440' 'acc12045' 'acc16913' 'acc75671' 'acc21510'\n",
            " 'acc63217' 'acc51611' 'acc43420' 'acc33681' 'acc58355' 'acc38394'\n",
            " 'acc80439' 'acc30757' 'acc68473' 'acc65346' 'acc15608' 'acc46222'\n",
            " 'acc77786' 'acc80677' 'acc31216' 'acc32223' 'acc13653' 'acc50698'\n",
            " 'acc11678' 'acc86789' 'acc53471' 'acc98698' 'acc89104' 'acc89011'\n",
            " 'acc40110' 'acc52947' 'acc56767' 'acc67695' 'acc13222' 'acc16323'\n",
            " 'acc59805' 'acc23899' 'acc87898' 'acc54485' 'acc83421' 'acc75053'\n",
            " 'acc75035' 'acc98334' 'acc23780' 'acc76152' 'acc99356' 'acc40926'\n",
            " 'acc31436' 'acc44992' 'acc32275' 'acc20704' 'acc99759' 'acc52904'\n",
            " 'acc87309' 'acc31994' 'acc66043' 'acc44684' 'acc11205' 'acc39270'\n",
            " 'acc28803' 'acc11919' 'acc56214' 'acc75393' 'acc67099' 'acc75071'\n",
            " 'acc20308' 'acc81417' 'acc96391' 'acc51253' 'acc96936' 'acc53217'\n",
            " 'acc73264' 'acc16610' 'acc13373' 'acc88630' 'acc52745' 'acc48565'\n",
            " 'acc45161' 'acc57156' 'acc48714' 'acc88363' 'acc57380' 'acc24649'\n",
            " 'acc33256' 'acc94743' 'acc44295' 'acc27407' 'acc73104' 'acc58930'\n",
            " 'acc35128' 'acc43787' 'acc88440' 'acc13364' 'acc14932' 'acc99246'\n",
            " 'acc39708' 'acc94835' 'acc77651' 'acc98744' 'acc83827' 'acc80855'\n",
            " 'acc39126' 'acc33847' 'acc90072' 'acc68618' 'acc58378' 'acc15053'\n",
            " 'acc71591' 'acc23301' 'acc41163' 'acc47753' 'acc60005' 'acc69134'\n",
            " 'acc36490' 'acc83717' 'acc53019' 'acc27643' 'acc79506' 'acc76771'\n",
            " 'acc28381' 'acc77895' 'acc54913' 'acc43122' 'acc75385' 'acc45800'\n",
            " 'acc85405' 'acc86891' 'acc48171' 'acc51280' 'acc40298' 'acc15009'\n",
            " 'acc31111' 'acc55639' 'acc77206' 'acc82129' 'acc49515' 'acc31061'\n",
            " 'acc92735' 'acc68798' 'acc67828' 'acc96495' 'acc60301' 'acc24401'\n",
            " 'acc96195' 'acc33742' 'acc80059' 'acc17647' 'acc33986' 'acc44762'\n",
            " 'acc33168' 'acc18989' 'acc15338' 'acc22759' 'acc95542' 'acc39408'\n",
            " 'acc47248' 'acc38990' 'acc88670' 'acc30369' 'acc86376' 'acc62616'\n",
            " 'acc68622' 'acc78955' 'acc58882' 'acc92100' 'acc69691' 'acc15124'\n",
            " 'acc91457' 'acc49745' 'acc29213' 'acc80153' 'acc83670' 'acc72358'\n",
            " 'acc40460' 'acc20750' 'acc64761' 'acc13675' 'acc81604' 'acc24107'\n",
            " 'acc26269' 'acc40915' 'acc87457' 'acc50730' 'acc64719' 'acc28114'\n",
            " 'acc86799' 'acc91092' 'acc12289' 'acc21651' 'acc60532' 'acc34461'\n",
            " 'acc77910' 'acc15125' 'acc80929' 'acc30649' 'acc19859' 'acc14567'\n",
            " 'acc20440' 'acc73922' 'acc13338' 'acc36212' 'acc64354' 'acc42325'\n",
            " 'acc55417' 'acc48167' 'acc37746' 'acc27556' 'acc29666' 'acc81872'\n",
            " 'acc94355' 'acc49458' 'acc10329' 'acc94408' 'acc27545' 'acc99000'\n",
            " 'acc41010' 'acc79951' 'acc33894' 'acc31378' 'acc74535' 'acc23555'\n",
            " 'acc73219' 'acc97616' 'acc16571' 'acc81334' 'acc89448' 'acc69061'\n",
            " 'acc41959' 'acc62373' 'acc37850' 'acc76225' 'acc81316' 'acc77756'\n",
            " 'acc68425' 'acc16562' 'acc62896' 'acc88691' 'acc88461' 'acc18193'\n",
            " 'acc31727' 'acc17504' 'acc41258' 'acc59787' 'acc28376' 'acc90748'\n",
            " 'acc81450' 'acc14470' 'acc40785' 'acc63134' 'acc44378' 'acc63130'\n",
            " 'acc52411' 'acc12865' 'acc65654' 'acc13115' 'acc33210' 'acc90820'\n",
            " 'acc25721' 'acc47130' 'acc64337' 'acc36014' 'acc77116' 'acc41588'\n",
            " 'acc87532' 'acc90437' 'acc25665' 'acc49961' 'acc90819' 'acc44155'\n",
            " 'acc72599' 'acc18439' 'acc16251' 'acc36346' 'acc70271' 'acc74796'\n",
            " 'acc69706' 'acc33563' 'acc86295' 'acc76935' 'acc28087' 'acc71363'\n",
            " 'acc44249' 'acc64136' 'acc62524' 'acc27937' 'acc50497' 'acc70845'\n",
            " 'acc28310' 'acc72282' 'acc60371' 'acc16514' 'acc32304' 'acc36439'\n",
            " 'acc77043' 'acc55617' 'acc83566' 'acc64983' 'acc32073' 'acc27946'\n",
            " 'acc51094' 'acc83779' 'acc82248' 'acc20606' 'acc76210' 'acc72460'\n",
            " 'acc61092' 'acc36351' 'acc87838' 'acc11323' 'acc28270' 'acc37375'\n",
            " 'acc54434' 'acc66040' 'acc42631' 'acc44726' 'acc25846' 'acc35641'\n",
            " 'acc77176' 'acc97228' 'acc10646' 'acc22763' 'acc13443' 'acc41835'\n",
            " 'acc93951' 'acc46748' 'acc17672' 'acc86980' 'acc20083' 'acc59742'\n",
            " 'acc77438' 'acc58959' 'acc19142' 'acc59429' 'acc35168' 'acc84653'\n",
            " 'acc97477' 'acc37349' 'acc90703' 'acc93985' 'acc87619' 'acc81516'\n",
            " 'acc81646' 'acc80434' 'acc20011' 'acc22675' 'acc93631' 'acc37965'\n",
            " 'acc12590' 'acc50554' 'acc46336' 'acc98216' 'acc42975' 'acc22352'\n",
            " 'acc38763' 'acc93972' 'acc17005' 'acc82997' 'acc65897' 'acc22247'\n",
            " 'acc97385' 'acc83087' 'acc74234' 'acc39686' 'acc72954' 'acc61397'\n",
            " 'acc84271' 'acc39144' 'acc92031' 'acc33562' 'acc64850' 'acc15379'\n",
            " 'acc54938' 'acc48199' 'acc92241' 'acc76859' 'acc53126' 'acc49623'\n",
            " 'acc82152' 'acc14717' 'acc69811' 'acc54187' 'acc11262' 'acc17057'\n",
            " 'acc65100' 'acc67444' 'acc30664' 'acc21803' 'acc54925' 'acc85248'\n",
            " 'acc19157' 'acc62788' 'acc12270' 'acc20319' 'acc68862' 'acc51605'\n",
            " 'acc14447' 'acc94038' 'acc74207' 'acc96544' 'acc12414' 'acc33118'\n",
            " 'acc51255' 'acc10188' 'acc26214' 'acc31487' 'acc92454' 'acc10365'\n",
            " 'acc39186' 'acc59716' 'acc98500' 'acc15731' 'acc36613' 'acc46633'\n",
            " 'acc31975' 'acc88485' 'acc38025' 'acc52100' 'acc55052' 'acc96031'\n",
            " 'acc26670' 'acc81518' 'acc45396' 'acc82293' 'acc99186' 'acc64737'\n",
            " 'acc58113' 'acc26228' 'acc29018' 'acc38158' 'acc70740' 'acc61352'\n",
            " 'acc47672' 'acc73317' 'acc51744' 'acc72211' 'acc70535' 'acc74572'\n",
            " 'acc45567' 'acc58562' 'acc70488' 'acc45348' 'acc37967' 'acc37883'\n",
            " 'acc56878' 'acc81577' 'acc65977' 'acc58914' 'acc14262' 'acc15453'\n",
            " 'acc21840' 'acc87821' 'acc85794' 'acc33467' 'acc84166' 'acc89206'\n",
            " 'acc76372' 'acc61121' 'acc23917' 'acc37084' 'acc44593' 'acc49786'\n",
            " 'acc93041' 'acc28489' 'acc11844' 'acc11656' 'acc49541' 'acc23970'\n",
            " 'acc42485' 'acc32041' 'acc84079' 'acc75576' 'acc38867' 'acc66957'\n",
            " 'acc74980' 'acc52400' 'acc38471' 'acc41719' 'acc21813' 'acc23188'\n",
            " 'acc40570' 'acc19310' 'acc64592' 'acc35639' 'acc59708' 'acc94255'\n",
            " 'acc88372' 'acc56703' 'acc73802' 'acc42119' 'acc43390' 'acc25255'\n",
            " 'acc16417' 'acc82392' 'acc49474' 'acc63067' 'acc77787' 'acc41695'\n",
            " 'acc79065' 'acc89196' 'acc10943' 'acc98533' 'acc34138' 'acc97489'\n",
            " 'acc17598' 'acc99464' 'acc38719' 'acc90800' 'acc55793' 'acc63698'\n",
            " 'acc46950' 'acc33049' 'acc80224' 'acc28777' 'acc66528' 'acc20263'\n",
            " 'acc22519' 'acc90045' 'acc51551' 'acc93558' 'acc23501' 'acc29632'\n",
            " 'acc54482' 'acc47587' 'acc45278' 'acc93425' 'acc48982' 'acc65514'\n",
            " 'acc14023' 'acc12346' 'acc62664' 'acc95607' 'acc44899' 'acc12310'\n",
            " 'acc52926' 'acc31081' 'acc77079' 'acc49534' 'acc64201' 'acc57803'\n",
            " 'acc68938' 'acc49366' 'acc43275' 'acc18211' 'acc14865' 'acc80536'\n",
            " 'acc44204' 'acc32118' 'acc55222' 'acc24097' 'acc35313' 'acc47717'\n",
            " 'acc22910' 'acc66183' 'acc42918' 'acc90350' 'acc27191' 'acc70447'\n",
            " 'acc88019' 'acc30873' 'acc78035' 'acc97558' 'acc18427' 'acc96401'\n",
            " 'acc11551' 'acc20884' 'acc27326' 'acc52674' 'acc35791' 'acc75996'\n",
            " 'acc97491' 'acc82859' 'acc23303' 'acc20579' 'acc75628' 'acc57313'\n",
            " 'acc50642' 'acc83760' 'acc11488' 'acc83474' 'acc38629' 'acc69873'\n",
            " 'acc94847' 'acc65341' 'acc38750' 'acc64544' 'acc97070' 'acc85697'\n",
            " 'acc90586' 'acc81365' 'acc49006' 'acc19376' 'acc72083' 'acc84423'\n",
            " 'acc22724' 'acc17922' 'acc44246' 'acc92864' 'acc30527' 'acc63075'\n",
            " 'acc85728' 'acc67654' 'acc61130' 'acc53403' 'acc42106' 'acc41126'\n",
            " 'acc97513' 'acc55381' 'acc23216' 'acc45784' 'acc20563' 'acc28336'\n",
            " 'acc61224' 'acc20765' 'acc66184' 'acc19149' 'acc81617' 'acc35613'\n",
            " 'acc25732' 'acc87833' 'acc89361' 'acc67774' 'acc33694' 'acc72898'\n",
            " 'acc33988' 'acc43879' 'acc73924' 'acc53869' 'acc46887' 'acc70548'\n",
            " 'acc75119' 'acc33267' 'acc40073' 'acc87522' 'acc90268' 'acc31357'\n",
            " 'acc75676' 'acc32424' 'acc30363' 'acc99632' 'acc43808' 'acc68041'\n",
            " 'acc48009' 'acc25267' 'acc83342' 'acc45138' 'acc84084' 'acc92174'\n",
            " 'acc75306' 'acc65003' 'acc20498' 'acc45900' 'acc72767' 'acc28013'\n",
            " 'acc87379' 'acc83875' 'acc99902' 'acc38562' 'acc75108' 'acc11635'\n",
            " 'acc10131' 'acc81007' 'acc15352' 'acc45857' 'acc28763' 'acc30295'\n",
            " 'acc77032' 'acc73653' 'acc95588' 'acc95644' 'acc14965' 'acc52429'\n",
            " 'acc28955' 'acc53003' 'acc36461' 'acc33093' 'acc61944' 'acc61999'\n",
            " 'acc79384' 'acc19289' 'acc17821' 'acc16705' 'acc26690' 'acc94273'\n",
            " 'acc67292' 'acc61088' 'acc89466' 'acc44016' 'acc83140' 'acc56028'\n",
            " 'acc10182' 'acc70147' 'acc29832' 'acc80838' 'acc49076' 'acc90513'\n",
            " 'acc64197' 'acc68204' 'acc98355' 'acc53686' 'acc78651' 'acc41609'\n",
            " 'acc46999' 'acc86824' 'acc71691' 'acc20460' 'acc11206' 'acc27415'\n",
            " 'acc37690' 'acc89260' 'acc74408' 'acc22063' 'acc88828' 'acc54603'\n",
            " 'acc51652' 'acc16628' 'acc20352' 'acc69265' 'acc47933' 'acc68442'\n",
            " 'acc93368' 'acc89896' 'acc72385' 'acc76158' 'acc42527' 'acc52637'\n",
            " 'acc47277' 'acc45215' 'acc60295' 'acc55770' 'acc92611' 'acc30926'\n",
            " 'acc82883' 'acc39807' 'acc96021' 'acc32898' 'acc53228' 'acc74032'\n",
            " 'acc34735' 'acc93263' 'acc54740' 'acc25519' 'acc12075' 'acc47063'\n",
            " 'acc33437' 'acc92038' 'acc74025' 'acc84687' 'acc51180' 'acc74772'\n",
            " 'acc91872' 'acc11191' 'acc88672' 'acc77960' 'acc58022' 'acc55129'\n",
            " 'acc50164' 'acc68913' 'acc25906' 'acc86016' 'acc45130' 'acc77139'\n",
            " 'acc88438' 'acc83101' 'acc81725' 'acc43835' 'acc16905' 'acc61043'\n",
            " 'acc19227' 'acc83990' 'acc31302' 'acc67106' 'acc74499' 'acc32205'\n",
            " 'acc36081' 'acc19669' 'acc45640' 'acc37839' 'acc32656' 'acc36005'\n",
            " 'acc13227' 'acc68236' 'acc58950' 'acc92724' 'acc59865' 'acc58029'\n",
            " 'acc22098' 'acc17633' 'acc11813' 'acc82517' 'acc69190' 'acc92572'\n",
            " 'acc15360' 'acc98730' 'acc45292' 'acc87697' 'acc70681' 'acc20677'\n",
            " 'acc32552' 'acc90021' 'acc38259' 'acc96893' 'acc16121' 'acc19048'\n",
            " 'acc93214' 'acc72758' 'acc31108' 'acc54890' 'acc76958' 'acc82377'\n",
            " 'acc71307' 'acc34218' 'acc79026' 'acc73164' 'acc64624' 'acc32440'\n",
            " 'acc24658' 'acc23684' 'acc53350' 'acc97810' 'acc75322' 'acc56353'\n",
            " 'acc31249' 'acc99897' 'acc52983' 'acc87149' 'acc63782' 'acc69900'\n",
            " 'acc54899' 'acc42196' 'acc22881' 'acc73926' 'acc37552' 'acc49609'\n",
            " 'acc66018' 'acc81444' 'acc63108' 'acc59622' 'acc83737' 'acc27531'\n",
            " 'acc48785' 'acc85398' 'acc35382' 'acc91669' 'acc63233' 'acc46023'\n",
            " 'acc29493' 'acc28978' 'acc87765' 'acc65983' 'acc86726' 'acc81346'\n",
            " 'acc35086' 'acc65237' 'acc84695' 'acc75675' 'acc18461' 'acc64838'\n",
            " 'acc60511' 'acc40732' 'acc26901' 'acc37128' 'acc48865' 'acc47641'\n",
            " 'acc89370' 'acc95826' 'acc16021' 'acc68542' 'acc71473' 'acc52823'\n",
            " 'acc11572' 'acc18968' 'acc17457' 'acc67272' 'acc83176' 'acc31384'\n",
            " 'acc21488' 'acc15157' 'acc57773' 'acc36989' 'acc98722' 'acc32226'\n",
            " 'acc15152' 'acc85547' 'acc17339' 'acc86151' 'acc54104' 'acc31584'\n",
            " 'acc72286' 'acc26850' 'acc11124' 'acc68403' 'acc50278' 'acc67672'\n",
            " 'acc40602' 'acc43497' 'acc47327' 'acc72307' 'acc31423' 'acc92966'\n",
            " 'acc54669' 'acc88043' 'acc54219' 'acc13991' 'acc12069' 'acc61845'\n",
            " 'acc15272' 'acc93414' 'acc63706' 'acc44209' 'acc31355' 'acc13917'\n",
            " 'acc95407' 'acc56026' 'acc40432' 'acc14886' 'acc82680' 'acc94809'\n",
            " 'acc71524' 'acc10486' 'acc62283' 'acc21230' 'acc31560' 'acc73310'\n",
            " 'acc60940' 'acc75160' 'acc10363' 'acc32882' 'acc71806' 'acc14903'\n",
            " 'acc50750' 'acc18507' 'acc95234' 'acc21980']\n",
            "\n",
            "\n",
            "Unique Values in transaction_type:\n",
            "['deposit' 'withdrawal' 'transfer']\n",
            "\n",
            "\n",
            "Unique Values in transaction_status:\n",
            "['failed' 'success']\n",
            "\n",
            "\n",
            "Unique Values in geolocation_(latitude/longitude):\n",
            "['34.0522 n, -74.006 w' '35.6895 n, -118.2437 w' '48.8566 n, 2.3522 w'\n",
            " '55.7558 n, 37.6173 w' '35.6895 n, 139.6917 w' '55.7558 n, 2.3522 w'\n",
            " '48.8566 n, -118.2437 w' '40.7128 n, -118.2437 w' '34.0522 n, 2.3522 w'\n",
            " '34.0522 n, 37.6173 w' '40.7128 n, 2.3522 w' '55.7558 n, -74.006 w'\n",
            " '34.0522 n, -118.2437 w' '51.5074 n, 0.1278 w' '48.8566 n, -74.006 w'\n",
            " '35.6895 n, 0.1278 w' '48.8566 n, 37.6173 w' '40.7128 n, -74.006 w'\n",
            " '35.6895 n, 37.6173 w' '51.5074 n, -118.2437 w' '51.5074 n, 37.6173 w'\n",
            " '40.7128 n, 37.6173 w' '51.5074 n, -74.006 w' '34.0522 n, 139.6917 w'\n",
            " '55.7558 n, 0.1278 w' '34.0522 n, 0.1278 w' '35.6895 n, -74.006 w'\n",
            " '48.8566 n, 139.6917 w' '35.6895 n, 2.3522 w' '48.8566 n, 0.1278 w'\n",
            " '55.7558 n, -118.2437 w' '40.7128 n, 0.1278 w' '55.7558 n, 139.6917 w'\n",
            " '51.5074 n, 139.6917 w' '40.7128 n, 139.6917 w' '51.5074 n, 2.3522 w']\n",
            "\n",
            "\n",
            "Unique Values in device_used:\n",
            "['desktop' 'mobile']\n",
            "\n",
            "\n",
            "Unique Values in network_slice_id:\n",
            "['slice3' 'slice2' 'slice1']\n",
            "\n",
            "\n"
          ]
        }
      ]
    },
    {
      "cell_type": "markdown",
      "source": [
        "## **6.7. Outlier Detections for Numerical Features**\n",
        "\n",
        "In this step, we investigate potential outliers in the numerical columns using boxplots. Outliers can indicate data entry errors or unusual behavior."
      ],
      "metadata": {
        "id": "B59rPO_0xBkQ"
      }
    },
    {
      "cell_type": "markdown",
      "source": [
        "###**6.7.A Visualizing Outlier Through BoxPlots**"
      ],
      "metadata": {
        "id": "MTEZ6tdnxD2q"
      }
    },
    {
      "cell_type": "code",
      "source": [
        "# Set up figure size\n",
        "plt.figure(figsize=(5 * len(numerical_columns), 5))  # Dynamic width\n",
        "\n",
        "# Loop through each numerical column and plot a boxplot\n",
        "for i, col in enumerate(numerical_columns):\n",
        "    # Create dynamic subplots (1 row, N columns)\n",
        "    plt.subplot(1, len(numerical_columns), i + 1)\n",
        "\n",
        "    sns.boxplot(y=df[col], color='skyblue')\n",
        "    plt.title(f'Boxplot of {col}')\n",
        "    plt.ylabel('')\n",
        "    plt.grid(True)\n",
        "\n",
        "plt.tight_layout()\n",
        "plt.show()"
      ],
      "metadata": {
        "colab": {
          "base_uri": "https://localhost:8080/",
          "height": 361
        },
        "collapsed": true,
        "id": "4g38quJix2wb",
        "outputId": "8b771cf2-6c61-4aa2-8bc5-9ca7e108d877"
      },
      "execution_count": 50,
      "outputs": [
        {
          "output_type": "display_data",
          "data": {
            "text/plain": [
              "<Figure size 2000x500 with 4 Axes>"
            ],
            "image/png": "[encoded data removed]"
          },
          "metadata": {}
        }
      ]
    },
    {
      "cell_type": "markdown",
      "source": [
        "**Boxplot Interpretation**\n",
        "\n",
        "**Transaction** **Amount**\n",
        "\n",
        "Range: ~50 to ~1500\n",
        "\n",
        "Median: ~750\n",
        "\n",
        "No clear outliers; distribution appears symmetric and spread out.\n",
        "\n",
        "**Latency (ms)**\n",
        "\n",
        "Range: ~3 to 20 ms\n",
        "Median: ~12 ms\n",
        "Distribution is compact; values are consistent with no outliers.\n",
        "\n",
        "**Slice Bandwidth (Mbps)**\n",
        "\n",
        "Range: ~50 to 250 Mbps\n",
        "\n",
        "Median: ~150 Mbps\n",
        "\n",
        "Values are well-distributed with no extreme variations.\n",
        "\n",
        "**PIN Code**\n",
        "\n",
        "Range: ~1000 to 10000\n",
        "\n",
        "Median: ~5500\n",
        "\n",
        "Though treated as numeric, PIN codes are categorical and not suitable for boxplot analysis."
      ],
      "metadata": {
        "id": "pqt4RnF-yMVH"
      }
    },
    {
      "cell_type": "markdown",
      "source": [
        "### **6.7. B. Statistical Detection of Outliers using IQR**\n",
        "\n",
        "In addition to visual inspection through boxplots, we use the IQR method to programmatically detect potential outliers in the numerical features. This helps in identifying the number and position of values that lie far outside the normal range and could distort our analysis.\n"
      ],
      "metadata": {
        "id": "xzh0FQJ9yt-I"
      }
    },
    {
      "cell_type": "code",
      "source": [
        "# Function to detect outliers using the IQR method\n",
        "def detect_outliers_iqr(data, column):\n",
        "    Q1 = data[column].quantile(0.25)  # First quartile (25%)\n",
        "    Q3 = data[column].quantile(0.75)  # Third quartile (75%)\n",
        "    IQR = Q3 - Q1                     # Interquartile range\n",
        "    lower_bound = Q1 - 1.5 * IQR      # Lower limit for non-outliers\n",
        "    upper_bound = Q3 + 1.5 * IQR      # Upper limit for non-outliers\n",
        "    outliers = data[(data[column] < lower_bound) | (data[column] > upper_bound)]\n",
        "    return outliers\n",
        "\n",
        "# Loop through numerical columns and report number of outliers in each\n",
        "for col in numerical_columns:\n",
        "    outliers = detect_outliers_iqr(df, col)\n",
        "    print(f\"{col}: {len(outliers)} outliers detected\")"
      ],
      "metadata": {
        "colab": {
          "base_uri": "https://localhost:8080/"
        },
        "id": "PF0wnYWxywdc",
        "outputId": "e9509f57-5483-4d72-f9fd-75743df6876d"
      },
      "execution_count": 51,
      "outputs": [
        {
          "output_type": "stream",
          "name": "stdout",
          "text": [
            "transaction_amount: 0 outliers detected\n",
            "latency_(ms): 0 outliers detected\n",
            "slice_bandwidth_(mbps): 0 outliers detected\n",
            "pin_code: 0 outliers detected\n"
          ]
        }
      ]
    },
    {
      "cell_type": "markdown",
      "source": [
        "#**7. Exploratory Data Analysis - Visualization and Insights**"
      ],
      "metadata": {
        "id": "U6zGvg-w0Pnm"
      }
    },
    {
      "cell_type": "markdown",
      "source": [
        "In this section, we use visualizations to uncover patterns, trends, and relationships within the data, helping generate meaningful insights for further analysis."
      ],
      "metadata": {
        "id": "XlM-SyjC0WQU"
      }
    },
    {
      "cell_type": "markdown",
      "source": [
        "##**7.1. Univariate Analysis**\n",
        "Univariate Analysis help understand the distribution and characteristics of individual variables within the dataset. In this step, we explore each feature independently to identify patterns, dominant categories, central tendency, spread, and potential anomalies."
      ],
      "metadata": {
        "id": "rD3Jr9cD0gTb"
      }
    },
    {
      "cell_type": "code",
      "source": [
        "df.columns\n"
      ],
      "metadata": {
        "id": "P-SMkrAh0jt-",
        "colab": {
          "base_uri": "https://localhost:8080/"
        },
        "outputId": "75d02bf8-340e-4b85-ee73-55082e54768a"
      },
      "execution_count": 52,
      "outputs": [
        {
          "output_type": "execute_result",
          "data": {
            "text/plain": [
              "Index(['transaction_id', 'sender_account_id', 'receiver_account_id',\n",
              "       'transaction_amount', 'transaction_type', 'timestamp',\n",
              "       'transaction_status', 'fraud_flag', 'geolocation_(latitude/longitude)',\n",
              "       'device_used', 'network_slice_id', 'latency_(ms)',\n",
              "       'slice_bandwidth_(mbps)', 'pin_code'],\n",
              "      dtype='object')"
            ]
          },
          "metadata": {},
          "execution_count": 52
        }
      ]
    },
    {
      "cell_type": "code",
      "source": [
        "  df['pin_code'].value_counts()"
      ],
      "metadata": {
        "colab": {
          "base_uri": "https://localhost:8080/",
          "height": 489
        },
        "collapsed": true,
        "id": "P1lW6ArHD7pS",
        "outputId": "33c1f5ac-21fc-4a46-eb60-65de1726a09a"
      },
      "execution_count": 96,
      "outputs": [
        {
          "output_type": "execute_result",
          "data": {
            "text/plain": [
              "pin_code\n",
              "3751    3\n",
              "4347    2\n",
              "9631    2\n",
              "5077    2\n",
              "4182    2\n",
              "       ..\n",
              "7280    1\n",
              "3460    1\n",
              "5983    1\n",
              "3075    1\n",
              "3772    1\n",
              "Name: count, Length: 948, dtype: int64"
            ],
            "text/html": [
              "<div>\n",
              "<style scoped>\n",
              "    .dataframe tbody tr th:only-of-type {\n",
              "        vertical-align: middle;\n",
              "    }\n",
              "\n",
              "    .dataframe tbody tr th {\n",
              "        vertical-align: top;\n",
              "    }\n",
              "\n",
              "    .dataframe thead th {\n",
              "        text-align: right;\n",
              "    }\n",
              "</style>\n",
              "<table border=\"1\" class=\"dataframe\">\n",
              "  <thead>\n",
              "    <tr style=\"text-align: right;\">\n",
              "      <th></th>\n",
              "      <th>count</th>\n",
              "    </tr>\n",
              "    <tr>\n",
              "      <th>pin_code</th>\n",
              "      <th></th>\n",
              "    </tr>\n",
              "  </thead>\n",
              "  <tbody>\n",
              "    <tr>\n",
              "      <th>3751</th>\n",
              "      <td>3</td>\n",
              "    </tr>\n",
              "    <tr>\n",
              "      <th>4347</th>\n",
              "      <td>2</td>\n",
              "    </tr>\n",
              "    <tr>\n",
              "      <th>9631</th>\n",
              "      <td>2</td>\n",
              "    </tr>\n",
              "    <tr>\n",
              "      <th>5077</th>\n",
              "      <td>2</td>\n",
              "    </tr>\n",
              "    <tr>\n",
              "      <th>4182</th>\n",
              "      <td>2</td>\n",
              "    </tr>\n",
              "    <tr>\n",
              "      <th>...</th>\n",
              "      <td>...</td>\n",
              "    </tr>\n",
              "    <tr>\n",
              "      <th>7280</th>\n",
              "      <td>1</td>\n",
              "    </tr>\n",
              "    <tr>\n",
              "      <th>3460</th>\n",
              "      <td>1</td>\n",
              "    </tr>\n",
              "    <tr>\n",
              "      <th>5983</th>\n",
              "      <td>1</td>\n",
              "    </tr>\n",
              "    <tr>\n",
              "      <th>3075</th>\n",
              "      <td>1</td>\n",
              "    </tr>\n",
              "    <tr>\n",
              "      <th>3772</th>\n",
              "      <td>1</td>\n",
              "    </tr>\n",
              "  </tbody>\n",
              "</table>\n",
              "<p>948 rows × 1 columns</p>\n",
              "</div><br><label><b>dtype:</b> int64</label>"
            ]
          },
          "metadata": {},
          "execution_count": 96
        }
      ]
    },
    {
      "cell_type": "markdown",
      "source": [
        "**Transaction_status  \n",
        "Plot Used - Bar Plot**"
      ],
      "metadata": {
        "id": "Gvcdm2HeIoLM"
      }
    },
    {
      "cell_type": "code",
      "source": [
        "status_counts = df['transaction_status'].value_counts().reset_index()\n",
        "status_counts.columns = ['transaction_status', 'count']\n",
        "\n",
        "# Step 2: Create the bar plot\n",
        "plt.figure(figsize=(8, 6))\n",
        "ax = sns.barplot(x='transaction_status', y='count', data=status_counts, color=\"green\")\n",
        "\n",
        "# Step 3: Add count labels on top of bars\n",
        "for p in ax.patches:\n",
        "    ax.text(p.get_x() + p.get_width()/2, p.get_height() + 0.5,\n",
        "            int(p.get_height()), ha='center', va='bottom')\n",
        "\n",
        "# Step 4: Titles and axis labels\n",
        "plt.title('Transaction Status Distribution')\n",
        "plt.xlabel('Transaction Status')\n",
        "plt.ylabel('Count')\n",
        "\n",
        "plt.tight_layout()\n",
        "plt.show()"
      ],
      "metadata": {
        "colab": {
          "base_uri": "https://localhost:8080/",
          "height": 601
        },
        "id": "__FbsQ6RIEt1",
        "outputId": "c0d582f7-e78c-4045-da20-cb36ae1472ae"
      },
      "execution_count": 70,
      "outputs": [
        {
          "output_type": "display_data",
          "data": {
            "text/plain": [
              "<Figure size 800x600 with 1 Axes>"
            ],
            "image/png": "[encoded data removed]"
          },
          "metadata": {}
        }
      ]
    },
    {
      "cell_type": "markdown",
      "source": [
        "**Interpretation**\n",
        "We observe that the out of the total transactions in the dataset which was 1000.\n",
        "1. Failed Status - 513\n",
        "2. Sucess Status - 487"
      ],
      "metadata": {
        "id": "xDt6PAagJDWW"
      }
    },
    {
      "cell_type": "markdown",
      "source": [
        "**Fraud Flag**\n",
        "\n",
        "**Plot Used - Bar Plot**"
      ],
      "metadata": {
        "id": "LFfbYo6SJVn9"
      }
    },
    {
      "cell_type": "code",
      "source": [
        "\n",
        "plt.figure(figsize=(4, 5))\n",
        "\n",
        "# Count plot for boolean fraud_flag\n",
        "ax = sns.countplot(x='fraud_flag', data=df,color=\"orange\")\n",
        "\n",
        "# Add values on top of bars\n",
        "for p in ax.patches:\n",
        "    ax.text(p.get_x() + p.get_width() / 2,\n",
        "            p.get_height() + 0.5,\n",
        "            int(p.get_height()),\n",
        "            ha='center', va='bottom')\n",
        "\n",
        "# Labels and title\n",
        "plt.title('Fraud Flag Count')\n",
        "plt.xlabel('Fraud Flag Status')\n",
        "plt.ylabel('Transaction Count')\n",
        "plt.xticks([0, 1], ['True', 'False'])\n",
        "\n",
        "plt.tight_layout()\n",
        "plt.show()\n"
      ],
      "metadata": {
        "colab": {
          "base_uri": "https://localhost:8080/",
          "height": 501
        },
        "id": "5WAKxQJ9JbFw",
        "outputId": "6a8b1615-0cbc-4969-afb6-d2194825b0f3"
      },
      "execution_count": 57,
      "outputs": [
        {
          "output_type": "display_data",
          "data": {
            "text/plain": [
              "<Figure size 400x500 with 1 Axes>"
            ],
            "image/png": "[encoded data removed]"
          },
          "metadata": {}
        }
      ]
    },
    {
      "cell_type": "markdown",
      "source": [
        "**Interpretation** - **"
      ],
      "metadata": {
        "id": "YBZq4zERVmj1"
      }
    },
    {
      "cell_type": "markdown",
      "source": [
        "**Transaction Type**\n",
        "**Plot Used - Pie Chart**"
      ],
      "metadata": {
        "id": "uCUE4wToW-qk"
      }
    },
    {
      "cell_type": "code",
      "source": [
        "import matplotlib.pyplot as plt\n",
        "\n",
        "# Count values\n",
        "fraud_counts = df['transaction_type'].value_counts()\n",
        "\n",
        "# Labels and colors\n",
        "labels = ['Deposit', 'transfer','withdrawl']\n",
        "colors = ['lightgreen', 'salmon','yellow']\n",
        "\n",
        "# Pie chart\n",
        "plt.figure(figsize=(6, 6))\n",
        "plt.pie(fraud_counts, labels=labels, autopct='%1.1f%%', startangle=90, colors=colors, explode=(0,0,0))\n",
        "plt.title('Transaction type Distribution')\n",
        "plt.axis('equal')  # Equal aspect ratio ensures the pie is circular\n",
        "plt.show()\n"
      ],
      "metadata": {
        "colab": {
          "base_uri": "https://localhost:8080/",
          "height": 525
        },
        "id": "KnzweD3zXRwa",
        "outputId": "7c9f67d0-cc3a-4e0b-ec68-3342a809b7d3"
      },
      "execution_count": 67,
      "outputs": [
        {
          "output_type": "display_data",
          "data": {
            "text/plain": [
              "<Figure size 600x600 with 1 Axes>"
            ],
            "image/png": "[encoded data removed]"
          },
          "metadata": {}
        }
      ]
    },
    {
      "cell_type": "markdown",
      "source": [
        "**Device Used**\n",
        "\n",
        "**Plot Used**  - Bar chart"
      ],
      "metadata": {
        "id": "-S7qBMB_4JtG"
      }
    },
    {
      "cell_type": "code",
      "source": [
        "device_use = df['device_used'].value_counts().reset_index()\n",
        "device_use.columns = ['device_used', 'count']\n",
        "\n",
        "# Step 1: Create the bar plot\n",
        "plt.figure(figsize=(8, 6))\n",
        "ax = sns.barplot(x='device_used', y='count', data=device_use, color=\"grey\")\n",
        "\n",
        "# Step 3: Add count labels on top of bars\n",
        "for p in ax.patches:\n",
        "    ax.text(p.get_x() + p.get_width()/2, p.get_height() + 0.5,\n",
        "            int(p.get_height()), ha='center', va='bottom')\n",
        "\n",
        "# Step 4: Titles and axis labels\n",
        "plt.title('Distribution of Device Used')\n",
        "plt.xlabel('Types of Device used')\n",
        "plt.ylabel('Count')\n",
        "\n",
        "plt.tight_layout()\n",
        "plt.show()\n"
      ],
      "metadata": {
        "colab": {
          "base_uri": "https://localhost:8080/",
          "height": 601
        },
        "id": "O3H22EVy4QTs",
        "outputId": "fdac287a-4a16-4ffc-8f07-7b6254284e6a"
      },
      "execution_count": 75,
      "outputs": [
        {
          "output_type": "display_data",
          "data": {
            "text/plain": [
              "<Figure size 800x600 with 1 Axes>"
            ],
            "image/png": "[encoded data removed]"
          },
          "metadata": {}
        }
      ]
    },
    {
      "cell_type": "markdown",
      "source": [
        "**Interpretation** - *Mobile are 521 and desktop are 479*"
      ],
      "metadata": {
        "id": "YYJwsD-c8UPJ"
      }
    },
    {
      "cell_type": "markdown",
      "source": [
        "**NetworkSlice ID**\n",
        "**Plot Used**"
      ],
      "metadata": {
        "id": "kA_uOe408ewD"
      }
    },
    {
      "cell_type": "code",
      "source": [
        "# Count values\n",
        "slice_counts = df['network_slice_id'].value_counts().reset_index()\n",
        "slice_counts.columns = ['network_slice_id', 'count']\n",
        "\n",
        "# Bar plot\n",
        "plt.figure(figsize=(10, 6))\n",
        "ax = sns.barplot(x='network_slice_id', y='count', data=slice_counts, color='red')\n",
        "\n",
        "# Add value labels on top of bars\n",
        "for p in ax.patches:\n",
        "    ax.text(p.get_x() + p.get_width() / 2,\n",
        "            p.get_height() + 0.5,\n",
        "            int(p.get_height()),\n",
        "            ha='center', va='bottom', fontsize=11)\n",
        "\n",
        "# Titles and labels\n",
        "plt.title('Network Slice ID Distribution', fontsize=14)\n",
        "plt.xlabel('Network Slice ID', fontsize=12)\n",
        "plt.ylabel('Count', fontsize=12)\n",
        "plt.xticks(rotation=0)\n",
        "plt.tight_layout()\n",
        "plt.show()\n",
        "\n"
      ],
      "metadata": {
        "colab": {
          "base_uri": "https://localhost:8080/",
          "height": 600
        },
        "id": "NrTmmsuR9A_j",
        "outputId": "4714bd9c-0335-43c8-9322-496a98e532f0"
      },
      "execution_count": 92,
      "outputs": [
        {
          "output_type": "display_data",
          "data": {
            "text/plain": [
              "<Figure size 1000x600 with 1 Axes>"
            ],
            "image/png": "[encoded data removed]"
          },
          "metadata": {}
        }
      ]
    },
    {
      "cell_type": "markdown",
      "source": [
        "**Interpretation** -  \n",
        "\n",
        "*Slice1 -  323*\n",
        "\n",
        "*Slice2 - 337*\n",
        "\n",
        "*Slice3 - 340*"
      ],
      "metadata": {
        "id": "m5SAProb-Z8-"
      }
    },
    {
      "cell_type": "markdown",
      "source": [
        "##**7.2 Bivariate Analysis**\n",
        "\n",
        "Bivariate analysis explores the relationship between two variables. It helps identify patterns, correlations, or interactions between a dependent and an independent variable (or two independents). This step builds on univariate analysis by revealing how one feature may influence or relate to another."
      ],
      "metadata": {
        "id": "9maGeboN-q2d"
      }
    },
    {
      "cell_type": "markdown",
      "source": [],
      "metadata": {
        "id": "89RmVAEU_inB"
      }
    },
    {
      "cell_type": "code",
      "source": [
        "numerical_cols = df.select_dtypes(include=['int64', 'float64']).columns\n",
        "print(\"Numerical columns:\", numerical_cols.tolist())\n"
      ],
      "metadata": {
        "colab": {
          "base_uri": "https://localhost:8080/"
        },
        "id": "PSnxoWDmAWDV",
        "outputId": "24329765-7194-411d-d39b-fc5452ec5afa"
      },
      "execution_count": 97,
      "outputs": [
        {
          "output_type": "stream",
          "name": "stdout",
          "text": [
            "Numerical columns: ['transaction_amount', 'latency_(ms)', 'slice_bandwidth_(mbps)', 'pin_code']\n"
          ]
        }
      ]
    },
    {
      "cell_type": "code",
      "source": [
        "categorical_cols = df.select_dtypes(include=['object', 'category']).columns\n",
        "print(\"Categorical columns:\", categorical_cols.tolist())"
      ],
      "metadata": {
        "colab": {
          "base_uri": "https://localhost:8080/"
        },
        "id": "ozkwFJjoAYHr",
        "outputId": "11138f67-389b-47ff-d395-516713adc35a"
      },
      "execution_count": 98,
      "outputs": [
        {
          "output_type": "stream",
          "name": "stdout",
          "text": [
            "Categorical columns: ['transaction_id', 'sender_account_id', 'receiver_account_id', 'transaction_type', 'transaction_status', 'geolocation_(latitude/longitude)', 'device_used', 'network_slice_id']\n"
          ]
        }
      ]
    },
    {
      "cell_type": "code",
      "source": [
        "bool_cols = df.select_dtypes(include=['bool']).columns\n",
        "print(\"Boolean columns:\", bool_cols.tolist())"
      ],
      "metadata": {
        "colab": {
          "base_uri": "https://localhost:8080/"
        },
        "id": "fIhnlMjoAZB4",
        "outputId": "7af01d63-8a0a-4e08-8de9-0e1d66adbe9b"
      },
      "execution_count": 99,
      "outputs": [
        {
          "output_type": "stream",
          "name": "stdout",
          "text": [
            "Boolean columns: ['fraud_flag']\n"
          ]
        }
      ]
    },
    {
      "cell_type": "markdown",
      "source": [
        "**Categorical vs Categorical**"
      ],
      "metadata": {
        "id": "6KnFk5vBCZav"
      }
    },
    {
      "cell_type": "markdown",
      "source": [
        "transaction_type vs transaction status"
      ],
      "metadata": {
        "id": "gkfs_EaBCd-z"
      }
    },
    {
      "cell_type": "code",
      "source": [
        "\n",
        "plt.figure(figsize=(10, 6))\n",
        "\n",
        "# Create grouped bar plot\n",
        "sns.countplot(x='transaction_type', hue='transaction_status', data=df, palette='Set2')\n",
        "\n",
        "# Add titles and labels\n",
        "plt.title('Transaction Type vs Transaction Status', fontsize=14)\n",
        "plt.xlabel('Transaction Type', fontsize=12)\n",
        "plt.ylabel('Count', fontsize=12)\n",
        "plt.legend(title='Transaction Status')\n",
        "plt.xticks(rotation=0)\n",
        "\n",
        "plt.tight_layout()\n",
        "plt.show()"
      ],
      "metadata": {
        "colab": {
          "base_uri": "https://localhost:8080/",
          "height": 600
        },
        "id": "BiHE0HJTCdcO",
        "outputId": "1009f0ae-6bec-421c-e389-0904db29ca86"
      },
      "execution_count": 102,
      "outputs": [
        {
          "output_type": "display_data",
          "data": {
            "text/plain": [
              "<Figure size 1000x600 with 1 Axes>"
            ],
            "image/png": "[encoded data removed]"
          },
          "metadata": {}
        }
      ]
    },
    {
      "cell_type": "markdown",
      "source": [
        "transaction_type vs device_used"
      ],
      "metadata": {
        "id": "HB9i1yNVEowL"
      }
    },
    {
      "cell_type": "code",
      "source": [
        "import pandas as pd\n",
        "import matplotlib.pyplot as plt\n",
        "\n",
        "# Step 1: Create a frequency table\n",
        "stack_data = pd.crosstab(df['transaction_type'], df['device_used'])\n",
        "\n",
        "# Step 2: Plot stacked bar chart\n",
        "stack_data.plot(kind='bar', stacked=True, figsize=(10, 6), colormap='Set2')\n",
        "\n",
        "# Step 3: Add titles and labels\n",
        "plt.title('Stacked Bar Chart: Transaction Type vs Device Used', fontsize=14)\n",
        "plt.xlabel('Transaction Type', fontsize=12)\n",
        "plt.ylabel('Count', fontsize=12)\n",
        "plt.legend(title='Device Used', bbox_to_anchor=(1.05, 1), loc='upper left')\n",
        "plt.tight_layout()\n",
        "plt.xticks(rotation=0)\n",
        "plt.show()\n"
      ],
      "metadata": {
        "colab": {
          "base_uri": "https://localhost:8080/",
          "height": 532
        },
        "id": "Bm2ngKOPEsOW",
        "outputId": "7a6c4ced-794d-45cf-9bc3-13b560730db2"
      },
      "execution_count": 110,
      "outputs": [
        {
          "output_type": "display_data",
          "data": {
            "text/plain": [
              "<Figure size 1000x600 with 1 Axes>"
            ],
            "image/png": "[encoded data removed]"
          },
          "metadata": {}
        }
      ]
    },
    {
      "cell_type": "code",
      "source": [
        "import pandas as pd\n",
        "import matplotlib.pyplot as plt\n",
        "\n",
        "# Step 1: Create a crosstab (contingency table)\n",
        "stack_data = pd.crosstab(df['transaction_type'], df['network_slice_id'])\n",
        "\n",
        "# Step 2: Plot as stacked bar chart\n",
        "stack_data.plot(kind='bar', stacked=True, figsize=(10, 6), colormap='Set2')\n",
        "\n",
        "# Step 3: Formatting\n",
        "plt.title('Stacked Bar Chart: Transaction Type vs Network Slice ID', fontsize=14)\n",
        "plt.xlabel('Transaction Type', fontsize=12)\n",
        "plt.ylabel('Count', fontsize=12)\n",
        "plt.legend(title='Network Slice ID', bbox_to_anchor=(1.05, 1), loc='upper left')\n",
        "plt.tight_layout()\n",
        "plt.xticks(rotation=0)\n",
        "plt.show()\n"
      ],
      "metadata": {
        "colab": {
          "base_uri": "https://localhost:8080/",
          "height": 532
        },
        "id": "8qDjkkl0E6qn",
        "outputId": "fad1dac8-858e-46fd-97bd-3ad0f24babae"
      },
      "execution_count": 109,
      "outputs": [
        {
          "output_type": "display_data",
          "data": {
            "text/plain": [
              "<Figure size 1000x600 with 1 Axes>"
            ],
            "image/png": "[encoded data removed]"
          },
          "metadata": {}
        }
      ]
    }
  ]
}