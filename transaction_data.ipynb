{
  "nbformat": 4,
  "nbformat_minor": 0,
  "metadata": {
    "colab": {
      "provenance": [],
      "authorship_tag": "ABX9TyOYKGNZ/3IRNao+zmaBeiwR",
      "include_colab_link": true
    },
    "kernelspec": {
      "name": "python3",
      "display_name": "Python 3"
    },
    "language_info": {
      "name": "python"
    }
  },
  "cells": [
    {
      "cell_type": "markdown",
      "metadata": {
        "id": "view-in-github",
        "colab_type": "text"
      },
      "source": [
        "<a href=\"https://colab.research.google.com/github/Sagarjain93/Operations_transaction_Data/blob/main/transaction_data.ipynb\" target=\"_parent\"><img src=\"https://colab.research.google.com/assets/colab-badge.svg\" alt=\"Open In Colab\"/></a>"
      ]
    },
    {
      "cell_type": "markdown",
      "source": [
        "#**Project Title - Operational Transaction Data Analysis**"
      ],
      "metadata": {
        "id": "EujgOwqXeAGM"
      }
    },
    {
      "cell_type": "markdown",
      "source": [
        "#**1. Introduction**"
      ],
      "metadata": {
        "id": "Ww_y-76hd-VE"
      }
    },
    {
      "cell_type": "markdown",
      "source": [
        "This project focuses on the exploratory analysis of operational transaction data to uncover behavioral patterns, potential fraud indicators, and performance bottlenecks. The dataset comprises detailed records of digital transactions including user identifiers, transaction metadata, network characteristics (like latency and bandwidth), device information, and fraud labels. Given the integration of both financial and network-level parameters, this dataset offers a unique opportunity to analyze how operational conditions impact financial transactions, and whether they correlate with suspicious or failed activities. The aim is to derive actionable insights that can support anomaly detection, fraud prevention, and system optimization."
      ],
      "metadata": {
        "id": "oGlK6DsGhpSt"
      }
    },
    {
      "cell_type": "markdown",
      "source": [
        "*Potential Hypotheses to Explore*\n",
        "\n",
        "**Fraud Detection Hypotheses**\n",
        "\n",
        "1.Transactions with unusually high amounts have a higher chance of being fraudulent.\n",
        "\n",
        "2.Fraudulent transactions are more likely to be initiated from mobile or unknown devices.\n",
        "\n",
        "3.Transactions with higher latency or low bandwidth are more prone to fraud.\n",
        "\n",
        "**Behavioral/Usage Patterns**\n",
        "\n",
        "1.Users typically interact with a fixed set of counterparties (receiver accounts).\n",
        "\n",
        "2.Certain PIN codes (locations) show higher transaction volumes or fraud rates.\n",
        "\n",
        "**Network Impact Hypotheses**\n",
        "\n",
        "1.Higher network latency is associated with increased transaction failures.\n",
        "\n",
        "2.Specific Network Slice IDs are more commonly associated with failed or delayed transactions.\n",
        "\n",
        "**Temporal Trends**\n",
        "\n",
        "1.Fraudulent activity peaks during specific hours of the day or days of the week.\n",
        "\n",
        "2.Transaction volume is higher during business hours and lower on weekends.\n",
        "\n",
        "**Geolocation Hypotheses**\n",
        "\n",
        "1.Certain geolocations (based on latitude/longitude or PIN code) are hotspots for fraud.\n",
        "\n",
        "2.Distance between sender and receiver accounts correlates with fraud probability."
      ],
      "metadata": {
        "id": "EFws34cShp78"
      }
    },
    {
      "cell_type": "markdown",
      "source": [
        "#**2. Data Description**"
      ],
      "metadata": {
        "id": "HA3dzrrPeKjH"
      }
    },
    {
      "cell_type": "markdown",
      "source": [
        "This dataset contains transactional records from an operational system, capturing various attributes related to digital money transfers.\n",
        "\n",
        "**Transaction ID:** Unique identifier for each transaction.\n",
        "\n",
        "**Sender Account ID:** ID of the account initiating the transaction.\n",
        "\n",
        "**Receiver Account ID:** ID of the account receiving the funds.\n",
        "\n",
        "**Transaction Amount:** Monetary value involved in the transaction.\n",
        "\n",
        "**Transaction Type:** Type/category of the transaction (e.g., transfer, withdrawal, deposit).\n",
        "\n",
        "**Timestamp:** Date and time when the transaction occurred.\n",
        "\n",
        "**Transaction Status:** Status of the transaction (e.g., success, failed, pending).\n",
        "\n",
        "**Fraud Flag:** Binary indicator (1 = fraudulent, 0 = genuine).\n",
        "\n",
        "**Geolocation (Latitude/Longitude):** Coordinates of the transaction origin.\n",
        "\n",
        "**Device Used:** Device type used to perform the transaction (e.g., mobile, desktop).\n",
        "\n",
        "**Network Slice ID:** ID of the network slice allocated during the transaction (5G context).\n",
        "\n",
        "**Latency (ms):** Network latency experienced during the transaction.\n",
        "\n",
        "**Slice Bandwidth (Mbps):** Bandwidth available via the assigned network slice.\n",
        "\n",
        "**PIN Code:** Postal code of the user’s location during the transaction."
      ],
      "metadata": {
        "id": "UyXOnoLVgBHi"
      }
    },
    {
      "cell_type": "markdown",
      "source": [
        "#**3. Import Libraries**"
      ],
      "metadata": {
        "id": "qN6OV6BweSZ9"
      }
    },
    {
      "cell_type": "code",
      "source": [
        "#Data Manipulation Libraries\n",
        "import pandas as pd\n",
        "import numpy as np\n",
        "\n",
        "#Data Visualization Libraries\n",
        "import matplotlib.pyplot as plt\n",
        "import seaborn as sns\n",
        "\n",
        "#Set Consistent theme for all plots\n",
        "sns.set_theme(style=\"whitegrid\")"
      ],
      "metadata": {
        "id": "5Q5Ts9KyeZFM"
      },
      "execution_count": 2,
      "outputs": []
    },
    {
      "cell_type": "code",
      "source": [
        "from google.colab import drive\n",
        "drive.mount('/content/drive')"
      ],
      "metadata": {
        "colab": {
          "base_uri": "https://localhost:8080/"
        },
        "id": "zxDk4iHfexln",
        "outputId": "8f9c65b1-43b5-488a-c987-3231fe1a87fb"
      },
      "execution_count": 5,
      "outputs": [
        {
          "output_type": "stream",
          "name": "stdout",
          "text": [
            "Mounted at /content/drive\n"
          ]
        }
      ]
    },
    {
      "cell_type": "markdown",
      "source": [
        "#**4. Load Dataset**"
      ],
      "metadata": {
        "id": "ifAGPegwfQCi"
      }
    },
    {
      "cell_type": "markdown",
      "source": [
        "\n",
        "To begin the analysis, the marketing dataset is loaded directly from Google Drive. This approach ensures convenient access to the data stored in the cloud, especially when working in collaborative or cloud-based environments like Google Colab. By mounting Google Drive or using a shareable link, we can seamlessly import the dataset into our workspace for further processing and analysis."
      ],
      "metadata": {
        "id": "8KooexkdfZJg"
      }
    },
    {
      "cell_type": "code",
      "source": [
        "df = pd.read_csv('/content/drive/MyDrive/colab/eda/8. Operations/transaction_data.csv')"
      ],
      "metadata": {
        "id": "zygbAccYfZxr"
      },
      "execution_count": 6,
      "outputs": []
    },
    {
      "cell_type": "code",
      "source": [
        "df.columns\n"
      ],
      "metadata": {
        "colab": {
          "base_uri": "https://localhost:8080/"
        },
        "id": "DfYK7j6kf0Oo",
        "outputId": "882a866c-76e2-4462-fba5-a02d396dd93d"
      },
      "execution_count": 7,
      "outputs": [
        {
          "output_type": "execute_result",
          "data": {
            "text/plain": [
              "Index(['Transaction ID', 'Sender Account ID', 'Receiver Account ID',\n",
              "       'Transaction Amount', 'Transaction Type', 'Timestamp',\n",
              "       'Transaction Status', 'Fraud Flag', 'Geolocation (Latitude/Longitude)',\n",
              "       'Device Used', 'Network Slice ID', 'Latency (ms)',\n",
              "       'Slice Bandwidth (Mbps)', 'PIN Code'],\n",
              "      dtype='object')"
            ]
          },
          "metadata": {},
          "execution_count": 7
        }
      ]
    },
    {
      "cell_type": "markdown",
      "source": [
        "#**5. Inital Data Inspection**"
      ],
      "metadata": {
        "id": "lzANGB4HieHT"
      }
    },
    {
      "cell_type": "markdown",
      "source": [
        "to gain a foundational understanding of the dataset, we begin with an initial inspection that covers several essential aspects. This includes previewing the first few records to get a sense of the structure and values, examining the data types of each feature to ensure they align with expectations, and reviewing the overall shape and completeness of the dataset. We also generate statistical summaries for both numerical and categorical features to identify distributions, detect potential anomalies, and guide further steps in the analysis pipeline."
      ],
      "metadata": {
        "id": "cxTJ99e9ip5Q"
      }
    },
    {
      "cell_type": "markdown",
      "source": [
        "##**Preview 1st Few Records**"
      ],
      "metadata": {
        "id": "9gG3Q6bEjXab"
      }
    },
    {
      "cell_type": "code",
      "source": [
        "# Show First 5 rows of the data set\n",
        "df.head()"
      ],
      "metadata": {
        "colab": {
          "base_uri": "https://localhost:8080/",
          "height": 327
        },
        "id": "QrLeMgvXjSo3",
        "outputId": "e2e070d9-208e-4858-c0f1-417206b80a3e"
      },
      "execution_count": 8,
      "outputs": [
        {
          "output_type": "execute_result",
          "data": {
            "text/plain": [
              "  Transaction ID Sender Account ID Receiver Account ID  Transaction Amount  \\\n",
              "0  TXN9520068950          ACC14994            ACC16656              495.90   \n",
              "1  TXN9412011085          ACC58958            ACC32826              529.62   \n",
              "2  TXN4407425052          ACC56321            ACC92481              862.47   \n",
              "3  TXN2214150284          ACC48650            ACC76457             1129.88   \n",
              "4  TXN4247571145          ACC60921            ACC11419              933.24   \n",
              "\n",
              "  Transaction Type            Timestamp Transaction Status  Fraud Flag  \\\n",
              "0          Deposit  2025-01-17 10:14:00             Failed        True   \n",
              "1       Withdrawal  2025-01-17 10:51:00            Success       False   \n",
              "2       Withdrawal  2025-01-17 10:50:00             Failed       False   \n",
              "3         Transfer  2025-01-17 10:56:00            Success        True   \n",
              "4          Deposit  2025-01-17 10:25:00            Success        True   \n",
              "\n",
              "  Geolocation (Latitude/Longitude) Device Used Network Slice ID  Latency (ms)  \\\n",
              "0             34.0522 N, -74.006 W     Desktop           Slice3            10   \n",
              "1           35.6895 N, -118.2437 W      Mobile           Slice2            11   \n",
              "2              48.8566 N, 2.3522 W      Mobile           Slice1             4   \n",
              "3             34.0522 N, -74.006 W      Mobile           Slice3            10   \n",
              "4             55.7558 N, 37.6173 W      Mobile           Slice3            20   \n",
              "\n",
              "   Slice Bandwidth (Mbps)  PIN Code  \n",
              "0                     179      3075  \n",
              "1                      89      2369  \n",
              "2                      53      8039  \n",
              "3                     127      6374  \n",
              "4                     191      8375  "
            ],
            "text/html": [
              "\n",
              "  <div id=\"df-de2b63d8-db7d-4dd8-b64a-820ad4a5dbed\" class=\"colab-df-container\">\n",
              "    <div>\n",
              "<style scoped>\n",
              "    .dataframe tbody tr th:only-of-type {\n",
              "        vertical-align: middle;\n",
              "    }\n",
              "\n",
              "    .dataframe tbody tr th {\n",
              "        vertical-align: top;\n",
              "    }\n",
              "\n",
              "    .dataframe thead th {\n",
              "        text-align: right;\n",
              "    }\n",
              "</style>\n",
              "<table border=\"1\" class=\"dataframe\">\n",
              "  <thead>\n",
              "    <tr style=\"text-align: right;\">\n",
              "      <th></th>\n",
              "      <th>Transaction ID</th>\n",
              "      <th>Sender Account ID</th>\n",
              "      <th>Receiver Account ID</th>\n",
              "      <th>Transaction Amount</th>\n",
              "      <th>Transaction Type</th>\n",
              "      <th>Timestamp</th>\n",
              "      <th>Transaction Status</th>\n",
              "      <th>Fraud Flag</th>\n",
              "      <th>Geolocation (Latitude/Longitude)</th>\n",
              "      <th>Device Used</th>\n",
              "      <th>Network Slice ID</th>\n",
              "      <th>Latency (ms)</th>\n",
              "      <th>Slice Bandwidth (Mbps)</th>\n",
              "      <th>PIN Code</th>\n",
              "    </tr>\n",
              "  </thead>\n",
              "  <tbody>\n",
              "    <tr>\n",
              "      <th>0</th>\n",
              "      <td>TXN9520068950</td>\n",
              "      <td>ACC14994</td>\n",
              "      <td>ACC16656</td>\n",
              "      <td>495.90</td>\n",
              "      <td>Deposit</td>\n",
              "      <td>2025-01-17 10:14:00</td>\n",
              "      <td>Failed</td>\n",
              "      <td>True</td>\n",
              "      <td>34.0522 N, -74.006 W</td>\n",
              "      <td>Desktop</td>\n",
              "      <td>Slice3</td>\n",
              "      <td>10</td>\n",
              "      <td>179</td>\n",
              "      <td>3075</td>\n",
              "    </tr>\n",
              "    <tr>\n",
              "      <th>1</th>\n",
              "      <td>TXN9412011085</td>\n",
              "      <td>ACC58958</td>\n",
              "      <td>ACC32826</td>\n",
              "      <td>529.62</td>\n",
              "      <td>Withdrawal</td>\n",
              "      <td>2025-01-17 10:51:00</td>\n",
              "      <td>Success</td>\n",
              "      <td>False</td>\n",
              "      <td>35.6895 N, -118.2437 W</td>\n",
              "      <td>Mobile</td>\n",
              "      <td>Slice2</td>\n",
              "      <td>11</td>\n",
              "      <td>89</td>\n",
              "      <td>2369</td>\n",
              "    </tr>\n",
              "    <tr>\n",
              "      <th>2</th>\n",
              "      <td>TXN4407425052</td>\n",
              "      <td>ACC56321</td>\n",
              "      <td>ACC92481</td>\n",
              "      <td>862.47</td>\n",
              "      <td>Withdrawal</td>\n",
              "      <td>2025-01-17 10:50:00</td>\n",
              "      <td>Failed</td>\n",
              "      <td>False</td>\n",
              "      <td>48.8566 N, 2.3522 W</td>\n",
              "      <td>Mobile</td>\n",
              "      <td>Slice1</td>\n",
              "      <td>4</td>\n",
              "      <td>53</td>\n",
              "      <td>8039</td>\n",
              "    </tr>\n",
              "    <tr>\n",
              "      <th>3</th>\n",
              "      <td>TXN2214150284</td>\n",
              "      <td>ACC48650</td>\n",
              "      <td>ACC76457</td>\n",
              "      <td>1129.88</td>\n",
              "      <td>Transfer</td>\n",
              "      <td>2025-01-17 10:56:00</td>\n",
              "      <td>Success</td>\n",
              "      <td>True</td>\n",
              "      <td>34.0522 N, -74.006 W</td>\n",
              "      <td>Mobile</td>\n",
              "      <td>Slice3</td>\n",
              "      <td>10</td>\n",
              "      <td>127</td>\n",
              "      <td>6374</td>\n",
              "    </tr>\n",
              "    <tr>\n",
              "      <th>4</th>\n",
              "      <td>TXN4247571145</td>\n",
              "      <td>ACC60921</td>\n",
              "      <td>ACC11419</td>\n",
              "      <td>933.24</td>\n",
              "      <td>Deposit</td>\n",
              "      <td>2025-01-17 10:25:00</td>\n",
              "      <td>Success</td>\n",
              "      <td>True</td>\n",
              "      <td>55.7558 N, 37.6173 W</td>\n",
              "      <td>Mobile</td>\n",
              "      <td>Slice3</td>\n",
              "      <td>20</td>\n",
              "      <td>191</td>\n",
              "      <td>8375</td>\n",
              "    </tr>\n",
              "  </tbody>\n",
              "</table>\n",
              "</div>\n",
              "    <div class=\"colab-df-buttons\">\n",
              "\n",
              "  <div class=\"colab-df-container\">\n",
              "    <button class=\"colab-df-convert\" onclick=\"convertToInteractive('df-de2b63d8-db7d-4dd8-b64a-820ad4a5dbed')\"\n",
              "            title=\"Convert this dataframe to an interactive table.\"\n",
              "            style=\"display:none;\">\n",
              "\n",
              "  <svg xmlns=\"http://www.w3.org/2000/svg\" height=\"24px\" viewBox=\"0 -960 960 960\">\n",
              "    <path d=\"M120-120v-720h720v720H120Zm60-500h600v-160H180v160Zm220 220h160v-160H400v160Zm0 220h160v-160H400v160ZM180-400h160v-160H180v160Zm440 0h160v-160H620v160ZM180-180h160v-160H180v160Zm440 0h160v-160H620v160Z\"/>\n",
              "  </svg>\n",
              "    </button>\n",
              "\n",
              "  <style>\n",
              "    .colab-df-container {\n",
              "      display:flex;\n",
              "      gap: 12px;\n",
              "    }\n",
              "\n",
              "    .colab-df-convert {\n",
              "      background-color: #E8F0FE;\n",
              "      border: none;\n",
              "      border-radius: 50%;\n",
              "      cursor: pointer;\n",
              "      display: none;\n",
              "      fill: #1967D2;\n",
              "      height: 32px;\n",
              "      padding: 0 0 0 0;\n",
              "      width: 32px;\n",
              "    }\n",
              "\n",
              "    .colab-df-convert:hover {\n",
              "      background-color: #E2EBFA;\n",
              "      box-shadow: 0px 1px 2px rgba(60, 64, 67, 0.3), 0px 1px 3px 1px rgba(60, 64, 67, 0.15);\n",
              "      fill: #174EA6;\n",
              "    }\n",
              "\n",
              "    .colab-df-buttons div {\n",
              "      margin-bottom: 4px;\n",
              "    }\n",
              "\n",
              "    [theme=dark] .colab-df-convert {\n",
              "      background-color: #3B4455;\n",
              "      fill: #D2E3FC;\n",
              "    }\n",
              "\n",
              "    [theme=dark] .colab-df-convert:hover {\n",
              "      background-color: #434B5C;\n",
              "      box-shadow: 0px 1px 3px 1px rgba(0, 0, 0, 0.15);\n",
              "      filter: drop-shadow(0px 1px 2px rgba(0, 0, 0, 0.3));\n",
              "      fill: #FFFFFF;\n",
              "    }\n",
              "  </style>\n",
              "\n",
              "    <script>\n",
              "      const buttonEl =\n",
              "        document.querySelector('#df-de2b63d8-db7d-4dd8-b64a-820ad4a5dbed button.colab-df-convert');\n",
              "      buttonEl.style.display =\n",
              "        google.colab.kernel.accessAllowed ? 'block' : 'none';\n",
              "\n",
              "      async function convertToInteractive(key) {\n",
              "        const element = document.querySelector('#df-de2b63d8-db7d-4dd8-b64a-820ad4a5dbed');\n",
              "        const dataTable =\n",
              "          await google.colab.kernel.invokeFunction('convertToInteractive',\n",
              "                                                    [key], {});\n",
              "        if (!dataTable) return;\n",
              "\n",
              "        const docLinkHtml = 'Like what you see? Visit the ' +\n",
              "          '<a target=\"_blank\" href=https://colab.research.google.com/notebooks/data_table.ipynb>data table notebook</a>'\n",
              "          + ' to learn more about interactive tables.';\n",
              "        element.innerHTML = '';\n",
              "        dataTable['output_type'] = 'display_data';\n",
              "        await google.colab.output.renderOutput(dataTable, element);\n",
              "        const docLink = document.createElement('div');\n",
              "        docLink.innerHTML = docLinkHtml;\n",
              "        element.appendChild(docLink);\n",
              "      }\n",
              "    </script>\n",
              "  </div>\n",
              "\n",
              "\n",
              "    <div id=\"df-8fd2b2b2-6e75-45f6-b6d3-b3f89d9aae7f\">\n",
              "      <button class=\"colab-df-quickchart\" onclick=\"quickchart('df-8fd2b2b2-6e75-45f6-b6d3-b3f89d9aae7f')\"\n",
              "                title=\"Suggest charts\"\n",
              "                style=\"display:none;\">\n",
              "\n",
              "<svg xmlns=\"http://www.w3.org/2000/svg\" height=\"24px\"viewBox=\"0 0 24 24\"\n",
              "     width=\"24px\">\n",
              "    <g>\n",
              "        <path d=\"M19 3H5c-1.1 0-2 .9-2 2v14c0 1.1.9 2 2 2h14c1.1 0 2-.9 2-2V5c0-1.1-.9-2-2-2zM9 17H7v-7h2v7zm4 0h-2V7h2v10zm4 0h-2v-4h2v4z\"/>\n",
              "    </g>\n",
              "</svg>\n",
              "      </button>\n",
              "\n",
              "<style>\n",
              "  .colab-df-quickchart {\n",
              "      --bg-color: #E8F0FE;\n",
              "      --fill-color: #1967D2;\n",
              "      --hover-bg-color: #E2EBFA;\n",
              "      --hover-fill-color: #174EA6;\n",
              "      --disabled-fill-color: #AAA;\n",
              "      --disabled-bg-color: #DDD;\n",
              "  }\n",
              "\n",
              "  [theme=dark] .colab-df-quickchart {\n",
              "      --bg-color: #3B4455;\n",
              "      --fill-color: #D2E3FC;\n",
              "      --hover-bg-color: #434B5C;\n",
              "      --hover-fill-color: #FFFFFF;\n",
              "      --disabled-bg-color: #3B4455;\n",
              "      --disabled-fill-color: #666;\n",
              "  }\n",
              "\n",
              "  .colab-df-quickchart {\n",
              "    background-color: var(--bg-color);\n",
              "    border: none;\n",
              "    border-radius: 50%;\n",
              "    cursor: pointer;\n",
              "    display: none;\n",
              "    fill: var(--fill-color);\n",
              "    height: 32px;\n",
              "    padding: 0;\n",
              "    width: 32px;\n",
              "  }\n",
              "\n",
              "  .colab-df-quickchart:hover {\n",
              "    background-color: var(--hover-bg-color);\n",
              "    box-shadow: 0 1px 2px rgba(60, 64, 67, 0.3), 0 1px 3px 1px rgba(60, 64, 67, 0.15);\n",
              "    fill: var(--button-hover-fill-color);\n",
              "  }\n",
              "\n",
              "  .colab-df-quickchart-complete:disabled,\n",
              "  .colab-df-quickchart-complete:disabled:hover {\n",
              "    background-color: var(--disabled-bg-color);\n",
              "    fill: var(--disabled-fill-color);\n",
              "    box-shadow: none;\n",
              "  }\n",
              "\n",
              "  .colab-df-spinner {\n",
              "    border: 2px solid var(--fill-color);\n",
              "    border-color: transparent;\n",
              "    border-bottom-color: var(--fill-color);\n",
              "    animation:\n",
              "      spin 1s steps(1) infinite;\n",
              "  }\n",
              "\n",
              "  @keyframes spin {\n",
              "    0% {\n",
              "      border-color: transparent;\n",
              "      border-bottom-color: var(--fill-color);\n",
              "      border-left-color: var(--fill-color);\n",
              "    }\n",
              "    20% {\n",
              "      border-color: transparent;\n",
              "      border-left-color: var(--fill-color);\n",
              "      border-top-color: var(--fill-color);\n",
              "    }\n",
              "    30% {\n",
              "      border-color: transparent;\n",
              "      border-left-color: var(--fill-color);\n",
              "      border-top-color: var(--fill-color);\n",
              "      border-right-color: var(--fill-color);\n",
              "    }\n",
              "    40% {\n",
              "      border-color: transparent;\n",
              "      border-right-color: var(--fill-color);\n",
              "      border-top-color: var(--fill-color);\n",
              "    }\n",
              "    60% {\n",
              "      border-color: transparent;\n",
              "      border-right-color: var(--fill-color);\n",
              "    }\n",
              "    80% {\n",
              "      border-color: transparent;\n",
              "      border-right-color: var(--fill-color);\n",
              "      border-bottom-color: var(--fill-color);\n",
              "    }\n",
              "    90% {\n",
              "      border-color: transparent;\n",
              "      border-bottom-color: var(--fill-color);\n",
              "    }\n",
              "  }\n",
              "</style>\n",
              "\n",
              "      <script>\n",
              "        async function quickchart(key) {\n",
              "          const quickchartButtonEl =\n",
              "            document.querySelector('#' + key + ' button');\n",
              "          quickchartButtonEl.disabled = true;  // To prevent multiple clicks.\n",
              "          quickchartButtonEl.classList.add('colab-df-spinner');\n",
              "          try {\n",
              "            const charts = await google.colab.kernel.invokeFunction(\n",
              "                'suggestCharts', [key], {});\n",
              "          } catch (error) {\n",
              "            console.error('Error during call to suggestCharts:', error);\n",
              "          }\n",
              "          quickchartButtonEl.classList.remove('colab-df-spinner');\n",
              "          quickchartButtonEl.classList.add('colab-df-quickchart-complete');\n",
              "        }\n",
              "        (() => {\n",
              "          let quickchartButtonEl =\n",
              "            document.querySelector('#df-8fd2b2b2-6e75-45f6-b6d3-b3f89d9aae7f button');\n",
              "          quickchartButtonEl.style.display =\n",
              "            google.colab.kernel.accessAllowed ? 'block' : 'none';\n",
              "        })();\n",
              "      </script>\n",
              "    </div>\n",
              "\n",
              "    </div>\n",
              "  </div>\n"
            ],
            "application/vnd.google.colaboratory.intrinsic+json": {
              "type": "dataframe",
              "variable_name": "df",
              "summary": "{\n  \"name\": \"df\",\n  \"rows\": 1000,\n  \"fields\": [\n    {\n      \"column\": \"Transaction ID\",\n      \"properties\": {\n        \"dtype\": \"string\",\n        \"num_unique_values\": 1000,\n        \"samples\": [\n          \"TXN1724458969\",\n          \"TXN1328647070\",\n          \"TXN3895765690\"\n        ],\n        \"semantic_type\": \"\",\n        \"description\": \"\"\n      }\n    },\n    {\n      \"column\": \"Sender Account ID\",\n      \"properties\": {\n        \"dtype\": \"string\",\n        \"num_unique_values\": 994,\n        \"samples\": [\n          \"ACC31607\",\n          \"ACC37253\",\n          \"ACC51110\"\n        ],\n        \"semantic_type\": \"\",\n        \"description\": \"\"\n      }\n    },\n    {\n      \"column\": \"Receiver Account ID\",\n      \"properties\": {\n        \"dtype\": \"string\",\n        \"num_unique_values\": 994,\n        \"samples\": [\n          \"ACC40732\",\n          \"ACC11656\",\n          \"ACC90800\"\n        ],\n        \"semantic_type\": \"\",\n        \"description\": \"\"\n      }\n    },\n    {\n      \"column\": \"Transaction Amount\",\n      \"properties\": {\n        \"dtype\": \"number\",\n        \"std\": 411.019249802274,\n        \"min\": 51.89,\n        \"max\": 1497.76,\n        \"num_unique_values\": 998,\n        \"samples\": [\n          131.53,\n          974.06,\n          1365.35\n        ],\n        \"semantic_type\": \"\",\n        \"description\": \"\"\n      }\n    },\n    {\n      \"column\": \"Transaction Type\",\n      \"properties\": {\n        \"dtype\": \"category\",\n        \"num_unique_values\": 3,\n        \"samples\": [\n          \"Deposit\",\n          \"Withdrawal\",\n          \"Transfer\"\n        ],\n        \"semantic_type\": \"\",\n        \"description\": \"\"\n      }\n    },\n    {\n      \"column\": \"Timestamp\",\n      \"properties\": {\n        \"dtype\": \"object\",\n        \"num_unique_values\": 60,\n        \"samples\": [\n          \"2025-01-17 10:14:00\",\n          \"2025-01-17 10:01:00\",\n          \"2025-01-17 10:44:00\"\n        ],\n        \"semantic_type\": \"\",\n        \"description\": \"\"\n      }\n    },\n    {\n      \"column\": \"Transaction Status\",\n      \"properties\": {\n        \"dtype\": \"category\",\n        \"num_unique_values\": 2,\n        \"samples\": [\n          \"Success\",\n          \"Failed\"\n        ],\n        \"semantic_type\": \"\",\n        \"description\": \"\"\n      }\n    },\n    {\n      \"column\": \"Fraud Flag\",\n      \"properties\": {\n        \"dtype\": \"boolean\",\n        \"num_unique_values\": 2,\n        \"samples\": [\n          false,\n          true\n        ],\n        \"semantic_type\": \"\",\n        \"description\": \"\"\n      }\n    },\n    {\n      \"column\": \"Geolocation (Latitude/Longitude)\",\n      \"properties\": {\n        \"dtype\": \"category\",\n        \"num_unique_values\": 36,\n        \"samples\": [\n          \"51.5074 N, 2.3522 W\",\n          \"51.5074 N, 0.1278 W\"\n        ],\n        \"semantic_type\": \"\",\n        \"description\": \"\"\n      }\n    },\n    {\n      \"column\": \"Device Used\",\n      \"properties\": {\n        \"dtype\": \"category\",\n        \"num_unique_values\": 2,\n        \"samples\": [\n          \"Mobile\",\n          \"Desktop\"\n        ],\n        \"semantic_type\": \"\",\n        \"description\": \"\"\n      }\n    },\n    {\n      \"column\": \"Network Slice ID\",\n      \"properties\": {\n        \"dtype\": \"category\",\n        \"num_unique_values\": 3,\n        \"samples\": [\n          \"Slice3\",\n          \"Slice2\"\n        ],\n        \"semantic_type\": \"\",\n        \"description\": \"\"\n      }\n    },\n    {\n      \"column\": \"Latency (ms)\",\n      \"properties\": {\n        \"dtype\": \"number\",\n        \"std\": 5,\n        \"min\": 3,\n        \"max\": 20,\n        \"num_unique_values\": 18,\n        \"samples\": [\n          10,\n          11\n        ],\n        \"semantic_type\": \"\",\n        \"description\": \"\"\n      }\n    },\n    {\n      \"column\": \"Slice Bandwidth (Mbps)\",\n      \"properties\": {\n        \"dtype\": \"number\",\n        \"std\": 57,\n        \"min\": 50,\n        \"max\": 250,\n        \"num_unique_values\": 199,\n        \"samples\": [\n          59,\n          82\n        ],\n        \"semantic_type\": \"\",\n        \"description\": \"\"\n      }\n    },\n    {\n      \"column\": \"PIN Code\",\n      \"properties\": {\n        \"dtype\": \"number\",\n        \"std\": 2603,\n        \"min\": 1000,\n        \"max\": 9999,\n        \"num_unique_values\": 948,\n        \"samples\": [\n          5751,\n          5983\n        ],\n        \"semantic_type\": \"\",\n        \"description\": \"\"\n      }\n    }\n  ]\n}"
            }
          },
          "metadata": {},
          "execution_count": 8
        }
      ]
    }
  ]
}