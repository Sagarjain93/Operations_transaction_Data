{
  "nbformat": 4,
  "nbformat_minor": 0,
  "metadata": {
    "colab": {
      "provenance": [],
      "authorship_tag": "ABX9TyPdbtHGyZiVryRde35o8N54",
      "include_colab_link": true
    },
    "kernelspec": {
      "name": "python3",
      "display_name": "Python 3"
    },
    "language_info": {
      "name": "python"
    }
  },
  "cells": [
    {
      "cell_type": "markdown",
      "metadata": {
        "id": "view-in-github",
        "colab_type": "text"
      },
      "source": [
        "<a href=\"https://colab.research.google.com/github/Sagarjain93/Operations_transaction_Data/blob/main/transaction_data.ipynb\" target=\"_parent\"><img src=\"https://colab.research.google.com/assets/colab-badge.svg\" alt=\"Open In Colab\"/></a>"
      ]
    },
    {
      "cell_type": "markdown",
      "source": [
        "#**Project Title - Operational Transaction Data Analysis**"
      ],
      "metadata": {
        "id": "EujgOwqXeAGM"
      }
    },
    {
      "cell_type": "markdown",
      "source": [
        "#**1. Introduction**"
      ],
      "metadata": {
        "id": "Ww_y-76hd-VE"
      }
    },
    {
      "cell_type": "markdown",
      "source": [
        "#**2. Data Description**"
      ],
      "metadata": {
        "id": "HA3dzrrPeKjH"
      }
    },
    {
      "cell_type": "markdown",
      "source": [
        "#**3. Import Libraries**"
      ],
      "metadata": {
        "id": "qN6OV6BweSZ9"
      }
    },
    {
      "cell_type": "code",
      "source": [
        "#Data Manipulation Libraries\n",
        "import pandas as pd\n",
        "import numpy as np\n",
        "\n",
        "#Data Visualization Libraries\n",
        "import matplotlib.pyplot as plt\n",
        "import seaborn as sns\n",
        "\n",
        "#Set Consistent theme for all plots\n",
        "sns.set_theme(style=\"whitegrid\")"
      ],
      "metadata": {
        "id": "5Q5Ts9KyeZFM"
      },
      "execution_count": 2,
      "outputs": []
    },
    {
      "cell_type": "code",
      "source": [
        "from google.colab import drive\n",
        "drive.mount('/content/drive')"
      ],
      "metadata": {
        "colab": {
          "base_uri": "https://localhost:8080/"
        },
        "id": "zxDk4iHfexln",
        "outputId": "8f9c65b1-43b5-488a-c987-3231fe1a87fb"
      },
      "execution_count": 5,
      "outputs": [
        {
          "output_type": "stream",
          "name": "stdout",
          "text": [
            "Mounted at /content/drive\n"
          ]
        }
      ]
    },
    {
      "cell_type": "markdown",
      "source": [
        "#**4. Load Dataset**"
      ],
      "metadata": {
        "id": "ifAGPegwfQCi"
      }
    },
    {
      "cell_type": "markdown",
      "source": [
        "\n",
        "To begin the analysis, the marketing dataset is loaded directly from Google Drive. This approach ensures convenient access to the data stored in the cloud, especially when working in collaborative or cloud-based environments like Google Colab. By mounting Google Drive or using a shareable link, we can seamlessly import the dataset into our workspace for further processing and analysis."
      ],
      "metadata": {
        "id": "8KooexkdfZJg"
      }
    },
    {
      "cell_type": "code",
      "source": [
        "df = pd.read_csv('/content/drive/MyDrive/colab/eda/8. Operations/transaction_data.csv')"
      ],
      "metadata": {
        "id": "zygbAccYfZxr"
      },
      "execution_count": 6,
      "outputs": []
    }
  ]
}